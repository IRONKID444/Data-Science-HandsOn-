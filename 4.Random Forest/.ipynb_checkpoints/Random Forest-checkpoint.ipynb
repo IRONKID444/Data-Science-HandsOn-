{
 "cells": [
  {
   "cell_type": "markdown",
   "id": "e3418d69",
   "metadata": {},
   "source": [
    "## <center> Random Forest "
   ]
  },
  {
   "cell_type": "markdown",
   "id": "39dc70f4",
   "metadata": {},
   "source": [
    "Why Random Forest  --> Decision Tree has many leaves <br>\n",
    "Random Forest is a collection of Decision Tree <br>\n"
   ]
  },
  {
   "cell_type": "markdown",
   "id": "a07cb435",
   "metadata": {},
   "source": [
    "How does a Random Forest gets build<br>\n",
    "Bagging Technique(Ensemble)<br>\n",
    "For Object it will take macx occurances <br>\n",
    "For Numeric it will be mean or average "
   ]
  },
  {
   "cell_type": "markdown",
   "id": "2f4183f3",
   "metadata": {},
   "source": [
    "Bootstrapping  is:- <br> random selection of features with replacement <br> Fixed Number of features"
   ]
  },
  {
   "cell_type": "markdown",
   "id": "ad1a9e13",
   "metadata": {},
   "source": [
    "Random Forest is a Bagging Techniuqe where bagging means all decision trees are built in parallel <br>\n",
    "Boosting Technique is where all trees are dependent of eachother(Random forest is not a boosting technique)"
   ]
  },
  {
   "cell_type": "markdown",
   "id": "76a5bb08",
   "metadata": {},
   "source": [
    "#### Hyper Parameter Tuning\n",
    "1)Trees<br>2)Features in trees<br>3)Other HPT of Decision Tree "
   ]
  },
  {
   "cell_type": "markdown",
   "id": "efb72189",
   "metadata": {},
   "source": [
    "Random Forest Follows <b>CART</b> model<br>i.e it can be used for regression and classification"
   ]
  },
  {
   "cell_type": "markdown",
   "id": "df49bf3c",
   "metadata": {},
   "source": [
    "Just like in DT , in Random forest we have important features "
   ]
  },
  {
   "cell_type": "markdown",
   "id": "0afe5d78",
   "metadata": {},
   "source": [
    "<i><u>Random Forest cannot Handle Multicolinearity in the numeric data</u></i>"
   ]
  },
  {
   "cell_type": "code",
   "execution_count": 44,
   "id": "d2854a20",
   "metadata": {},
   "outputs": [],
   "source": [
    "#importing the libraries\n",
    "import pandas as pd \n",
    "import numpy as np \n",
    "import matplotlib.pyplot as plt\n",
    "import seaborn as sns\n",
    "import scipy.stats  as stats\n",
    "from sklearn.model_selection import train_test_split\n",
    "from sklearn.ensemble import RandomForestClassifier as rfc\n",
    "from sklearn.metrics import accuracy_score,classification_report"
   ]
  },
  {
   "cell_type": "code",
   "execution_count": 4,
   "id": "10b04769",
   "metadata": {
    "slideshow": {
     "slide_type": "slide"
    }
   },
   "outputs": [],
   "source": [
    "filename = 'ctg.csv'\n",
    "ctg =pd.read_csv(filename)"
   ]
  },
  {
   "cell_type": "code",
   "execution_count": 7,
   "id": "eeca602c",
   "metadata": {},
   "outputs": [
    {
     "name": "stdout",
     "output_type": "stream",
     "text": [
      "    LB  AC  FM  UC  DL  DS  DP  ASTV  MSTV  ALTV  ...  Min  Max  Nmax  Nzeros  \\\n",
      "0  120   0   0   0   0   0   0    73   0.5    43  ...   62  126     2       0   \n",
      "1  132   4   0   4   2   0   0    17   2.1     0  ...   68  198     6       1   \n",
      "2  133   2   0   5   2   0   0    16   2.1     0  ...   68  198     5       1   \n",
      "3  134   2   0   6   2   0   0    16   2.4     0  ...   53  170    11       0   \n",
      "4  132   4   0   5   0   0   0    16   2.4     0  ...   53  170     9       0   \n",
      "\n",
      "   Mode  Mean  Median  Variance  Tendency  NSP  \n",
      "0   120   137     121        73         1    2  \n",
      "1   141   136     140        12         0    1  \n",
      "2   141   135     138        13         0    1  \n",
      "3   137   134     137        13         1    1  \n",
      "4   137   136     138        11         1    1  \n",
      "\n",
      "[5 rows x 22 columns]\n"
     ]
    }
   ],
   "source": [
    "print(ctg.head())"
   ]
  },
  {
   "cell_type": "code",
   "execution_count": 8,
   "id": "b78dc500",
   "metadata": {},
   "outputs": [
    {
     "data": {
      "text/plain": [
       "(2126, 22)"
      ]
     },
     "execution_count": 8,
     "metadata": {},
     "output_type": "execute_result"
    }
   ],
   "source": [
    "ctg.shape"
   ]
  },
  {
   "cell_type": "code",
   "execution_count": 9,
   "id": "620ca25a",
   "metadata": {},
   "outputs": [],
   "source": [
    "#store columns names # To Check multicolinearity \n",
    "cols = list(ctg.columns)"
   ]
  },
  {
   "cell_type": "code",
   "execution_count": 11,
   "id": "8b06341c",
   "metadata": {},
   "outputs": [],
   "source": [
    "cols.remove('NSP')"
   ]
  },
  {
   "cell_type": "code",
   "execution_count": 12,
   "id": "5e4d04c9",
   "metadata": {},
   "outputs": [
    {
     "data": {
      "text/plain": [
       "['LB',\n",
       " 'AC',\n",
       " 'FM',\n",
       " 'UC',\n",
       " 'DL',\n",
       " 'DS',\n",
       " 'DP',\n",
       " 'ASTV',\n",
       " 'MSTV',\n",
       " 'ALTV',\n",
       " 'MLTV',\n",
       " 'Width',\n",
       " 'Min',\n",
       " 'Max',\n",
       " 'Nmax',\n",
       " 'Nzeros',\n",
       " 'Mode',\n",
       " 'Mean',\n",
       " 'Median',\n",
       " 'Variance',\n",
       " 'Tendency']"
      ]
     },
     "execution_count": 12,
     "metadata": {},
     "output_type": "execute_result"
    }
   ],
   "source": [
    "cols"
   ]
  },
  {
   "cell_type": "code",
   "execution_count": 13,
   "id": "b9b32133",
   "metadata": {},
   "outputs": [
    {
     "data": {
      "text/plain": [
       "LB          0\n",
       "AC          0\n",
       "FM          0\n",
       "UC          0\n",
       "DL          0\n",
       "DS          0\n",
       "DP          0\n",
       "ASTV        0\n",
       "MSTV        0\n",
       "ALTV        0\n",
       "MLTV        0\n",
       "Width       0\n",
       "Min         0\n",
       "Max         0\n",
       "Nmax        0\n",
       "Nzeros      0\n",
       "Mode        0\n",
       "Mean        0\n",
       "Median      0\n",
       "Variance    0\n",
       "Tendency    0\n",
       "NSP         0\n",
       "dtype: int64"
      ]
     },
     "execution_count": 13,
     "metadata": {},
     "output_type": "execute_result"
    }
   ],
   "source": [
    "#Check for nulls \n",
    "ctg.isnull().sum()"
   ]
  },
  {
   "cell_type": "code",
   "execution_count": 14,
   "id": "227ebc7f",
   "metadata": {
    "scrolled": false
   },
   "outputs": [
    {
     "data": {
      "text/plain": [
       "LB             0\n",
       "AC           891\n",
       "FM          1311\n",
       "UC           332\n",
       "DL          1231\n",
       "DS          2119\n",
       "DP          1948\n",
       "ASTV           0\n",
       "MSTV           0\n",
       "ALTV        1240\n",
       "MLTV         137\n",
       "Width          0\n",
       "Min            0\n",
       "Max            0\n",
       "Nmax         107\n",
       "Nzeros      1624\n",
       "Mode           0\n",
       "Mean           0\n",
       "Median         0\n",
       "Variance     187\n",
       "Tendency    1115\n",
       "NSP            0\n",
       "dtype: int64"
      ]
     },
     "execution_count": 14,
     "metadata": {},
     "output_type": "execute_result"
    }
   ],
   "source": [
    "#Check for 0's \n",
    "ctg[ctg==0].count()"
   ]
  },
  {
   "cell_type": "code",
   "execution_count": 39,
   "id": "c5e6f70c",
   "metadata": {
    "scrolled": false
   },
   "outputs": [
    {
     "data": {
      "text/plain": [
       "<AxesSubplot:>"
      ]
     },
     "execution_count": 39,
     "metadata": {},
     "output_type": "execute_result"
    },
    {
     "data": {
      "image/png": "[encoded data removed]",
      "text/plain": [
       "<Figure size 864x720 with 2 Axes>"
      ]
     },
     "metadata": {},
     "output_type": "display_data"
    }
   ],
   "source": [
    "cor =ctg[cols].corr()\n",
    "cor= np.tril(cor)\n",
    "sns.set(rc={'figure.figsize':(12,10)},font_scale=0.7)\n",
    "sns.heatmap(cor,xticklabels=cols,yticklabels=cols,vmin= -1 ,vmax =1 ,square=False,linewidths=0.5,annot =True)"
   ]
  },
  {
   "cell_type": "code",
   "execution_count": 40,
   "id": "a2e398f6",
   "metadata": {
    "scrolled": true
   },
   "outputs": [
    {
     "data": {
      "text/plain": [
       "1    1655\n",
       "2     295\n",
       "3     176\n",
       "Name: NSP, dtype: int64"
      ]
     },
     "execution_count": 40,
     "metadata": {},
     "output_type": "execute_result"
    }
   ],
   "source": [
    "ctg.NSP.value_counts()"
   ]
  },
  {
   "cell_type": "code",
   "execution_count": 41,
   "id": "7b2b99f3",
   "metadata": {
    "scrolled": true
   },
   "outputs": [
    {
     "name": "stderr",
     "output_type": "stream",
     "text": [
      "C:\\Users\\YASHPU~1\\AppData\\Local\\Temp/ipykernel_14016/2671687744.py:2: FutureWarning: In a future version of pandas all arguments of DataFrame.drop except for the argument 'labels' will be keyword-only\n",
      "  trainx,testx,trainy,testy = train_test_split(ctg.drop('NSP',1),ctg.NSP,test_size=0.3)\n"
     ]
    }
   ],
   "source": [
    "#Split data in training and testing\n",
    "trainx,testx,trainy,testy = train_test_split(ctg.drop('NSP',1),ctg.NSP,test_size=0.3)"
   ]
  },
  {
   "cell_type": "code",
   "execution_count": 43,
   "id": "9f5e35e7",
   "metadata": {},
   "outputs": [
    {
     "data": {
      "text/plain": [
       "((1488, 21), (1488,), (638, 21), (638,))"
      ]
     },
     "execution_count": 43,
     "metadata": {},
     "output_type": "execute_result"
    }
   ],
   "source": [
    "(trainx.shape,trainy.shape,testx.shape,testy.shape)"
   ]
  },
  {
   "cell_type": "code",
   "execution_count": 45,
   "id": "4e49f38b",
   "metadata": {},
   "outputs": [
    {
     "data": {
      "text/plain": [
       "[DecisionTreeClassifier(max_features=2, random_state=269363850),\n",
       " DecisionTreeClassifier(max_features=2, random_state=1198551581),\n",
       " DecisionTreeClassifier(max_features=2, random_state=1176571559),\n",
       " DecisionTreeClassifier(max_features=2, random_state=1408323997),\n",
       " DecisionTreeClassifier(max_features=2, random_state=1206173907),\n",
       " DecisionTreeClassifier(max_features=2, random_state=1821791537),\n",
       " DecisionTreeClassifier(max_features=2, random_state=908721557),\n",
       " DecisionTreeClassifier(max_features=2, random_state=1321758270),\n",
       " DecisionTreeClassifier(max_features=2, random_state=1766393292),\n",
       " DecisionTreeClassifier(max_features=2, random_state=147570002),\n",
       " DecisionTreeClassifier(max_features=2, random_state=81577452),\n",
       " DecisionTreeClassifier(max_features=2, random_state=515381948),\n",
       " DecisionTreeClassifier(max_features=2, random_state=673455726),\n",
       " DecisionTreeClassifier(max_features=2, random_state=392549072),\n",
       " DecisionTreeClassifier(max_features=2, random_state=1237387293),\n",
       " DecisionTreeClassifier(max_features=2, random_state=253166595),\n",
       " DecisionTreeClassifier(max_features=2, random_state=594031388),\n",
       " DecisionTreeClassifier(max_features=2, random_state=201121974),\n",
       " DecisionTreeClassifier(max_features=2, random_state=1427353809),\n",
       " DecisionTreeClassifier(max_features=2, random_state=864886632),\n",
       " DecisionTreeClassifier(max_features=2, random_state=1760320295),\n",
       " DecisionTreeClassifier(max_features=2, random_state=923291042),\n",
       " DecisionTreeClassifier(max_features=2, random_state=1119880260),\n",
       " DecisionTreeClassifier(max_features=2, random_state=626256214),\n",
       " DecisionTreeClassifier(max_features=2, random_state=931997834),\n",
       " DecisionTreeClassifier(max_features=2, random_state=2063065702),\n",
       " DecisionTreeClassifier(max_features=2, random_state=686229014),\n",
       " DecisionTreeClassifier(max_features=2, random_state=981920624),\n",
       " DecisionTreeClassifier(max_features=2, random_state=10194253),\n",
       " DecisionTreeClassifier(max_features=2, random_state=788597526),\n",
       " DecisionTreeClassifier(max_features=2, random_state=204433269),\n",
       " DecisionTreeClassifier(max_features=2, random_state=143888000),\n",
       " DecisionTreeClassifier(max_features=2, random_state=1334705517),\n",
       " DecisionTreeClassifier(max_features=2, random_state=1534488940),\n",
       " DecisionTreeClassifier(max_features=2, random_state=468223288),\n",
       " DecisionTreeClassifier(max_features=2, random_state=1623839332),\n",
       " DecisionTreeClassifier(max_features=2, random_state=2058138251),\n",
       " DecisionTreeClassifier(max_features=2, random_state=108356888),\n",
       " DecisionTreeClassifier(max_features=2, random_state=1307393712),\n",
       " DecisionTreeClassifier(max_features=2, random_state=1795664859)]"
      ]
     },
     "execution_count": 45,
     "metadata": {},
     "output_type": "execute_result"
    }
   ],
   "source": [
    "#Build RF classifier \n",
    "#n_estimators = total number of DT to be built \n",
    "#max_features = \n",
    "m1 = rfc(n_estimators=40,max_features=2 ).fit(trainx,trainy)\n",
    "m1.estimators_"
   ]
  },
  {
   "cell_type": "code",
   "execution_count": 47,
   "id": "ea7577ca",
   "metadata": {},
   "outputs": [],
   "source": [
    "#prediction\n",
    "p1 = m1.predict(testx)"
   ]
  },
  {
   "cell_type": "code",
   "execution_count": 48,
   "id": "2e5f66de",
   "metadata": {},
   "outputs": [
    {
     "name": "stdout",
     "output_type": "stream",
     "text": [
      "Model Accuracy =0.9341692789968652\n"
     ]
    }
   ],
   "source": [
    "#Evaluate the model\n",
    "#1) Accuracy \n",
    "print(\"Model Accuracy ={}\".format(accuracy_score(testy,p1)))"
   ]
  },
  {
   "cell_type": "code",
   "execution_count": 50,
   "id": "1d0595d7",
   "metadata": {},
   "outputs": [
    {
     "data": {
      "text/html": [
       "<div>\n",
       "<style scoped>\n",
       "    .dataframe tbody tr th:only-of-type {\n",
       "        vertical-align: middle;\n",
       "    }\n",
       "\n",
       "    .dataframe tbody tr th {\n",
       "        vertical-align: top;\n",
       "    }\n",
       "\n",
       "    .dataframe thead th {\n",
       "        text-align: right;\n",
       "    }\n",
       "</style>\n",
       "<table border=\"1\" class=\"dataframe\">\n",
       "  <thead>\n",
       "    <tr style=\"text-align: right;\">\n",
       "      <th>predicted</th>\n",
       "      <th>1</th>\n",
       "      <th>2</th>\n",
       "      <th>3</th>\n",
       "      <th>All</th>\n",
       "    </tr>\n",
       "    <tr>\n",
       "      <th>actual</th>\n",
       "      <th></th>\n",
       "      <th></th>\n",
       "      <th></th>\n",
       "      <th></th>\n",
       "    </tr>\n",
       "  </thead>\n",
       "  <tbody>\n",
       "    <tr>\n",
       "      <th>1</th>\n",
       "      <td>489</td>\n",
       "      <td>8</td>\n",
       "      <td>0</td>\n",
       "      <td>497</td>\n",
       "    </tr>\n",
       "    <tr>\n",
       "      <th>2</th>\n",
       "      <td>24</td>\n",
       "      <td>65</td>\n",
       "      <td>4</td>\n",
       "      <td>93</td>\n",
       "    </tr>\n",
       "    <tr>\n",
       "      <th>3</th>\n",
       "      <td>0</td>\n",
       "      <td>6</td>\n",
       "      <td>42</td>\n",
       "      <td>48</td>\n",
       "    </tr>\n",
       "    <tr>\n",
       "      <th>All</th>\n",
       "      <td>513</td>\n",
       "      <td>79</td>\n",
       "      <td>46</td>\n",
       "      <td>638</td>\n",
       "    </tr>\n",
       "  </tbody>\n",
       "</table>\n",
       "</div>"
      ],
      "text/plain": [
       "predicted    1   2   3  All\n",
       "actual                     \n",
       "1          489   8   0  497\n",
       "2           24  65   4   93\n",
       "3            0   6  42   48\n",
       "All        513  79  46  638"
      ]
     },
     "execution_count": 50,
     "metadata": {},
     "output_type": "execute_result"
    }
   ],
   "source": [
    "#2)Confusion Matrix\n",
    "res = pd.DataFrame({'actual':testy ,'predicted':p1})\n",
    "pd.crosstab(res.actual,res.predicted,margins= True)"
   ]
  },
  {
   "cell_type": "code",
   "execution_count": 51,
   "id": "04c136d4",
   "metadata": {},
   "outputs": [
    {
     "name": "stdout",
     "output_type": "stream",
     "text": [
      "              precision    recall  f1-score   support\n",
      "\n",
      "           1       0.95      0.98      0.97       497\n",
      "           2       0.82      0.70      0.76        93\n",
      "           3       0.91      0.88      0.89        48\n",
      "\n",
      "    accuracy                           0.93       638\n",
      "   macro avg       0.90      0.85      0.87       638\n",
      "weighted avg       0.93      0.93      0.93       638\n",
      "\n"
     ]
    }
   ],
   "source": [
    "#3) Classification Report \n",
    "print(classification_report(res.actual,res.predicted))"
   ]
  },
  {
   "cell_type": "code",
   "execution_count": 52,
   "id": "3318e7db",
   "metadata": {},
   "outputs": [],
   "source": [
    "#Feature Selection can be done by 1)HeatMap(drop highly correlated variable) 2)Singualrity"
   ]
  },
  {
   "cell_type": "code",
   "execution_count": 53,
   "id": "dd638332",
   "metadata": {},
   "outputs": [],
   "source": [
    "#important features \n",
    "#1) Heatmap(check for multicolinearity)\n",
    "#2)Singularities \n",
    "#3)Feature importance from model\n",
    "\n",
    "df_feat_scores = pd.DataFrame({'features':cols,\n",
    "                              'score':m1.feature_importances_})"
   ]
  },
  {
   "cell_type": "code",
   "execution_count": 55,
   "id": "cee75e8d",
   "metadata": {},
   "outputs": [
    {
     "name": "stdout",
     "output_type": "stream",
     "text": [
      "    features     score\n",
      "7       ASTV  0.105400\n",
      "8       MSTV  0.099257\n",
      "9       ALTV  0.097249\n",
      "16      Mode  0.081287\n",
      "17      Mean  0.072461\n",
      "18    Median  0.053383\n",
      "10      MLTV  0.052809\n",
      "6         DP  0.052717\n",
      "19  Variance  0.051420\n",
      "12       Min  0.049269\n",
      "11     Width  0.047469\n",
      "0         LB  0.044897\n",
      "1         AC  0.038535\n",
      "13       Max  0.038441\n",
      "3         UC  0.037688\n",
      "14      Nmax  0.023943\n",
      "2         FM  0.023459\n",
      "20  Tendency  0.011929\n",
      "4         DL  0.010975\n",
      "15    Nzeros  0.005419\n",
      "5         DS  0.001993\n"
     ]
    }
   ],
   "source": [
    "#sort the dat in descending order\n",
    "df_feat_scores = df_feat_scores.sort_values('score',ascending=False)\n",
    "print(df_feat_scores)"
   ]
  },
  {
   "cell_type": "code",
   "execution_count": null,
   "id": "a4dcc400",
   "metadata": {},
   "outputs": [],
   "source": []
  }
 ],
 "metadata": {
  "kernelspec": {
   "display_name": "Python 3 (ipykernel)",
   "language": "python",
   "name": "python3"
  },
  "language_info": {
   "codemirror_mode": {
    "name": "ipython",
    "version": 3
   },
   "file_extension": ".py",
   "mimetype": "text/x-python",
   "name": "python",
   "nbconvert_exporter": "python",
   "pygments_lexer": "ipython3",
   "version": "3.9.7"
  }
 },
 "nbformat": 4,
 "nbformat_minor": 5
}
