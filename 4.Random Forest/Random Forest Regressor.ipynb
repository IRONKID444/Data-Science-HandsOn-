{
 "cells": [
  {
   "cell_type": "code",
   "execution_count": 3,
   "id": "3e4a042f",
   "metadata": {},
   "outputs": [],
   "source": [
    "# -*- coding: utf-8 -*-\n",
    "\"\"\"\n",
    "Created on Sat Oct  1 09:13:37 2022\n",
    "\n",
    "@author: Yash Pungaliya\n",
    "\"\"\"\n",
    "\n",
    "#Singualrity :- the column which have 85% or more same value do not  predictive values\n",
    "#Steps in EDA : 1)Correlation 2)Outliers using Boxplot 3)Normalization check using histogram 4)Checking and fixing null values\n",
    "#Linear Regression\n",
    "#Dataset : - Concrete \n",
    "\n",
    "#import libraries\n",
    "import pandas as pd \n",
    "import numpy as np \n",
    "import statsmodels.api as sm  #OLS model\n",
    "import matplotlib.pyplot as plt\n",
    "import seaborn as sns\n",
    "import scipy.stats  as stats\n",
    "from sklearn.model_selection import train_test_split\n",
    "from sklearn.tree import DecisionTreeRegressor as dtr\n",
    "from sklearn import preprocessing # data transformation\n",
    "from sklearn.metrics import mean_squared_error\n",
    "from sklearn.ensemble import RandomForestRegressor as rfr\n"
   ]
  },
  {
   "cell_type": "code",
   "execution_count": 4,
   "id": "d03eb6bc",
   "metadata": {},
   "outputs": [
    {
     "name": "stdout",
     "output_type": "stream",
     "text": [
      "<bound method NDFrame.head of       cementcomp   slag  flyash  water  superplastisizer  coraseaggr  \\\n",
      "0          540.0    0.0     0.0  162.0               2.5      1040.0   \n",
      "1          540.0    0.0     0.0  162.0               2.5      1055.0   \n",
      "2          332.5  142.5     0.0  228.0               0.0       932.0   \n",
      "3          332.5  142.5     0.0  228.0               0.0       932.0   \n",
      "4          198.6  132.4     0.0  192.0               0.0       978.4   \n",
      "...          ...    ...     ...    ...               ...         ...   \n",
      "1025       276.4  116.0    90.3  179.6               8.9       870.1   \n",
      "1026       322.2    0.0   115.6  196.0              10.4       817.9   \n",
      "1027       148.5  139.4   108.6  192.7               6.1       892.4   \n",
      "1028       159.1  186.7     0.0  175.6              11.3       989.6   \n",
      "1029       260.9  100.5    78.3  200.6               8.6       864.5   \n",
      "\n",
      "      finraggr  age    CCS  \n",
      "0        676.0   28  79.99  \n",
      "1        676.0   28  61.89  \n",
      "2        594.0  270  40.27  \n",
      "3        594.0  365  41.05  \n",
      "4        825.5  360  44.30  \n",
      "...        ...  ...    ...  \n",
      "1025     768.3   28  44.28  \n",
      "1026     813.4   28  31.18  \n",
      "1027     780.0   28  23.70  \n",
      "1028     788.9   28  32.77  \n",
      "1029     761.5   28  32.40  \n",
      "\n",
      "[1030 rows x 9 columns]>\n"
     ]
    }
   ],
   "source": [
    "#read data\n",
    "filename = \"C:/Users/Yash Pungaliya/Desktop/class/Linear Regression/concrete.csv\"\n",
    "conc = pd.read_csv(filename)\n",
    "print (conc.head)\n",
    "\n"
   ]
  },
  {
   "cell_type": "code",
   "execution_count": 5,
   "id": "6e446d70",
   "metadata": {},
   "outputs": [
    {
     "data": {
      "text/plain": [
       "['cementcomp',\n",
       " 'slag',\n",
       " 'flyash',\n",
       " 'water',\n",
       " 'superplastisizer',\n",
       " 'coraseaggr',\n",
       " 'finraggr',\n",
       " 'age']"
      ]
     },
     "execution_count": 5,
     "metadata": {},
     "output_type": "execute_result"
    }
   ],
   "source": [
    "conc.isnull().sum()\n",
    "conc[conc==0].count()\n",
    "\n",
    "#summary of the data\n",
    "conc.describe()\n",
    "\n",
    "#check for outliers in age\n",
    "conc.age.describe()\n",
    "\n",
    "#extract 'Y' variable from \n",
    "Y = \"CCS\"\n",
    "features = list(conc.columns)\n",
    "features.remove(Y)\n",
    "features\n"
   ]
  },
  {
   "cell_type": "code",
   "execution_count": 6,
   "id": "a0307f5e",
   "metadata": {},
   "outputs": [
    {
     "name": "stderr",
     "output_type": "stream",
     "text": [
      "C:\\Users\\YASHPU~1\\AppData\\Local\\Temp/ipykernel_9808/4083608486.py:1: FutureWarning: In a future version of pandas all arguments of DataFrame.drop except for the argument 'labels' will be keyword-only\n",
      "  trainx,testx,trainY,testY = train_test_split(conc.drop(Y,1),conc[Y],test_size=0.25)\n"
     ]
    }
   ],
   "source": [
    "trainx,testx,trainY,testY = train_test_split(conc.drop(Y,1),conc[Y],test_size=0.25)"
   ]
  },
  {
   "cell_type": "code",
   "execution_count": 7,
   "id": "49d1a496",
   "metadata": {},
   "outputs": [
    {
     "name": "stdout",
     "output_type": "stream",
     "text": [
      "trainx=(772, 8) , trainY = (772,)\n",
      "testX=(258, 8) , testY = (258,)\n"
     ]
    }
   ],
   "source": [
    "print(\"trainx={} , trainY = {}\".format(trainx.shape,trainY.shape))\n",
    "print(\"testX={} , testY = {}\".format(testx.shape,testY.shape))\n"
   ]
  },
  {
   "cell_type": "code",
   "execution_count": 8,
   "id": "5f2a0534",
   "metadata": {},
   "outputs": [],
   "source": [
    "#Build The Models \n",
    "#1)OLS\n",
    "model_lr = sm.OLS(trainY,trainx).fit()\n"
   ]
  },
  {
   "cell_type": "code",
   "execution_count": 9,
   "id": "0a64dac7",
   "metadata": {},
   "outputs": [],
   "source": [
    "#2)Decision Tree Regressor\n",
    "m_dt = dtr(criterion=\"mse\",min_samples_leaf=3,max_depth=6).fit(trainx,trainY)"
   ]
  },
  {
   "cell_type": "code",
   "execution_count": 11,
   "id": "6ff06d74",
   "metadata": {},
   "outputs": [],
   "source": [
    "#3)Random Forest Regressor \n",
    "m_rf = rfr(max_features=2,n_estimators =20).fit(trainx,trainY)"
   ]
  },
  {
   "cell_type": "code",
   "execution_count": 13,
   "id": "b0d17ed2",
   "metadata": {},
   "outputs": [],
   "source": [
    "#Predict \n",
    "p_lr = np.round(model_lr.predict(testx),2)\n",
    "p_dt = np.round(m_dt.predict(testx),2)\n",
    "p_rf = np.round(m_rf.predict(testx),2)"
   ]
  },
  {
   "cell_type": "code",
   "execution_count": 14,
   "id": "2343acd7",
   "metadata": {},
   "outputs": [],
   "source": [
    "def getErr(act,pred):\n",
    "    mse= np.round(mean_squared_error(act,pred),4)\n",
    "    rmse= np.round(np.sqrt(mse),4)\n",
    "    \n",
    "    return(mse,rmse)"
   ]
  },
  {
   "cell_type": "code",
   "execution_count": 15,
   "id": "08450c02",
   "metadata": {},
   "outputs": [],
   "source": [
    "mse_lr,rmse_lr = getErr(testY,p_lr)\n",
    "mse_dt,rmse_dt = getErr(testY,p_dt)\n",
    "mse_rf,rmse_rf = getErr(testY,p_rf)"
   ]
  },
  {
   "cell_type": "code",
   "execution_count": 17,
   "id": "58addb02",
   "metadata": {},
   "outputs": [
    {
     "name": "stdout",
     "output_type": "stream",
     "text": [
      "RMSE\n",
      "\t OLS =10.2871\n",
      "\t DT = 8.1146\n",
      "\tRF =5.1513\n"
     ]
    }
   ],
   "source": [
    "print(\"RMSE\\n\\t OLS ={}\\n\\t DT = {}\\n\\tRF ={}\".format(rmse_lr,rmse_dt,rmse_rf))"
   ]
  },
  {
   "cell_type": "code",
   "execution_count": 18,
   "id": "ec08f1b3",
   "metadata": {},
   "outputs": [],
   "source": [
    "#DataFrame to store actual CCS and predicted CCS from two model\n",
    "results =pd.DataFrame({'actual':testY , 'pred_OLS ':p_lr,'pred_dt':p_dt,'pred_rf':p_rf})"
   ]
  },
  {
   "cell_type": "code",
   "execution_count": 19,
   "id": "096d85c3",
   "metadata": {},
   "outputs": [
    {
     "name": "stdout",
     "output_type": "stream",
     "text": [
      "     actual  pred_OLS   pred_dt  pred_rf\n",
      "524   59.49      50.39    64.84    50.71\n",
      "148   58.80      65.64    66.51    58.37\n",
      "235   17.84      26.16    33.16    30.26\n",
      "545   18.75      16.06    28.34    23.29\n",
      "43    53.10      37.62    45.14    52.19\n",
      "..      ...        ...      ...      ...\n",
      "188   40.71      29.93    35.24    30.11\n",
      "259   13.33      26.63    19.14    18.43\n",
      "672    6.94      15.64    13.00    10.01\n",
      "29    38.60      28.98    34.50    35.71\n",
      "569   22.49      32.96    37.58    30.26\n",
      "\n",
      "[258 rows x 4 columns]\n"
     ]
    }
   ],
   "source": [
    "print(results)"
   ]
  },
  {
   "cell_type": "code",
   "execution_count": 20,
   "id": "7eb4fd37",
   "metadata": {},
   "outputs": [
    {
     "data": {
      "text/html": [
       "<div>\n",
       "<style scoped>\n",
       "    .dataframe tbody tr th:only-of-type {\n",
       "        vertical-align: middle;\n",
       "    }\n",
       "\n",
       "    .dataframe tbody tr th {\n",
       "        vertical-align: top;\n",
       "    }\n",
       "\n",
       "    .dataframe thead th {\n",
       "        text-align: right;\n",
       "    }\n",
       "</style>\n",
       "<table border=\"1\" class=\"dataframe\">\n",
       "  <thead>\n",
       "    <tr style=\"text-align: right;\">\n",
       "      <th></th>\n",
       "      <th>actual</th>\n",
       "      <th>pred_OLS</th>\n",
       "      <th>pred_dt</th>\n",
       "      <th>pred_rf</th>\n",
       "    </tr>\n",
       "  </thead>\n",
       "  <tbody>\n",
       "    <tr>\n",
       "      <th>705</th>\n",
       "      <td>3.32</td>\n",
       "      <td>14.14</td>\n",
       "      <td>8.25</td>\n",
       "      <td>7.56</td>\n",
       "    </tr>\n",
       "    <tr>\n",
       "      <th>677</th>\n",
       "      <td>7.68</td>\n",
       "      <td>11.74</td>\n",
       "      <td>8.25</td>\n",
       "      <td>8.44</td>\n",
       "    </tr>\n",
       "    <tr>\n",
       "      <th>700</th>\n",
       "      <td>6.88</td>\n",
       "      <td>19.09</td>\n",
       "      <td>8.25</td>\n",
       "      <td>9.94</td>\n",
       "    </tr>\n",
       "    <tr>\n",
       "      <th>672</th>\n",
       "      <td>6.94</td>\n",
       "      <td>15.64</td>\n",
       "      <td>13.00</td>\n",
       "      <td>10.01</td>\n",
       "    </tr>\n",
       "    <tr>\n",
       "      <th>736</th>\n",
       "      <td>12.05</td>\n",
       "      <td>14.68</td>\n",
       "      <td>15.60</td>\n",
       "      <td>10.93</td>\n",
       "    </tr>\n",
       "    <tr>\n",
       "      <th>...</th>\n",
       "      <td>...</td>\n",
       "      <td>...</td>\n",
       "      <td>...</td>\n",
       "      <td>...</td>\n",
       "    </tr>\n",
       "    <tr>\n",
       "      <th>157</th>\n",
       "      <td>77.30</td>\n",
       "      <td>57.05</td>\n",
       "      <td>79.58</td>\n",
       "      <td>73.70</td>\n",
       "    </tr>\n",
       "    <tr>\n",
       "      <th>152</th>\n",
       "      <td>77.30</td>\n",
       "      <td>57.05</td>\n",
       "      <td>79.58</td>\n",
       "      <td>73.70</td>\n",
       "    </tr>\n",
       "    <tr>\n",
       "      <th>155</th>\n",
       "      <td>77.30</td>\n",
       "      <td>57.05</td>\n",
       "      <td>79.58</td>\n",
       "      <td>73.70</td>\n",
       "    </tr>\n",
       "    <tr>\n",
       "      <th>175</th>\n",
       "      <td>79.30</td>\n",
       "      <td>60.82</td>\n",
       "      <td>79.58</td>\n",
       "      <td>78.67</td>\n",
       "    </tr>\n",
       "    <tr>\n",
       "      <th>182</th>\n",
       "      <td>79.30</td>\n",
       "      <td>60.82</td>\n",
       "      <td>79.58</td>\n",
       "      <td>78.67</td>\n",
       "    </tr>\n",
       "  </tbody>\n",
       "</table>\n",
       "<p>258 rows × 4 columns</p>\n",
       "</div>"
      ],
      "text/plain": [
       "     actual  pred_OLS   pred_dt  pred_rf\n",
       "705    3.32      14.14     8.25     7.56\n",
       "677    7.68      11.74     8.25     8.44\n",
       "700    6.88      19.09     8.25     9.94\n",
       "672    6.94      15.64    13.00    10.01\n",
       "736   12.05      14.68    15.60    10.93\n",
       "..      ...        ...      ...      ...\n",
       "157   77.30      57.05    79.58    73.70\n",
       "152   77.30      57.05    79.58    73.70\n",
       "155   77.30      57.05    79.58    73.70\n",
       "175   79.30      60.82    79.58    78.67\n",
       "182   79.30      60.82    79.58    78.67\n",
       "\n",
       "[258 rows x 4 columns]"
      ]
     },
     "execution_count": 20,
     "metadata": {},
     "output_type": "execute_result"
    }
   ],
   "source": [
    "results.sort_values('pred_rf')"
   ]
  },
  {
   "cell_type": "code",
   "execution_count": 21,
   "id": "7a20b496",
   "metadata": {},
   "outputs": [],
   "source": [
    "# plot the best fit line of Model 1\n",
    "def plotBestFitLine(actual,pred,model,err):\n",
    "    sns.regplot(actual,pred,marker='.',color='yellow', line_kws={'color':'red'},ci=None)\n",
    "    plt.title(\"Best Fit Line for model \" + model + \". RMSE = \" + str(round(np.sqrt(err),3)))"
   ]
  },
  {
   "cell_type": "code",
   "execution_count": 22,
   "id": "699b4bf3",
   "metadata": {},
   "outputs": [
    {
     "name": "stderr",
     "output_type": "stream",
     "text": [
      "D:\\Anaconda\\lib\\site-packages\\seaborn\\_decorators.py:36: FutureWarning: Pass the following variables as keyword args: x, y. From version 0.12, the only valid positional argument will be `data`, and passing other arguments without an explicit keyword will result in an error or misinterpretation.\n",
      "  warnings.warn(\n"
     ]
    },
    {
     "data": {
      "image/png": "[encoded data removed]",
      "text/plain": [
       "<Figure size 432x288 with 1 Axes>"
      ]
     },
     "metadata": {
      "needs_background": "light"
     },
     "output_type": "display_data"
    }
   ],
   "source": [
    "plotBestFitLine(testY,p_lr,\"OLS\",rmse_lr)"
   ]
  },
  {
   "cell_type": "code",
   "execution_count": 24,
   "id": "d53a3540",
   "metadata": {},
   "outputs": [
    {
     "name": "stderr",
     "output_type": "stream",
     "text": [
      "D:\\Anaconda\\lib\\site-packages\\seaborn\\_decorators.py:36: FutureWarning: Pass the following variables as keyword args: x, y. From version 0.12, the only valid positional argument will be `data`, and passing other arguments without an explicit keyword will result in an error or misinterpretation.\n",
      "  warnings.warn(\n"
     ]
    },
    {
     "data": {
      "image/png": "[encoded data removed]",
      "text/plain": [
       "<Figure size 432x288 with 1 Axes>"
      ]
     },
     "metadata": {
      "needs_background": "light"
     },
     "output_type": "display_data"
    }
   ],
   "source": [
    "plotBestFitLine(testY,p_dt,\"DT\",rmse_dt)"
   ]
  },
  {
   "cell_type": "code",
   "execution_count": 27,
   "id": "fb07d90b",
   "metadata": {},
   "outputs": [
    {
     "name": "stderr",
     "output_type": "stream",
     "text": [
      "D:\\Anaconda\\lib\\site-packages\\seaborn\\_decorators.py:36: FutureWarning: Pass the following variables as keyword args: x, y. From version 0.12, the only valid positional argument will be `data`, and passing other arguments without an explicit keyword will result in an error or misinterpretation.\n",
      "  warnings.warn(\n"
     ]
    },
    {
     "data": {
      "image/png": "[encoded data removed]",
      "text/plain": [
       "<Figure size 432x288 with 1 Axes>"
      ]
     },
     "metadata": {
      "needs_background": "light"
     },
     "output_type": "display_data"
    }
   ],
   "source": [
    "plotBestFitLine(testY,p_rf,\"Random Forest\",rmse_rf)"
   ]
  },
  {
   "cell_type": "code",
   "execution_count": null,
   "id": "92e2cdbe",
   "metadata": {},
   "outputs": [],
   "source": []
  }
 ],
 "metadata": {
  "kernelspec": {
   "display_name": "Python 3 (ipykernel)",
   "language": "python",
   "name": "python3"
  },
  "language_info": {
   "codemirror_mode": {
    "name": "ipython",
    "version": 3
   },
   "file_extension": ".py",
   "mimetype": "text/x-python",
   "name": "python",
   "nbconvert_exporter": "python",
   "pygments_lexer": "ipython3",
   "version": "3.9.7"
  }
 },
 "nbformat": 4,
 "nbformat_minor": 5
}
