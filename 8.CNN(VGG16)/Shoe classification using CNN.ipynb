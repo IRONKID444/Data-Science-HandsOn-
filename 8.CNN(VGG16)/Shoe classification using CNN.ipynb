{
 "cells": [
  {
   "cell_type": "code",
   "execution_count": 1,
   "id": "b35ba18e",
   "metadata": {},
   "outputs": [],
   "source": [
    "# Importing modules.\n",
    "import os\n",
    "import sys\n",
    "from datetime import datetime\n",
    "\n",
    "import numpy as np\n",
    "import pandas as pd\n",
    "\n",
    "import matplotlib.pyplot as plt\n",
    "import seaborn as sb\n",
    "\n",
    "from tensorflow.keras.preprocessing.image import ImageDataGenerator\n",
    "from tensorflow.keras.applications.vgg16 import VGG16\n",
    "from tensorflow.keras.applications.vgg16 import preprocess_input\n",
    "\n",
    "from tensorflow.keras.models import Model\n",
    "from tensorflow.keras.layers import Flatten, Dense\n",
    "\n",
    "from tensorflow.keras.losses import CategoricalCrossentropy\n",
    "from tensorflow.keras.optimizers import Adam\n",
    "from tensorflow.keras.metrics import CategoricalAccuracy\n",
    "from tensorflow.keras.callbacks import ReduceLROnPlateau, ModelCheckpoint"
   ]
  },
  {
   "cell_type": "code",
   "execution_count": 2,
   "id": "eb988f45",
   "metadata": {},
   "outputs": [],
   "source": [
    "# Assigning the paths.\n",
    "dir_path = os.getcwd()\n",
    "data_path = os.path.join(dir_path, 'Shoe Classification')"
   ]
  },
  {
   "cell_type": "code",
   "execution_count": 3,
   "id": "289f0544",
   "metadata": {},
   "outputs": [
    {
     "data": {
      "text/plain": [
       "['test', 'train']"
      ]
     },
     "execution_count": 3,
     "metadata": {},
     "output_type": "execute_result"
    }
   ],
   "source": [
    "# Listing the directories.\n",
    "os.listdir(data_path)"
   ]
  },
  {
   "cell_type": "code",
   "execution_count": 3,
   "id": "ec162a80",
   "metadata": {},
   "outputs": [],
   "source": [
    "# Train and Test data path.\n",
    "train_path = os.path.join(data_path, 'train')\n"
   ]
  },
  {
   "cell_type": "code",
   "execution_count": 36,
   "id": "5f81b844",
   "metadata": {},
   "outputs": [],
   "source": [
    "test_path = os.path.join(data_path,'C:/Users/Yash Pungaliya/Desktop/dhule/Using-Transfer-Learning-to-classify-different-types-of-shoes.-main/Shoe Classification')"
   ]
  },
  {
   "cell_type": "code",
   "execution_count": 30,
   "id": "6faa05b9",
   "metadata": {},
   "outputs": [
    {
     "data": {
      "text/plain": [
       "['Boots', 'Sandals', 'Slippers']"
      ]
     },
     "execution_count": 30,
     "metadata": {},
     "output_type": "execute_result"
    }
   ],
   "source": [
    "# Listing types of shoes.\n",
    "os.listdir(train_path)"
   ]
  },
  {
   "cell_type": "code",
   "execution_count": 37,
   "id": "57069481",
   "metadata": {},
   "outputs": [
    {
     "name": "stdout",
     "output_type": "stream",
     "text": [
      "Number of training data is: 778\n",
      "Number of testing data is: 89\n"
     ]
    }
   ],
   "source": [
    "# Total training data.\n",
    "num_training_data = 0\n",
    "\n",
    "for folder in os.listdir(train_path):\n",
    "    num_training_data += len(os.listdir(os.path.join(train_path, folder)))\n",
    "    \n",
    "print('Number of training data is:', num_training_data)\n",
    "print('Number of testing data is:', len(os.listdir(os.path.join(test_path, 'test'))))"
   ]
  },
  {
   "cell_type": "code",
   "execution_count": 6,
   "id": "6cb0349e",
   "metadata": {},
   "outputs": [
    {
     "name": "stdout",
     "output_type": "stream",
     "text": [
      "Number of units in the output layer is: 3\n"
     ]
    }
   ],
   "source": [
    "# Assigning number of units of the output layer.\n",
    "output_units = len(os.listdir(train_path))\n",
    "\n",
    "print('Number of units in the output layer is:', output_units)"
   ]
  },
  {
   "cell_type": "code",
   "execution_count": 10,
   "id": "1dc3f82b",
   "metadata": {},
   "outputs": [],
   "source": [
    "# Creating Image data generators for train and test set.\n",
    "\n",
    "# Training generator.\n",
    "train_generator = ImageDataGenerator(rescale = 1/255,\n",
    "                                     preprocessing_function = preprocess_input,\n",
    "                                     validation_split = 0.3)\n",
    "\n",
    "# Testing generator.\n",
    "test_generator = ImageDataGenerator(rescale = 1/255,\n",
    "                                    preprocessing_function = preprocess_input)"
   ]
  },
  {
   "cell_type": "code",
   "execution_count": 11,
   "id": "2539a458",
   "metadata": {},
   "outputs": [],
   "source": [
    "# Initializing\n",
    "IMAGE_SIZE = [224, 224]                     # Shape of input image required for InceptionV3.\n",
    "BATCH_SIZE = 32                             # Assigning batch size.\n",
    "CLASS_MODE = 'categorical'                  # Assigning class mode."
   ]
  },
  {
   "cell_type": "code",
   "execution_count": 38,
   "id": "7aa2826c",
   "metadata": {},
   "outputs": [
    {
     "name": "stdout",
     "output_type": "stream",
     "text": [
      "Found 547 images belonging to 3 classes.\n",
      "Found 231 images belonging to 3 classes.\n",
      "Found 867 images belonging to 2 classes.\n"
     ]
    }
   ],
   "source": [
    "# Generating the data.\n",
    "\n",
    "# Training data.\n",
    "train_data = train_generator.flow_from_directory(train_path, \n",
    "                                                 target_size = tuple(IMAGE_SIZE),\n",
    "                                                 class_mode = CLASS_MODE, \n",
    "                                                 subset = 'training',\n",
    "                                                 shuffle = True,\n",
    "                                                 batch_size = BATCH_SIZE)\n",
    "\n",
    "# Validation data.\n",
    "validation_data = train_generator.flow_from_directory(train_path, \n",
    "                                                      target_size = tuple(IMAGE_SIZE),\n",
    "                                                      class_mode = CLASS_MODE, \n",
    "                                                      subset = 'validation',\n",
    "                                                      shuffle = True,\n",
    "                                                      batch_size = BATCH_SIZE)\n",
    "\n",
    "# Testing data.\n",
    "testing_data = test_generator.flow_from_directory(data_path, \n",
    "                                                  target_size = tuple(IMAGE_SIZE),\n",
    "                                                  class_mode = None, \n",
    "                                                  shuffle = False,\n",
    "                                                  batch_size = BATCH_SIZE)"
   ]
  },
  {
   "cell_type": "code",
   "execution_count": 39,
   "id": "a419a8d3",
   "metadata": {},
   "outputs": [],
   "source": [
    "# Using VGG16 model.\n",
    "\n",
    "# Instantiating.\n",
    "vgg = VGG16(input_shape = IMAGE_SIZE + [3], include_top = False, weights = 'imagenet')\n",
    "\n",
    "# Setting the layers to untrainable.\n",
    "for layer in vgg.layers:\n",
    "    layer.trainable = False"
   ]
  },
  {
   "cell_type": "code",
   "execution_count": 40,
   "id": "0363e83d",
   "metadata": {},
   "outputs": [
    {
     "name": "stdout",
     "output_type": "stream",
     "text": [
      "Model: \"model_1\"\n",
      "_________________________________________________________________\n",
      " Layer (type)                Output Shape              Param #   \n",
      "=================================================================\n",
      " input_2 (InputLayer)        [(None, 224, 224, 3)]     0         \n",
      "                                                                 \n",
      " block1_conv1 (Conv2D)       (None, 224, 224, 64)      1792      \n",
      "                                                                 \n",
      " block1_conv2 (Conv2D)       (None, 224, 224, 64)      36928     \n",
      "                                                                 \n",
      " block1_pool (MaxPooling2D)  (None, 112, 112, 64)      0         \n",
      "                                                                 \n",
      " block2_conv1 (Conv2D)       (None, 112, 112, 128)     73856     \n",
      "                                                                 \n",
      " block2_conv2 (Conv2D)       (None, 112, 112, 128)     147584    \n",
      "                                                                 \n",
      " block2_pool (MaxPooling2D)  (None, 56, 56, 128)       0         \n",
      "                                                                 \n",
      " block3_conv1 (Conv2D)       (None, 56, 56, 256)       295168    \n",
      "                                                                 \n",
      " block3_conv2 (Conv2D)       (None, 56, 56, 256)       590080    \n",
      "                                                                 \n",
      " block3_conv3 (Conv2D)       (None, 56, 56, 256)       590080    \n",
      "                                                                 \n",
      " block3_pool (MaxPooling2D)  (None, 28, 28, 256)       0         \n",
      "                                                                 \n",
      " block4_conv1 (Conv2D)       (None, 28, 28, 512)       1180160   \n",
      "                                                                 \n",
      " block4_conv2 (Conv2D)       (None, 28, 28, 512)       2359808   \n",
      "                                                                 \n",
      " block4_conv3 (Conv2D)       (None, 28, 28, 512)       2359808   \n",
      "                                                                 \n",
      " block4_pool (MaxPooling2D)  (None, 14, 14, 512)       0         \n",
      "                                                                 \n",
      " block5_conv1 (Conv2D)       (None, 14, 14, 512)       2359808   \n",
      "                                                                 \n",
      " block5_conv2 (Conv2D)       (None, 14, 14, 512)       2359808   \n",
      "                                                                 \n",
      " block5_conv3 (Conv2D)       (None, 14, 14, 512)       2359808   \n",
      "                                                                 \n",
      " block5_pool (MaxPooling2D)  (None, 7, 7, 512)         0         \n",
      "                                                                 \n",
      " flatten_2 (Flatten)         (None, 25088)             0         \n",
      "                                                                 \n",
      " dense_1 (Dense)             (None, 3)                 75267     \n",
      "                                                                 \n",
      "=================================================================\n",
      "Total params: 14,789,955\n",
      "Trainable params: 75,267\n",
      "Non-trainable params: 14,714,688\n",
      "_________________________________________________________________\n"
     ]
    }
   ],
   "source": [
    "# Model.\n",
    "x = Flatten()(vgg.output)\n",
    "prediction = Dense(output_units, activation = 'linear')(x)\n",
    "\n",
    "model = Model(inputs = vgg.input, outputs = prediction)\n",
    "model.summary()"
   ]
  },
  {
   "cell_type": "code",
   "execution_count": 47,
   "id": "7d1657c0",
   "metadata": {},
   "outputs": [
    {
     "name": "stdout",
     "output_type": "stream",
     "text": [
      "Epoch 1/5\n",
      "17/17 - 154s - loss: 0.1254 - categorical_accuracy: 0.9476 - val_loss: 0.0762 - val_categorical_accuracy: 0.9777 - lr: 0.0010 - 154s/epoch - 9s/step\n",
      "Epoch 2/5\n",
      "17/17 - 160s - loss: 0.0234 - categorical_accuracy: 0.9922 - val_loss: 0.0497 - val_categorical_accuracy: 0.9777 - lr: 0.0010 - 160s/epoch - 9s/step\n",
      "Epoch 3/5\n",
      "17/17 - 165s - loss: 0.0095 - categorical_accuracy: 0.9942 - val_loss: 0.0420 - val_categorical_accuracy: 0.9866 - lr: 0.0010 - 165s/epoch - 10s/step\n",
      "Epoch 4/5\n",
      "17/17 - 163s - loss: 0.0028 - categorical_accuracy: 1.0000 - val_loss: 0.0293 - val_categorical_accuracy: 0.9866 - lr: 0.0010 - 163s/epoch - 10s/step\n",
      "Epoch 5/5\n",
      "17/17 - 163s - loss: 0.0020 - categorical_accuracy: 1.0000 - val_loss: 0.0225 - val_categorical_accuracy: 0.9866 - lr: 0.0010 - 163s/epoch - 10s/step\n",
      "Time taken for training is: 0:13:25.673599\n"
     ]
    }
   ],
   "source": [
    "# Compiling and fitting the model.\n",
    "\n",
    "# Initialization.\n",
    "EPOCHS = 5                                                       # Number of epochs.\n",
    "STEPS_PER_EPOCH = train_data.n//train_data.batch_size            # Steps for every epoch in training set.\n",
    "VAL_STEPS = validation_data.n//validation_data.batch_size        # Steps for every epoch in validation set.\n",
    "PATIENCE = 5                                                     # Patience during LR on Plateau.\n",
    "FACTOR = 0.1                                                     # Factor by which LR is reduced.\n",
    "\n",
    "# Callbacks.\n",
    "reduce_lr = ReduceLROnPlateau(monitor = 'val_loss', patience = PATIENCE, factor = FACTOR)     # Defining LR on Plateau.\n",
    "checkpoint = ModelCheckpoint(os.path.join(dir_path, 'model.h5'), save_best_only = True)       # Saving the best model.\n",
    "\n",
    "# Compiling the model.\n",
    "model.compile(loss = CategoricalCrossentropy(from_logits = True),\n",
    "              optimizer = Adam(),\n",
    "              metrics = [CategoricalAccuracy()])\n",
    "\n",
    "# Fitting the model.\n",
    "start_time = datetime.now()                                                                   # Time before training.\n",
    "\n",
    "log_data = model.fit(train_data, steps_per_epoch = STEPS_PER_EPOCH,\n",
    "                     validation_data = validation_data, validation_steps = VAL_STEPS,\n",
    "                     epochs = EPOCHS, callbacks = [reduce_lr, checkpoint], verbose = 2)\n",
    "\n",
    "elapsed_time = datetime.now() - start_time                                                    # Total time taken for training.\n",
    "print('Time taken for training is:', elapsed_time)"
   ]
  },
  {
   "cell_type": "code",
   "execution_count": null,
   "id": "a6a89f3a",
   "metadata": {},
   "outputs": [],
   "source": [
    "# Plotting.\n",
    "plt.plot(log_data.history['categorical_accuracy'])\n",
    "plt.plot(log_data.history['val_categorical_accuracy'])\n",
    "plt.title('Inception model accuracy values')\n",
    "plt.ylabel('Accuracy')\n",
    "plt.xlabel('Epochs')\n",
    "plt.legend(['Train', 'Test'], loc='upper left')\n",
    "plt.show()"
   ]
  },
  {
   "cell_type": "code",
   "execution_count": 48,
   "id": "94585906",
   "metadata": {},
   "outputs": [
    {
     "name": "stdout",
     "output_type": "stream",
     "text": [
      "Training accuary is: 1.0\n",
      "Validation accuary is: 0.9866\n"
     ]
    }
   ],
   "source": [
    "print('Training accuary is:', np.round(log_data.history['categorical_accuracy'][-1], 4))\n",
    "print('Validation accuary is:', np.round(log_data.history['val_categorical_accuracy'][-1], 4))"
   ]
  },
  {
   "cell_type": "code",
   "execution_count": 49,
   "id": "3e762007",
   "metadata": {},
   "outputs": [
    {
     "name": "stdout",
     "output_type": "stream",
     "text": [
      "28/28 [==============================] - 189s 7s/step\n"
     ]
    }
   ],
   "source": [
    "# Predictions.\n",
    "predictions = model.predict(testing_data, batch_size = BATCH_SIZE)"
   ]
  },
  {
   "cell_type": "code",
   "execution_count": 50,
   "id": "73e35f72",
   "metadata": {},
   "outputs": [],
   "source": [
    "# Creating a mapper to map the index values to the items.\n",
    "mapper = {v: k for k, v in train_data.class_indices.items()}"
   ]
  },
  {
   "cell_type": "code",
   "execution_count": 51,
   "id": "9d1a52bb",
   "metadata": {},
   "outputs": [],
   "source": [
    "# Mapping the values.\n",
    "mapper_function = np.vectorize(lambda x: mapper.get(x))\n",
    "final_predictions = mapper_function(predictions.argmax(axis = -1))"
   ]
  },
  {
   "cell_type": "code",
   "execution_count": 52,
   "id": "7bc9d5ce",
   "metadata": {
    "scrolled": false
   },
   "outputs": [
    {
     "data": {
      "text/plain": [
       "array(['Sandals', 'Boots', 'Boots', 'Slippers', 'Boots', 'Slippers',\n",
       "       'Boots', 'Sandals', 'Sandals', 'Boots', 'Boots', 'Boots', 'Boots',\n",
       "       'Boots', 'Boots', 'Boots', 'Sandals', 'Sandals', 'Sandals',\n",
       "       'Sandals', 'Sandals', 'Sandals', 'Boots', 'Sandals', 'Boots',\n",
       "       'Boots', 'Boots', 'Boots', 'Slippers', 'Slippers', 'Boots',\n",
       "       'Boots', 'Boots', 'Boots', 'Boots', 'Boots', 'Boots', 'Boots',\n",
       "       'Boots', 'Boots', 'Boots', 'Boots', 'Boots', 'Sandals', 'Sandals',\n",
       "       'Sandals', 'Slippers', 'Slippers', 'Sandals', 'Sandals',\n",
       "       'Slippers', 'Sandals', 'Sandals', 'Slippers', 'Slippers', 'Boots',\n",
       "       'Slippers', 'Slippers', 'Slippers', 'Slippers', 'Sandals',\n",
       "       'Sandals', 'Sandals', 'Sandals', 'Slippers', 'Slippers', 'Boots',\n",
       "       'Slippers', 'Slippers', 'Slippers', 'Slippers', 'Slippers',\n",
       "       'Slippers', 'Slippers', 'Slippers', 'Slippers', 'Slippers',\n",
       "       'Slippers', 'Slippers', 'Slippers', 'Slippers', 'Sandals',\n",
       "       'Sandals', 'Slippers', 'Sandals', 'Sandals', 'Sandals', 'Slippers',\n",
       "       'Slippers', 'Boots', 'Boots', 'Boots', 'Boots', 'Boots', 'Boots',\n",
       "       'Boots', 'Boots', 'Boots', 'Boots', 'Boots', 'Boots', 'Boots',\n",
       "       'Boots', 'Boots', 'Boots', 'Boots', 'Boots', 'Boots', 'Boots',\n",
       "       'Boots', 'Boots', 'Boots', 'Boots', 'Boots', 'Boots', 'Boots',\n",
       "       'Boots', 'Boots', 'Boots', 'Boots', 'Boots', 'Boots', 'Boots',\n",
       "       'Boots', 'Boots', 'Boots', 'Boots', 'Boots', 'Boots', 'Boots',\n",
       "       'Boots', 'Boots', 'Boots', 'Boots', 'Boots', 'Boots', 'Boots',\n",
       "       'Boots', 'Boots', 'Boots', 'Boots', 'Boots', 'Boots', 'Boots',\n",
       "       'Boots', 'Boots', 'Boots', 'Boots', 'Boots', 'Boots', 'Boots',\n",
       "       'Boots', 'Boots', 'Boots', 'Boots', 'Boots', 'Boots', 'Boots',\n",
       "       'Boots', 'Boots', 'Boots', 'Boots', 'Boots', 'Boots', 'Boots',\n",
       "       'Boots', 'Boots', 'Boots', 'Boots', 'Boots', 'Boots', 'Boots',\n",
       "       'Boots', 'Boots', 'Boots', 'Boots', 'Boots', 'Boots', 'Boots',\n",
       "       'Boots', 'Boots', 'Boots', 'Boots', 'Boots', 'Boots', 'Boots',\n",
       "       'Boots', 'Boots', 'Boots', 'Boots', 'Boots', 'Boots', 'Boots',\n",
       "       'Boots', 'Boots', 'Boots', 'Boots', 'Boots', 'Boots', 'Boots',\n",
       "       'Boots', 'Boots', 'Boots', 'Boots', 'Boots', 'Boots', 'Boots',\n",
       "       'Boots', 'Boots', 'Boots', 'Boots', 'Boots', 'Boots', 'Boots',\n",
       "       'Boots', 'Boots', 'Boots', 'Boots', 'Boots', 'Boots', 'Boots',\n",
       "       'Boots', 'Boots', 'Boots', 'Boots', 'Boots', 'Boots', 'Boots',\n",
       "       'Boots', 'Boots', 'Boots', 'Boots', 'Boots', 'Boots', 'Boots',\n",
       "       'Boots', 'Boots', 'Boots', 'Boots', 'Boots', 'Boots', 'Boots',\n",
       "       'Boots', 'Boots', 'Boots', 'Boots', 'Boots', 'Boots', 'Boots',\n",
       "       'Boots', 'Boots', 'Boots', 'Boots', 'Boots', 'Boots', 'Boots',\n",
       "       'Boots', 'Boots', 'Boots', 'Boots', 'Boots', 'Boots', 'Boots',\n",
       "       'Boots', 'Boots', 'Boots', 'Boots', 'Boots', 'Boots', 'Boots',\n",
       "       'Boots', 'Boots', 'Boots', 'Boots', 'Boots', 'Boots', 'Boots',\n",
       "       'Boots', 'Boots', 'Boots', 'Boots', 'Boots', 'Boots', 'Boots',\n",
       "       'Boots', 'Boots', 'Boots', 'Boots', 'Boots', 'Boots', 'Boots',\n",
       "       'Boots', 'Boots', 'Boots', 'Boots', 'Boots', 'Boots', 'Boots',\n",
       "       'Boots', 'Boots', 'Boots', 'Boots', 'Boots', 'Boots', 'Boots',\n",
       "       'Boots', 'Boots', 'Boots', 'Boots', 'Boots', 'Boots', 'Boots',\n",
       "       'Boots', 'Boots', 'Boots', 'Boots', 'Boots', 'Boots', 'Boots',\n",
       "       'Boots', 'Boots', 'Boots', 'Boots', 'Boots', 'Boots', 'Boots',\n",
       "       'Boots', 'Boots', 'Boots', 'Boots', 'Boots', 'Boots', 'Boots',\n",
       "       'Boots', 'Boots', 'Boots', 'Boots', 'Boots', 'Boots', 'Boots',\n",
       "       'Boots', 'Boots', 'Boots', 'Boots', 'Boots', 'Boots', 'Boots',\n",
       "       'Boots', 'Boots', 'Boots', 'Boots', 'Boots', 'Boots', 'Boots',\n",
       "       'Boots', 'Boots', 'Boots', 'Boots', 'Boots', 'Boots', 'Boots',\n",
       "       'Boots', 'Boots', 'Boots', 'Boots', 'Boots', 'Boots', 'Boots',\n",
       "       'Boots', 'Boots', 'Boots', 'Boots', 'Boots', 'Boots', 'Boots',\n",
       "       'Boots', 'Boots', 'Boots', 'Boots', 'Boots', 'Boots', 'Boots',\n",
       "       'Boots', 'Boots', 'Boots', 'Boots', 'Boots', 'Boots', 'Boots',\n",
       "       'Boots', 'Boots', 'Boots', 'Boots', 'Boots', 'Boots', 'Boots',\n",
       "       'Boots', 'Boots', 'Boots', 'Boots', 'Boots', 'Boots', 'Boots',\n",
       "       'Boots', 'Boots', 'Boots', 'Boots', 'Boots', 'Boots', 'Boots',\n",
       "       'Boots', 'Boots', 'Boots', 'Boots', 'Boots', 'Sandals', 'Sandals',\n",
       "       'Sandals', 'Sandals', 'Sandals', 'Sandals', 'Sandals', 'Sandals',\n",
       "       'Sandals', 'Sandals', 'Sandals', 'Sandals', 'Sandals', 'Sandals',\n",
       "       'Sandals', 'Sandals', 'Sandals', 'Sandals', 'Sandals', 'Sandals',\n",
       "       'Sandals', 'Sandals', 'Sandals', 'Sandals', 'Sandals', 'Sandals',\n",
       "       'Sandals', 'Sandals', 'Sandals', 'Sandals', 'Sandals', 'Sandals',\n",
       "       'Sandals', 'Sandals', 'Sandals', 'Sandals', 'Sandals', 'Sandals',\n",
       "       'Sandals', 'Sandals', 'Sandals', 'Sandals', 'Sandals', 'Sandals',\n",
       "       'Sandals', 'Sandals', 'Sandals', 'Sandals', 'Sandals', 'Sandals',\n",
       "       'Sandals', 'Sandals', 'Sandals', 'Sandals', 'Sandals', 'Sandals',\n",
       "       'Sandals', 'Sandals', 'Sandals', 'Sandals', 'Sandals', 'Sandals',\n",
       "       'Sandals', 'Sandals', 'Sandals', 'Sandals', 'Sandals', 'Sandals',\n",
       "       'Sandals', 'Sandals', 'Sandals', 'Sandals', 'Sandals', 'Sandals',\n",
       "       'Sandals', 'Sandals', 'Sandals', 'Sandals', 'Sandals', 'Sandals',\n",
       "       'Sandals', 'Sandals', 'Sandals', 'Sandals', 'Sandals', 'Sandals',\n",
       "       'Sandals', 'Sandals', 'Sandals', 'Sandals', 'Sandals', 'Sandals',\n",
       "       'Sandals', 'Sandals', 'Sandals', 'Sandals', 'Sandals', 'Sandals',\n",
       "       'Sandals', 'Sandals', 'Sandals', 'Sandals', 'Sandals', 'Sandals',\n",
       "       'Sandals', 'Sandals', 'Sandals', 'Sandals', 'Sandals', 'Sandals',\n",
       "       'Sandals', 'Sandals', 'Sandals', 'Sandals', 'Sandals', 'Sandals',\n",
       "       'Sandals', 'Sandals', 'Sandals', 'Sandals', 'Sandals', 'Sandals',\n",
       "       'Sandals', 'Sandals', 'Sandals', 'Sandals', 'Sandals', 'Sandals',\n",
       "       'Sandals', 'Sandals', 'Sandals', 'Sandals', 'Sandals', 'Sandals',\n",
       "       'Sandals', 'Sandals', 'Sandals', 'Sandals', 'Sandals', 'Sandals',\n",
       "       'Sandals', 'Sandals', 'Sandals', 'Sandals', 'Sandals', 'Sandals',\n",
       "       'Sandals', 'Sandals', 'Sandals', 'Sandals', 'Sandals', 'Sandals',\n",
       "       'Sandals', 'Sandals', 'Sandals', 'Sandals', 'Sandals', 'Sandals',\n",
       "       'Sandals', 'Sandals', 'Sandals', 'Sandals', 'Sandals', 'Sandals',\n",
       "       'Sandals', 'Sandals', 'Sandals', 'Sandals', 'Sandals', 'Sandals',\n",
       "       'Sandals', 'Sandals', 'Sandals', 'Sandals', 'Sandals', 'Sandals',\n",
       "       'Sandals', 'Sandals', 'Sandals', 'Sandals', 'Sandals', 'Sandals',\n",
       "       'Sandals', 'Sandals', 'Sandals', 'Sandals', 'Sandals', 'Sandals',\n",
       "       'Sandals', 'Sandals', 'Sandals', 'Sandals', 'Sandals', 'Sandals',\n",
       "       'Sandals', 'Sandals', 'Sandals', 'Sandals', 'Sandals', 'Sandals',\n",
       "       'Sandals', 'Sandals', 'Sandals', 'Sandals', 'Sandals', 'Sandals',\n",
       "       'Sandals', 'Sandals', 'Sandals', 'Sandals', 'Sandals', 'Sandals',\n",
       "       'Sandals', 'Sandals', 'Sandals', 'Sandals', 'Sandals', 'Sandals',\n",
       "       'Sandals', 'Sandals', 'Sandals', 'Sandals', 'Sandals', 'Sandals',\n",
       "       'Sandals', 'Sandals', 'Sandals', 'Sandals', 'Sandals', 'Sandals',\n",
       "       'Sandals', 'Sandals', 'Sandals', 'Sandals', 'Sandals', 'Sandals',\n",
       "       'Sandals', 'Sandals', 'Sandals', 'Sandals', 'Sandals', 'Sandals',\n",
       "       'Sandals', 'Sandals', 'Sandals', 'Sandals', 'Sandals', 'Sandals',\n",
       "       'Sandals', 'Sandals', 'Sandals', 'Sandals', 'Sandals', 'Sandals',\n",
       "       'Sandals', 'Sandals', 'Sandals', 'Sandals', 'Sandals', 'Sandals',\n",
       "       'Sandals', 'Sandals', 'Sandals', 'Sandals', 'Sandals', 'Sandals',\n",
       "       'Sandals', 'Sandals', 'Sandals', 'Sandals', 'Sandals', 'Sandals',\n",
       "       'Sandals', 'Sandals', 'Sandals', 'Sandals', 'Sandals', 'Sandals',\n",
       "       'Sandals', 'Sandals', 'Sandals', 'Sandals', 'Sandals', 'Sandals',\n",
       "       'Sandals', 'Sandals', 'Sandals', 'Sandals', 'Sandals', 'Sandals',\n",
       "       'Sandals', 'Sandals', 'Sandals', 'Sandals', 'Sandals', 'Sandals',\n",
       "       'Sandals', 'Sandals', 'Sandals', 'Sandals', 'Sandals', 'Sandals',\n",
       "       'Sandals', 'Sandals', 'Sandals', 'Sandals', 'Slippers', 'Slippers',\n",
       "       'Slippers', 'Slippers', 'Slippers', 'Slippers', 'Slippers',\n",
       "       'Slippers', 'Sandals', 'Slippers', 'Slippers', 'Slippers',\n",
       "       'Slippers', 'Slippers', 'Slippers', 'Slippers', 'Slippers',\n",
       "       'Slippers', 'Slippers', 'Slippers', 'Slippers', 'Slippers',\n",
       "       'Slippers', 'Slippers', 'Slippers', 'Slippers', 'Slippers',\n",
       "       'Slippers', 'Slippers', 'Slippers', 'Slippers', 'Slippers',\n",
       "       'Slippers', 'Sandals', 'Slippers', 'Slippers', 'Slippers',\n",
       "       'Sandals', 'Slippers', 'Slippers', 'Slippers', 'Slippers',\n",
       "       'Slippers', 'Slippers', 'Slippers', 'Slippers', 'Slippers',\n",
       "       'Slippers', 'Slippers', 'Slippers', 'Slippers', 'Slippers',\n",
       "       'Slippers', 'Slippers', 'Slippers', 'Slippers', 'Slippers',\n",
       "       'Slippers', 'Slippers', 'Slippers', 'Slippers', 'Slippers',\n",
       "       'Slippers', 'Slippers', 'Slippers', 'Slippers', 'Slippers',\n",
       "       'Slippers', 'Slippers', 'Slippers', 'Slippers', 'Slippers',\n",
       "       'Slippers', 'Slippers', 'Slippers', 'Slippers', 'Slippers',\n",
       "       'Slippers', 'Slippers', 'Slippers', 'Slippers', 'Slippers',\n",
       "       'Slippers', 'Slippers', 'Slippers', 'Slippers', 'Slippers',\n",
       "       'Slippers', 'Slippers', 'Slippers', 'Slippers', 'Slippers',\n",
       "       'Slippers', 'Slippers', 'Slippers', 'Slippers', 'Slippers',\n",
       "       'Slippers', 'Slippers', 'Slippers', 'Slippers', 'Slippers',\n",
       "       'Slippers', 'Slippers', 'Slippers', 'Slippers', 'Slippers',\n",
       "       'Slippers', 'Slippers', 'Slippers', 'Slippers', 'Slippers',\n",
       "       'Slippers', 'Slippers', 'Slippers', 'Slippers', 'Slippers',\n",
       "       'Slippers', 'Slippers', 'Slippers', 'Slippers', 'Slippers',\n",
       "       'Slippers', 'Slippers', 'Slippers', 'Slippers', 'Slippers',\n",
       "       'Slippers', 'Slippers', 'Slippers', 'Slippers', 'Slippers',\n",
       "       'Slippers', 'Slippers', 'Slippers', 'Slippers', 'Slippers',\n",
       "       'Slippers', 'Slippers', 'Slippers', 'Slippers', 'Slippers',\n",
       "       'Slippers', 'Slippers', 'Slippers', 'Slippers'], dtype='<U8')"
      ]
     },
     "execution_count": 52,
     "metadata": {},
     "output_type": "execute_result"
    }
   ],
   "source": [
    "# Quick glance at the values.\n",
    "final_predictions"
   ]
  },
  {
   "cell_type": "code",
   "execution_count": null,
   "id": "43b3d469",
   "metadata": {},
   "outputs": [],
   "source": []
  }
 ],
 "metadata": {
  "kernelspec": {
   "display_name": "Python 3 (ipykernel)",
   "language": "python",
   "name": "python3"
  },
  "language_info": {
   "codemirror_mode": {
    "name": "ipython",
    "version": 3
   },
   "file_extension": ".py",
   "mimetype": "text/x-python",
   "name": "python",
   "nbconvert_exporter": "python",
   "pygments_lexer": "ipython3",
   "version": "3.9.15"
  }
 },
 "nbformat": 4,
 "nbformat_minor": 5
}
