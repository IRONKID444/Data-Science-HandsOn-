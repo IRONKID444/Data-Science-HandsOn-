{
 "cells": [
  {
   "cell_type": "code",
   "execution_count": 35,
   "id": "5eab0818",
   "metadata": {},
   "outputs": [],
   "source": [
    "import pandas as pd\n",
    "import matplotlib.pyplot as plt \n",
    "import warnings \n",
    "warnings.filterwarnings(\"ignore\")\n",
    "from math import sqrt"
   ]
  },
  {
   "cell_type": "code",
   "execution_count": 3,
   "id": "4e433bb5",
   "metadata": {},
   "outputs": [],
   "source": [
    "#Time Series Data Components \n",
    "from statsmodels.tsa.seasonal import seasonal_decompose "
   ]
  },
  {
   "cell_type": "code",
   "execution_count": 4,
   "id": "57d7ad19",
   "metadata": {},
   "outputs": [],
   "source": [
    "#Augumented Dickey fuller test for dat stationarity \n",
    "from statsmodels.tsa.stattools import adfuller,acf,pacf"
   ]
  },
  {
   "cell_type": "code",
   "execution_count": 7,
   "id": "d186d710",
   "metadata": {},
   "outputs": [],
   "source": [
    "#difference\n",
    "from statsmodels.tsa.statespace.tools import diff"
   ]
  },
  {
   "cell_type": "code",
   "execution_count": 11,
   "id": "558c3c26",
   "metadata": {},
   "outputs": [],
   "source": [
    "#ARMA/ARIMA model\n",
    "from statsmodels.tsa.arima_model import ARIMA"
   ]
  },
  {
   "cell_type": "code",
   "execution_count": 13,
   "id": "58358eb4",
   "metadata": {},
   "outputs": [],
   "source": [
    "#MSE\n",
    "from sklearn.metrics import mean_squared_error"
   ]
  },
  {
   "cell_type": "code",
   "execution_count": 14,
   "id": "9c57d491",
   "metadata": {},
   "outputs": [],
   "source": [
    "#Ljung-Box Test\n",
    "import statsmodels.api as sts"
   ]
  },
  {
   "cell_type": "code",
   "execution_count": 15,
   "id": "de4f113c",
   "metadata": {},
   "outputs": [],
   "source": [
    "filename = \"TradeInventories.csv\""
   ]
  },
  {
   "cell_type": "code",
   "execution_count": 17,
   "id": "a1c2547a",
   "metadata": {},
   "outputs": [],
   "source": [
    "data = pd.read_csv(filename,index_col = 'date',parse_dates =True)"
   ]
  },
  {
   "cell_type": "code",
   "execution_count": 18,
   "id": "b9894b30",
   "metadata": {},
   "outputs": [
    {
     "data": {
      "text/html": [
       "<div>\n",
       "<style scoped>\n",
       "    .dataframe tbody tr th:only-of-type {\n",
       "        vertical-align: middle;\n",
       "    }\n",
       "\n",
       "    .dataframe tbody tr th {\n",
       "        vertical-align: top;\n",
       "    }\n",
       "\n",
       "    .dataframe thead th {\n",
       "        text-align: right;\n",
       "    }\n",
       "</style>\n",
       "<table border=\"1\" class=\"dataframe\">\n",
       "  <thead>\n",
       "    <tr style=\"text-align: right;\">\n",
       "      <th></th>\n",
       "      <th>inventories</th>\n",
       "    </tr>\n",
       "    <tr>\n",
       "      <th>date</th>\n",
       "      <th></th>\n",
       "    </tr>\n",
       "  </thead>\n",
       "  <tbody>\n",
       "    <tr>\n",
       "      <th>1997-01-01</th>\n",
       "      <td>1301161</td>\n",
       "    </tr>\n",
       "    <tr>\n",
       "      <th>1997-02-01</th>\n",
       "      <td>1307080</td>\n",
       "    </tr>\n",
       "    <tr>\n",
       "      <th>1997-03-01</th>\n",
       "      <td>1303978</td>\n",
       "    </tr>\n",
       "    <tr>\n",
       "      <th>1997-04-01</th>\n",
       "      <td>1319740</td>\n",
       "    </tr>\n",
       "    <tr>\n",
       "      <th>1997-05-01</th>\n",
       "      <td>1327294</td>\n",
       "    </tr>\n",
       "    <tr>\n",
       "      <th>...</th>\n",
       "      <td>...</td>\n",
       "    </tr>\n",
       "    <tr>\n",
       "      <th>2018-08-01</th>\n",
       "      <td>2127170</td>\n",
       "    </tr>\n",
       "    <tr>\n",
       "      <th>2018-09-01</th>\n",
       "      <td>2134172</td>\n",
       "    </tr>\n",
       "    <tr>\n",
       "      <th>2018-10-01</th>\n",
       "      <td>2144639</td>\n",
       "    </tr>\n",
       "    <tr>\n",
       "      <th>2018-11-01</th>\n",
       "      <td>2143001</td>\n",
       "    </tr>\n",
       "    <tr>\n",
       "      <th>2018-12-01</th>\n",
       "      <td>2158115</td>\n",
       "    </tr>\n",
       "  </tbody>\n",
       "</table>\n",
       "<p>264 rows × 1 columns</p>\n",
       "</div>"
      ],
      "text/plain": [
       "            inventories\n",
       "date                   \n",
       "1997-01-01      1301161\n",
       "1997-02-01      1307080\n",
       "1997-03-01      1303978\n",
       "1997-04-01      1319740\n",
       "1997-05-01      1327294\n",
       "...                 ...\n",
       "2018-08-01      2127170\n",
       "2018-09-01      2134172\n",
       "2018-10-01      2144639\n",
       "2018-11-01      2143001\n",
       "2018-12-01      2158115\n",
       "\n",
       "[264 rows x 1 columns]"
      ]
     },
     "execution_count": 18,
     "metadata": {},
     "output_type": "execute_result"
    }
   ],
   "source": [
    "data"
   ]
  },
  {
   "cell_type": "code",
   "execution_count": 22,
   "id": "e36a4899",
   "metadata": {},
   "outputs": [
    {
     "data": {
      "text/plain": [
       "Text(0.5, 1.0, 'Trade Inventories')"
      ]
     },
     "execution_count": 22,
     "metadata": {},
     "output_type": "execute_result"
    },
    {
     "data": {
      "image/png": "[encoded data removed]",
      "text/plain": [
       "<Figure size 432x288 with 1 Axes>"
      ]
     },
     "metadata": {
      "needs_background": "light"
     },
     "output_type": "display_data"
    }
   ],
   "source": [
    "#plot the graph to check stationarity \n",
    "data.inventories.plot()\n",
    "plt.title(\"Trade Inventories\")"
   ]
  },
  {
   "cell_type": "code",
   "execution_count": 23,
   "id": "215dc1d2",
   "metadata": {},
   "outputs": [
    {
     "data": {
      "image/png": "[encoded data removed]",
      "text/plain": [
       "<Figure size 432x288 with 4 Axes>"
      ]
     },
     "metadata": {
      "needs_background": "light"
     },
     "output_type": "display_data"
    }
   ],
   "source": [
    "#Check for the TS components \n",
    "seasonal_decompose(data).plot();"
   ]
  },
  {
   "cell_type": "code",
   "execution_count": 25,
   "id": "5665bb21",
   "metadata": {},
   "outputs": [],
   "source": [
    "#adf test to check data stationarity \n",
    "def checkStationarity(data):\n",
    "    pvalue = adfuller(data)[1]\n",
    "    \n",
    "    if(pvalue<0.05):\n",
    "        print(\"data is Stationary\")\n",
    "    else:\n",
    "        print(\"data is Not Stationary\")"
   ]
  },
  {
   "cell_type": "code",
   "execution_count": 26,
   "id": "43cacb2d",
   "metadata": {},
   "outputs": [
    {
     "name": "stdout",
     "output_type": "stream",
     "text": [
      "data is Not Stationary\n"
     ]
    }
   ],
   "source": [
    "checkStationarity(data)"
   ]
  },
  {
   "cell_type": "markdown",
   "id": "271b3998",
   "metadata": {},
   "source": [
    "#### Since there is a trend , detrend the data before  forecast "
   ]
  },
  {
   "cell_type": "code",
   "execution_count": 27,
   "id": "3612092c",
   "metadata": {},
   "outputs": [],
   "source": [
    "data['diffata1'] = diff(data['inventories'],k_diff = 1)"
   ]
  },
  {
   "cell_type": "code",
   "execution_count": 28,
   "id": "bf433c56",
   "metadata": {},
   "outputs": [
    {
     "data": {
      "text/html": [
       "<div>\n",
       "<style scoped>\n",
       "    .dataframe tbody tr th:only-of-type {\n",
       "        vertical-align: middle;\n",
       "    }\n",
       "\n",
       "    .dataframe tbody tr th {\n",
       "        vertical-align: top;\n",
       "    }\n",
       "\n",
       "    .dataframe thead th {\n",
       "        text-align: right;\n",
       "    }\n",
       "</style>\n",
       "<table border=\"1\" class=\"dataframe\">\n",
       "  <thead>\n",
       "    <tr style=\"text-align: right;\">\n",
       "      <th></th>\n",
       "      <th>inventories</th>\n",
       "      <th>diffata1</th>\n",
       "    </tr>\n",
       "    <tr>\n",
       "      <th>date</th>\n",
       "      <th></th>\n",
       "      <th></th>\n",
       "    </tr>\n",
       "  </thead>\n",
       "  <tbody>\n",
       "    <tr>\n",
       "      <th>1997-01-01</th>\n",
       "      <td>1301161</td>\n",
       "      <td>NaN</td>\n",
       "    </tr>\n",
       "    <tr>\n",
       "      <th>1997-02-01</th>\n",
       "      <td>1307080</td>\n",
       "      <td>5919.0</td>\n",
       "    </tr>\n",
       "    <tr>\n",
       "      <th>1997-03-01</th>\n",
       "      <td>1303978</td>\n",
       "      <td>-3102.0</td>\n",
       "    </tr>\n",
       "    <tr>\n",
       "      <th>1997-04-01</th>\n",
       "      <td>1319740</td>\n",
       "      <td>15762.0</td>\n",
       "    </tr>\n",
       "    <tr>\n",
       "      <th>1997-05-01</th>\n",
       "      <td>1327294</td>\n",
       "      <td>7554.0</td>\n",
       "    </tr>\n",
       "  </tbody>\n",
       "</table>\n",
       "</div>"
      ],
      "text/plain": [
       "            inventories  diffata1\n",
       "date                             \n",
       "1997-01-01      1301161       NaN\n",
       "1997-02-01      1307080    5919.0\n",
       "1997-03-01      1303978   -3102.0\n",
       "1997-04-01      1319740   15762.0\n",
       "1997-05-01      1327294    7554.0"
      ]
     },
     "execution_count": 28,
     "metadata": {},
     "output_type": "execute_result"
    }
   ],
   "source": [
    "data.head()"
   ]
  },
  {
   "cell_type": "code",
   "execution_count": 30,
   "id": "2cf4d10f",
   "metadata": {},
   "outputs": [
    {
     "name": "stdout",
     "output_type": "stream",
     "text": [
      "data is Stationary\n"
     ]
    }
   ],
   "source": [
    "checkStationarity(data.diffata1.dropna())"
   ]
  },
  {
   "cell_type": "code",
   "execution_count": 31,
   "id": "0a373f36",
   "metadata": {},
   "outputs": [],
   "source": [
    "#d = 1 "
   ]
  },
  {
   "cell_type": "code",
   "execution_count": 32,
   "id": "cef32dfc",
   "metadata": {},
   "outputs": [
    {
     "data": {
      "text/plain": [
       "date\n",
       "1997-02-01     5919.0\n",
       "1997-03-01    -3102.0\n",
       "1997-04-01    15762.0\n",
       "1997-05-01     7554.0\n",
       "1997-06-01     7394.0\n",
       "               ...   \n",
       "2018-08-01     7552.0\n",
       "2018-09-01     7002.0\n",
       "2018-10-01    10467.0\n",
       "2018-11-01    -1638.0\n",
       "2018-12-01    15114.0\n",
       "Name: diffata1, Length: 263, dtype: float64"
      ]
     },
     "execution_count": 32,
     "metadata": {},
     "output_type": "execute_result"
    }
   ],
   "source": [
    "diffdata = data.diffata1.dropna()\n",
    "diffdata"
   ]
  },
  {
   "cell_type": "code",
   "execution_count": 36,
   "id": "279cda06",
   "metadata": {},
   "outputs": [],
   "source": [
    "\n",
    "#Since lags are not known , start with a radnom number for lags \n",
    "lag_pacf = pacf(diffdata,nlags = 40)\n",
    "lag_acff = acf(diffdata,nlags = 40)\n",
    "N = len(diffdata)\n",
    "SE = 1.96 /sqrt(N)"
   ]
  },
  {
   "cell_type": "code",
   "execution_count": 38,
   "id": "67c0eec2",
   "metadata": {},
   "outputs": [
    {
     "data": {
      "text/plain": [
       "Text(0.5, 1.0, 'PACF')"
      ]
     },
     "execution_count": 38,
     "metadata": {},
     "output_type": "execute_result"
    },
    {
     "data": {
      "image/png": "[encoded data removed]",
      "text/plain": [
       "<Figure size 432x288 with 1 Axes>"
      ]
     },
     "metadata": {
      "needs_background": "light"
     },
     "output_type": "display_data"
    }
   ],
   "source": [
    "#plot PACF and ACF to determine significant lags (i.e p and q valeus for AR(p) and MA(q))\n",
    "#PACF\n",
    "plt.subplot(121)\n",
    "plt.plot(lag_pacf)\n",
    "plt.axhline(y=0,linestyle = '--' , color ='red')\n",
    "plt.axhline(y=-SE,linestyle = '--' , color ='blue')\n",
    "plt.axhline(y=SE,linestyle = '--' , color ='blue')\n",
    "plt.title(\"PACF\")"
   ]
  },
  {
   "cell_type": "code",
   "execution_count": 44,
   "id": "02c4b743",
   "metadata": {},
   "outputs": [
    {
     "data": {
      "text/plain": [
       "Text(0.5, 1.0, 'Acf')"
      ]
     },
     "execution_count": 44,
     "metadata": {},
     "output_type": "execute_result"
    },
    {
     "data": {
      "image/png": "[encoded data removed]",
      "text/plain": [
       "<Figure size 432x288 with 1 Axes>"
      ]
     },
     "metadata": {
      "needs_background": "light"
     },
     "output_type": "display_data"
    }
   ],
   "source": [
    "#PACF\n",
    "plt.subplot(122)\n",
    "plt.plot(lag_acff)\n",
    "plt.axhline(y=0,linestyle = '--' , color ='red')\n",
    "plt.axhline(y=-SE,linestyle = '--' , color ='blue')\n",
    "plt.axhline(y=SE,linestyle = '--' , color ='blue')\n",
    "plt.title(\"Acf\")"
   ]
  },
  {
   "cell_type": "code",
   "execution_count": 46,
   "id": "23d73740",
   "metadata": {},
   "outputs": [],
   "source": [
    "#Tak random value for p and q \n",
    "p = 1 ; d = 1 ; q = 1 \n",
    "#ARIMA(1,1,1) model \n",
    "\n",
    "#Split the data into train and test\n",
    "train = data.inventories.iloc[:225]\n",
    "test = data.inventories.iloc[225:]"
   ]
  },
  {
   "cell_type": "code",
   "execution_count": 49,
   "id": "8aff2643",
   "metadata": {},
   "outputs": [
    {
     "data": {
      "text/plain": [
       "date\n",
       "2015-07-01    2008314\n",
       "2015-08-01    2014926\n",
       "2015-09-01    2026759\n",
       "Name: inventories, dtype: int64"
      ]
     },
     "execution_count": 49,
     "metadata": {},
     "output_type": "execute_result"
    }
   ],
   "source": [
    "train.tail(3)"
   ]
  },
  {
   "cell_type": "code",
   "execution_count": 48,
   "id": "010ba192",
   "metadata": {},
   "outputs": [
    {
     "data": {
      "text/plain": [
       "date\n",
       "2015-10-01    2035079\n",
       "2015-11-01    2034881\n",
       "2015-12-01    2040092\n",
       "Name: inventories, dtype: int64"
      ]
     },
     "execution_count": 48,
     "metadata": {},
     "output_type": "execute_result"
    }
   ],
   "source": [
    "test.head(3)"
   ]
  },
  {
   "cell_type": "code",
   "execution_count": 50,
   "id": "b3d1a98e",
   "metadata": {},
   "outputs": [],
   "source": [
    "m1 = ARIMA(train,order =(p,d,q)).fit()"
   ]
  },
  {
   "cell_type": "code",
   "execution_count": 51,
   "id": "8cbb5c3c",
   "metadata": {},
   "outputs": [
    {
     "data": {
      "text/html": [
       "<table class=\"simpletable\">\n",
       "<caption>ARIMA Model Results</caption>\n",
       "<tr>\n",
       "  <th>Dep. Variable:</th>   <td>D.inventories</td>  <th>  No. Observations:  </th>    <td>224</td>   \n",
       "</tr>\n",
       "<tr>\n",
       "  <th>Model:</th>          <td>ARIMA(1, 1, 1)</td>  <th>  Log Likelihood     </th> <td>-2220.362</td>\n",
       "</tr>\n",
       "<tr>\n",
       "  <th>Method:</th>             <td>css-mle</td>     <th>  S.D. of innovations</th> <td>4874.455</td> \n",
       "</tr>\n",
       "<tr>\n",
       "  <th>Date:</th>          <td>Sat, 17 Dec 2022</td> <th>  AIC                </th> <td>4448.723</td> \n",
       "</tr>\n",
       "<tr>\n",
       "  <th>Time:</th>              <td>10:44:09</td>     <th>  BIC                </th> <td>4462.370</td> \n",
       "</tr>\n",
       "<tr>\n",
       "  <th>Sample:</th>           <td>02-01-1997</td>    <th>  HQIC               </th> <td>4454.232</td> \n",
       "</tr>\n",
       "<tr>\n",
       "  <th></th>                 <td>- 09-01-2015</td>   <th>                     </th>     <td> </td>    \n",
       "</tr>\n",
       "</table>\n",
       "<table class=\"simpletable\">\n",
       "<tr>\n",
       "           <td></td>              <th>coef</th>     <th>std err</th>      <th>z</th>      <th>P>|z|</th>  <th>[0.025</th>    <th>0.975]</th>  \n",
       "</tr>\n",
       "<tr>\n",
       "  <th>const</th>               <td> 3526.8760</td> <td> 1565.695</td> <td>    2.253</td> <td> 0.024</td> <td>  458.171</td> <td> 6595.581</td>\n",
       "</tr>\n",
       "<tr>\n",
       "  <th>ar.L1.D.inventories</th> <td>    0.9096</td> <td>    0.039</td> <td>   23.384</td> <td> 0.000</td> <td>    0.833</td> <td>    0.986</td>\n",
       "</tr>\n",
       "<tr>\n",
       "  <th>ma.L1.D.inventories</th> <td>   -0.5504</td> <td>    0.081</td> <td>   -6.796</td> <td> 0.000</td> <td>   -0.709</td> <td>   -0.392</td>\n",
       "</tr>\n",
       "</table>\n",
       "<table class=\"simpletable\">\n",
       "<caption>Roots</caption>\n",
       "<tr>\n",
       "    <td></td>   <th>            Real</th>  <th>         Imaginary</th> <th>         Modulus</th>  <th>        Frequency</th>\n",
       "</tr>\n",
       "<tr>\n",
       "  <th>AR.1</th> <td>           1.0993</td> <td>          +0.0000j</td> <td>           1.0993</td> <td>           0.0000</td>\n",
       "</tr>\n",
       "<tr>\n",
       "  <th>MA.1</th> <td>           1.8167</td> <td>          +0.0000j</td> <td>           1.8167</td> <td>           0.0000</td>\n",
       "</tr>\n",
       "</table>"
      ],
      "text/plain": [
       "<class 'statsmodels.iolib.summary.Summary'>\n",
       "\"\"\"\n",
       "                             ARIMA Model Results                              \n",
       "==============================================================================\n",
       "Dep. Variable:          D.inventories   No. Observations:                  224\n",
       "Model:                 ARIMA(1, 1, 1)   Log Likelihood               -2220.362\n",
       "Method:                       css-mle   S.D. of innovations           4874.455\n",
       "Date:                Sat, 17 Dec 2022   AIC                           4448.723\n",
       "Time:                        10:44:09   BIC                           4462.370\n",
       "Sample:                    02-01-1997   HQIC                          4454.232\n",
       "                         - 09-01-2015                                         \n",
       "=======================================================================================\n",
       "                          coef    std err          z      P>|z|      [0.025      0.975]\n",
       "---------------------------------------------------------------------------------------\n",
       "const                3526.8760   1565.695      2.253      0.024     458.171    6595.581\n",
       "ar.L1.D.inventories     0.9096      0.039     23.384      0.000       0.833       0.986\n",
       "ma.L1.D.inventories    -0.5504      0.081     -6.796      0.000      -0.709      -0.392\n",
       "                                    Roots                                    \n",
       "=============================================================================\n",
       "                  Real          Imaginary           Modulus         Frequency\n",
       "-----------------------------------------------------------------------------\n",
       "AR.1            1.0993           +0.0000j            1.0993            0.0000\n",
       "MA.1            1.8167           +0.0000j            1.8167            0.0000\n",
       "-----------------------------------------------------------------------------\n",
       "\"\"\""
      ]
     },
     "execution_count": 51,
     "metadata": {},
     "output_type": "execute_result"
    }
   ],
   "source": [
    "#summarise the model \n",
    "m1.summary()"
   ]
  },
  {
   "cell_type": "code",
   "execution_count": 52,
   "id": "c63212c0",
   "metadata": {},
   "outputs": [],
   "source": [
    "#build model with loops ruuning from p and q "
   ]
  },
  {
   "cell_type": "code",
   "execution_count": 53,
   "id": "f045a73c",
   "metadata": {},
   "outputs": [],
   "source": [
    "aic,bic= m1.aic,m1.bic"
   ]
  },
  {
   "cell_type": "code",
   "execution_count": 54,
   "id": "54a07b5d",
   "metadata": {},
   "outputs": [
    {
     "name": "stdout",
     "output_type": "stream",
     "text": [
      "4448.723331013957\n"
     ]
    }
   ],
   "source": [
    "print(aic)"
   ]
  },
  {
   "cell_type": "code",
   "execution_count": 55,
   "id": "0a10c263",
   "metadata": {},
   "outputs": [
    {
     "name": "stdout",
     "output_type": "stream",
     "text": [
      "4462.369915221378\n"
     ]
    }
   ],
   "source": [
    "print(bic)"
   ]
  },
  {
   "cell_type": "code",
   "execution_count": 59,
   "id": "6d5bfe70",
   "metadata": {},
   "outputs": [],
   "source": [
    "#ljung-Box test for significance \n",
    "pval =sts.stats.acorr_ljungbox(m1.resid,lags=[1],return_df=True).lb_pvalue.values[0]"
   ]
  },
  {
   "cell_type": "code",
   "execution_count": 60,
   "id": "21521777",
   "metadata": {},
   "outputs": [
    {
     "name": "stdout",
     "output_type": "stream",
     "text": [
      "GOOD\n"
     ]
    }
   ],
   "source": [
    "if (pval>0.05):\n",
    "    print(\"GOOD\")\n",
    "else:\n",
    "    print(\"BAD\")"
   ]
  },
  {
   "cell_type": "code",
   "execution_count": 61,
   "id": "176eca3b",
   "metadata": {
    "collapsed": true
   },
   "outputs": [
    {
     "name": "stdout",
     "output_type": "stream",
     "text": [
      "2015-10-01    2.034834e+06\n",
      "2015-11-01    2.042498e+06\n",
      "2015-12-01    2.049788e+06\n",
      "2016-01-01    2.056738e+06\n",
      "2016-02-01    2.063379e+06\n",
      "2016-03-01    2.069739e+06\n",
      "2016-04-01    2.075842e+06\n",
      "2016-05-01    2.081712e+06\n",
      "2016-06-01    2.087371e+06\n",
      "2016-07-01    2.092837e+06\n",
      "2016-08-01    2.098128e+06\n",
      "2016-09-01    2.103259e+06\n",
      "2016-10-01    2.108246e+06\n",
      "2016-11-01    2.113100e+06\n",
      "2016-12-01    2.117835e+06\n",
      "2017-01-01    2.122460e+06\n",
      "2017-02-01    2.126986e+06\n",
      "2017-03-01    2.131422e+06\n",
      "2017-04-01    2.135776e+06\n",
      "2017-05-01    2.140055e+06\n",
      "2017-06-01    2.144266e+06\n",
      "2017-07-01    2.148415e+06\n",
      "2017-08-01    2.152508e+06\n",
      "2017-09-01    2.156550e+06\n",
      "2017-10-01    2.160545e+06\n",
      "2017-11-01    2.164498e+06\n",
      "2017-12-01    2.168412e+06\n",
      "2018-01-01    2.172292e+06\n",
      "2018-02-01    2.176139e+06\n",
      "2018-03-01    2.179958e+06\n",
      "2018-04-01    2.183750e+06\n",
      "2018-05-01    2.187518e+06\n",
      "2018-06-01    2.191265e+06\n",
      "2018-07-01    2.194991e+06\n",
      "2018-08-01    2.198700e+06\n",
      "2018-09-01    2.202392e+06\n",
      "2018-10-01    2.206069e+06\n",
      "2018-11-01    2.209733e+06\n",
      "2018-12-01    2.213384e+06\n",
      "Freq: MS, dtype: float64\n"
     ]
    }
   ],
   "source": [
    "#Forecast on test data\n",
    "start =len(train)\n",
    "end = len(train) + len(test) -1 \n",
    "f1 = m1.predict(start,end,typ='levels')#typ='levels' will forecast in its orignal form\n",
    "print(f1)"
   ]
  },
  {
   "cell_type": "code",
   "execution_count": 65,
   "id": "e4eeaac5",
   "metadata": {},
   "outputs": [],
   "source": [
    "#store the results in DF\n",
    "dfres = pd.DataFrame({'actual':test.values,'forecast':f1.values})"
   ]
  },
  {
   "cell_type": "code",
   "execution_count": 66,
   "id": "73e65125",
   "metadata": {},
   "outputs": [
    {
     "data": {
      "text/html": [
       "<div>\n",
       "<style scoped>\n",
       "    .dataframe tbody tr th:only-of-type {\n",
       "        vertical-align: middle;\n",
       "    }\n",
       "\n",
       "    .dataframe tbody tr th {\n",
       "        vertical-align: top;\n",
       "    }\n",
       "\n",
       "    .dataframe thead th {\n",
       "        text-align: right;\n",
       "    }\n",
       "</style>\n",
       "<table border=\"1\" class=\"dataframe\">\n",
       "  <thead>\n",
       "    <tr style=\"text-align: right;\">\n",
       "      <th></th>\n",
       "      <th>actual</th>\n",
       "      <th>forecast</th>\n",
       "    </tr>\n",
       "  </thead>\n",
       "  <tbody>\n",
       "    <tr>\n",
       "      <th>0</th>\n",
       "      <td>2035079</td>\n",
       "      <td>2.034834e+06</td>\n",
       "    </tr>\n",
       "    <tr>\n",
       "      <th>1</th>\n",
       "      <td>2034881</td>\n",
       "      <td>2.042498e+06</td>\n",
       "    </tr>\n",
       "    <tr>\n",
       "      <th>2</th>\n",
       "      <td>2040092</td>\n",
       "      <td>2.049788e+06</td>\n",
       "    </tr>\n",
       "    <tr>\n",
       "      <th>3</th>\n",
       "      <td>2042452</td>\n",
       "      <td>2.056738e+06</td>\n",
       "    </tr>\n",
       "    <tr>\n",
       "      <th>4</th>\n",
       "      <td>2042254</td>\n",
       "      <td>2.063379e+06</td>\n",
       "    </tr>\n",
       "    <tr>\n",
       "      <th>5</th>\n",
       "      <td>2051480</td>\n",
       "      <td>2.069739e+06</td>\n",
       "    </tr>\n",
       "    <tr>\n",
       "      <th>6</th>\n",
       "      <td>2057157</td>\n",
       "      <td>2.075842e+06</td>\n",
       "    </tr>\n",
       "    <tr>\n",
       "      <th>7</th>\n",
       "      <td>2057546</td>\n",
       "      <td>2.081712e+06</td>\n",
       "    </tr>\n",
       "    <tr>\n",
       "      <th>8</th>\n",
       "      <td>2056598</td>\n",
       "      <td>2.087371e+06</td>\n",
       "    </tr>\n",
       "    <tr>\n",
       "      <th>9</th>\n",
       "      <td>2052876</td>\n",
       "      <td>2.092837e+06</td>\n",
       "    </tr>\n",
       "    <tr>\n",
       "      <th>10</th>\n",
       "      <td>2055978</td>\n",
       "      <td>2.098128e+06</td>\n",
       "    </tr>\n",
       "    <tr>\n",
       "      <th>11</th>\n",
       "      <td>2059378</td>\n",
       "      <td>2.103259e+06</td>\n",
       "    </tr>\n",
       "    <tr>\n",
       "      <th>12</th>\n",
       "      <td>2056580</td>\n",
       "      <td>2.108246e+06</td>\n",
       "    </tr>\n",
       "    <tr>\n",
       "      <th>13</th>\n",
       "      <td>2065534</td>\n",
       "      <td>2.113100e+06</td>\n",
       "    </tr>\n",
       "    <tr>\n",
       "      <th>14</th>\n",
       "      <td>2070388</td>\n",
       "      <td>2.117835e+06</td>\n",
       "    </tr>\n",
       "    <tr>\n",
       "      <th>15</th>\n",
       "      <td>2070587</td>\n",
       "      <td>2.122460e+06</td>\n",
       "    </tr>\n",
       "    <tr>\n",
       "      <th>16</th>\n",
       "      <td>2070299</td>\n",
       "      <td>2.126986e+06</td>\n",
       "    </tr>\n",
       "    <tr>\n",
       "      <th>17</th>\n",
       "      <td>2071371</td>\n",
       "      <td>2.131422e+06</td>\n",
       "    </tr>\n",
       "    <tr>\n",
       "      <th>18</th>\n",
       "      <td>2068029</td>\n",
       "      <td>2.135776e+06</td>\n",
       "    </tr>\n",
       "    <tr>\n",
       "      <th>19</th>\n",
       "      <td>2072745</td>\n",
       "      <td>2.140055e+06</td>\n",
       "    </tr>\n",
       "    <tr>\n",
       "      <th>20</th>\n",
       "      <td>2080877</td>\n",
       "      <td>2.144266e+06</td>\n",
       "    </tr>\n",
       "    <tr>\n",
       "      <th>21</th>\n",
       "      <td>2085513</td>\n",
       "      <td>2.148415e+06</td>\n",
       "    </tr>\n",
       "    <tr>\n",
       "      <th>22</th>\n",
       "      <td>2097163</td>\n",
       "      <td>2.152508e+06</td>\n",
       "    </tr>\n",
       "    <tr>\n",
       "      <th>23</th>\n",
       "      <td>2097753</td>\n",
       "      <td>2.156550e+06</td>\n",
       "    </tr>\n",
       "    <tr>\n",
       "      <th>24</th>\n",
       "      <td>2095167</td>\n",
       "      <td>2.160545e+06</td>\n",
       "    </tr>\n",
       "    <tr>\n",
       "      <th>25</th>\n",
       "      <td>2099137</td>\n",
       "      <td>2.164498e+06</td>\n",
       "    </tr>\n",
       "    <tr>\n",
       "      <th>26</th>\n",
       "      <td>2103751</td>\n",
       "      <td>2.168412e+06</td>\n",
       "    </tr>\n",
       "    <tr>\n",
       "      <th>27</th>\n",
       "      <td>2110158</td>\n",
       "      <td>2.172292e+06</td>\n",
       "    </tr>\n",
       "    <tr>\n",
       "      <th>28</th>\n",
       "      <td>2118199</td>\n",
       "      <td>2.176139e+06</td>\n",
       "    </tr>\n",
       "    <tr>\n",
       "      <th>29</th>\n",
       "      <td>2112427</td>\n",
       "      <td>2.179958e+06</td>\n",
       "    </tr>\n",
       "    <tr>\n",
       "      <th>30</th>\n",
       "      <td>2112276</td>\n",
       "      <td>2.183750e+06</td>\n",
       "    </tr>\n",
       "    <tr>\n",
       "      <th>31</th>\n",
       "      <td>2111835</td>\n",
       "      <td>2.187518e+06</td>\n",
       "    </tr>\n",
       "    <tr>\n",
       "      <th>32</th>\n",
       "      <td>2109298</td>\n",
       "      <td>2.191265e+06</td>\n",
       "    </tr>\n",
       "    <tr>\n",
       "      <th>33</th>\n",
       "      <td>2119618</td>\n",
       "      <td>2.194991e+06</td>\n",
       "    </tr>\n",
       "    <tr>\n",
       "      <th>34</th>\n",
       "      <td>2127170</td>\n",
       "      <td>2.198700e+06</td>\n",
       "    </tr>\n",
       "    <tr>\n",
       "      <th>35</th>\n",
       "      <td>2134172</td>\n",
       "      <td>2.202392e+06</td>\n",
       "    </tr>\n",
       "    <tr>\n",
       "      <th>36</th>\n",
       "      <td>2144639</td>\n",
       "      <td>2.206069e+06</td>\n",
       "    </tr>\n",
       "    <tr>\n",
       "      <th>37</th>\n",
       "      <td>2143001</td>\n",
       "      <td>2.209733e+06</td>\n",
       "    </tr>\n",
       "    <tr>\n",
       "      <th>38</th>\n",
       "      <td>2158115</td>\n",
       "      <td>2.213384e+06</td>\n",
       "    </tr>\n",
       "  </tbody>\n",
       "</table>\n",
       "</div>"
      ],
      "text/plain": [
       "     actual      forecast\n",
       "0   2035079  2.034834e+06\n",
       "1   2034881  2.042498e+06\n",
       "2   2040092  2.049788e+06\n",
       "3   2042452  2.056738e+06\n",
       "4   2042254  2.063379e+06\n",
       "5   2051480  2.069739e+06\n",
       "6   2057157  2.075842e+06\n",
       "7   2057546  2.081712e+06\n",
       "8   2056598  2.087371e+06\n",
       "9   2052876  2.092837e+06\n",
       "10  2055978  2.098128e+06\n",
       "11  2059378  2.103259e+06\n",
       "12  2056580  2.108246e+06\n",
       "13  2065534  2.113100e+06\n",
       "14  2070388  2.117835e+06\n",
       "15  2070587  2.122460e+06\n",
       "16  2070299  2.126986e+06\n",
       "17  2071371  2.131422e+06\n",
       "18  2068029  2.135776e+06\n",
       "19  2072745  2.140055e+06\n",
       "20  2080877  2.144266e+06\n",
       "21  2085513  2.148415e+06\n",
       "22  2097163  2.152508e+06\n",
       "23  2097753  2.156550e+06\n",
       "24  2095167  2.160545e+06\n",
       "25  2099137  2.164498e+06\n",
       "26  2103751  2.168412e+06\n",
       "27  2110158  2.172292e+06\n",
       "28  2118199  2.176139e+06\n",
       "29  2112427  2.179958e+06\n",
       "30  2112276  2.183750e+06\n",
       "31  2111835  2.187518e+06\n",
       "32  2109298  2.191265e+06\n",
       "33  2119618  2.194991e+06\n",
       "34  2127170  2.198700e+06\n",
       "35  2134172  2.202392e+06\n",
       "36  2144639  2.206069e+06\n",
       "37  2143001  2.209733e+06\n",
       "38  2158115  2.213384e+06"
      ]
     },
     "execution_count": 66,
     "metadata": {},
     "output_type": "execute_result"
    }
   ],
   "source": [
    "dfres"
   ]
  },
  {
   "cell_type": "code",
   "execution_count": 68,
   "id": "619509ef",
   "metadata": {},
   "outputs": [],
   "source": [
    "mse = mean_squared_error(dfres.actual,dfres.forecast)\n",
    "rmse= sqrt(mse)"
   ]
  },
  {
   "cell_type": "code",
   "execution_count": 69,
   "id": "1d112638",
   "metadata": {},
   "outputs": [
    {
     "name": "stdout",
     "output_type": "stream",
     "text": [
      "Model 1 \n"
     ]
    }
   ],
   "source": [
    "print(\"Model 1 \")"
   ]
  },
  {
   "cell_type": "code",
   "execution_count": 70,
   "id": "6052aa8c",
   "metadata": {},
   "outputs": [
    {
     "name": "stdout",
     "output_type": "stream",
     "text": [
      "p=1 , d=1 , q =1\n"
     ]
    }
   ],
   "source": [
    "print('p={} , d={} , q ={}'.format(p,d,q))"
   ]
  },
  {
   "cell_type": "code",
   "execution_count": 71,
   "id": "9776f683",
   "metadata": {},
   "outputs": [
    {
     "name": "stdout",
     "output_type": "stream",
     "text": [
      "MSE=3010695317.742762 , RMSE=54869.803332459305\n"
     ]
    }
   ],
   "source": [
    "print(\"MSE={} , RMSE={}\".format(mse,rmse))"
   ]
  },
  {
   "cell_type": "code",
   "execution_count": 72,
   "id": "577a4e70",
   "metadata": {},
   "outputs": [
    {
     "data": {
      "text/plain": [
       "Text(0.5, 1.0, 'Actual vs Forecast')"
      ]
     },
     "execution_count": 72,
     "metadata": {},
     "output_type": "execute_result"
    },
    {
     "data": {
      "image/png": "[encoded data removed]",
      "text/plain": [
       "<Figure size 432x288 with 1 Axes>"
      ]
     },
     "metadata": {
      "needs_background": "light"
     },
     "output_type": "display_data"
    }
   ],
   "source": [
    "#plot the \n",
    "dfres.actual.plot(color=\"blue\",legend = True)\n",
    "dfres.forecast.plot(color=\"red\",legend = True)\n",
    "plt.title(\"Actual vs Forecast\")"
   ]
  },
  {
   "cell_type": "code",
   "execution_count": 73,
   "id": "f752652f",
   "metadata": {},
   "outputs": [],
   "source": [
    "#Future Forecast \n",
    "#build model on full dataset .Give the future time period as parameter\n",
    "m2 = ARIMA(data.inventories,order=(p,d,q)).fit()\n",
    "f2 = m2.predict(start = len(data), end= len(data)+12,typ='levels')"
   ]
  },
  {
   "cell_type": "code",
   "execution_count": 74,
   "id": "96c3c22c",
   "metadata": {},
   "outputs": [
    {
     "name": "stdout",
     "output_type": "stream",
     "text": [
      "                       0\n",
      "2019-01-01  2.165600e+06\n",
      "2019-02-01  2.172696e+06\n",
      "2019-03-01  2.179438e+06\n",
      "2019-04-01  2.185862e+06\n",
      "2019-05-01  2.191998e+06\n",
      "2019-06-01  2.197873e+06\n",
      "2019-07-01  2.203514e+06\n",
      "2019-08-01  2.208942e+06\n",
      "2019-09-01  2.214178e+06\n",
      "2019-10-01  2.219240e+06\n",
      "2019-11-01  2.224145e+06\n",
      "2019-12-01  2.228909e+06\n",
      "2020-01-01  2.233545e+06\n"
     ]
    }
   ],
   "source": [
    "data.tail(2)\n",
    "print(pd.DataFrame(f2))"
   ]
  },
  {
   "cell_type": "code",
   "execution_count": 75,
   "id": "d551262a",
   "metadata": {},
   "outputs": [],
   "source": [
    "#plot the actual and future forecast data\n",
    "f2 =pd.DataFrame(f2)"
   ]
  },
  {
   "cell_type": "code",
   "execution_count": 76,
   "id": "5fc5b963",
   "metadata": {},
   "outputs": [
    {
     "data": {
      "text/html": [
       "<div>\n",
       "<style scoped>\n",
       "    .dataframe tbody tr th:only-of-type {\n",
       "        vertical-align: middle;\n",
       "    }\n",
       "\n",
       "    .dataframe tbody tr th {\n",
       "        vertical-align: top;\n",
       "    }\n",
       "\n",
       "    .dataframe thead th {\n",
       "        text-align: right;\n",
       "    }\n",
       "</style>\n",
       "<table border=\"1\" class=\"dataframe\">\n",
       "  <thead>\n",
       "    <tr style=\"text-align: right;\">\n",
       "      <th></th>\n",
       "      <th>0</th>\n",
       "    </tr>\n",
       "  </thead>\n",
       "  <tbody>\n",
       "    <tr>\n",
       "      <th>2019-01-01</th>\n",
       "      <td>2.165600e+06</td>\n",
       "    </tr>\n",
       "    <tr>\n",
       "      <th>2019-02-01</th>\n",
       "      <td>2.172696e+06</td>\n",
       "    </tr>\n",
       "    <tr>\n",
       "      <th>2019-03-01</th>\n",
       "      <td>2.179438e+06</td>\n",
       "    </tr>\n",
       "    <tr>\n",
       "      <th>2019-04-01</th>\n",
       "      <td>2.185862e+06</td>\n",
       "    </tr>\n",
       "    <tr>\n",
       "      <th>2019-05-01</th>\n",
       "      <td>2.191998e+06</td>\n",
       "    </tr>\n",
       "    <tr>\n",
       "      <th>2019-06-01</th>\n",
       "      <td>2.197873e+06</td>\n",
       "    </tr>\n",
       "    <tr>\n",
       "      <th>2019-07-01</th>\n",
       "      <td>2.203514e+06</td>\n",
       "    </tr>\n",
       "    <tr>\n",
       "      <th>2019-08-01</th>\n",
       "      <td>2.208942e+06</td>\n",
       "    </tr>\n",
       "    <tr>\n",
       "      <th>2019-09-01</th>\n",
       "      <td>2.214178e+06</td>\n",
       "    </tr>\n",
       "    <tr>\n",
       "      <th>2019-10-01</th>\n",
       "      <td>2.219240e+06</td>\n",
       "    </tr>\n",
       "    <tr>\n",
       "      <th>2019-11-01</th>\n",
       "      <td>2.224145e+06</td>\n",
       "    </tr>\n",
       "    <tr>\n",
       "      <th>2019-12-01</th>\n",
       "      <td>2.228909e+06</td>\n",
       "    </tr>\n",
       "    <tr>\n",
       "      <th>2020-01-01</th>\n",
       "      <td>2.233545e+06</td>\n",
       "    </tr>\n",
       "  </tbody>\n",
       "</table>\n",
       "</div>"
      ],
      "text/plain": [
       "                       0\n",
       "2019-01-01  2.165600e+06\n",
       "2019-02-01  2.172696e+06\n",
       "2019-03-01  2.179438e+06\n",
       "2019-04-01  2.185862e+06\n",
       "2019-05-01  2.191998e+06\n",
       "2019-06-01  2.197873e+06\n",
       "2019-07-01  2.203514e+06\n",
       "2019-08-01  2.208942e+06\n",
       "2019-09-01  2.214178e+06\n",
       "2019-10-01  2.219240e+06\n",
       "2019-11-01  2.224145e+06\n",
       "2019-12-01  2.228909e+06\n",
       "2020-01-01  2.233545e+06"
      ]
     },
     "execution_count": 76,
     "metadata": {},
     "output_type": "execute_result"
    }
   ],
   "source": [
    "f2"
   ]
  },
  {
   "cell_type": "code",
   "execution_count": 77,
   "id": "08c2547c",
   "metadata": {},
   "outputs": [],
   "source": [
    "f2.columns =['forecast']"
   ]
  },
  {
   "cell_type": "code",
   "execution_count": 79,
   "id": "041dc984",
   "metadata": {},
   "outputs": [
    {
     "data": {
      "text/plain": [
       "Text(0.5, 1.0, 'Actual vs Forecast ')"
      ]
     },
     "execution_count": 79,
     "metadata": {},
     "output_type": "execute_result"
    },
    {
     "data": {
      "image/png": "[encoded data removed]",
      "text/plain": [
       "<Figure size 432x288 with 1 Axes>"
      ]
     },
     "metadata": {
      "needs_background": "light"
     },
     "output_type": "display_data"
    }
   ],
   "source": [
    "data.inventories.plot(color='blue',legend=True)\n",
    "f2.forecast.plot(color='red',legend=True)\n",
    "plt.title('Actual vs Forecast ')"
   ]
  },
  {
   "cell_type": "code",
   "execution_count": 80,
   "id": "62699684",
   "metadata": {},
   "outputs": [],
   "source": [
    "import numpy as np \n",
    "lis_p = np.arange(0,5)\n",
    "lis_q = np.arange(0,3)"
   ]
  },
  {
   "cell_type": "code",
   "execution_count": 82,
   "id": "3db53a2f",
   "metadata": {},
   "outputs": [
    {
     "ename": "TypeError",
     "evalue": "'int' object is not iterable",
     "output_type": "error",
     "traceback": [
      "\u001b[1;31m---------------------------------------------------------------------------\u001b[0m",
      "\u001b[1;31mTypeError\u001b[0m                                 Traceback (most recent call last)",
      "\u001b[1;32mC:\\Users\\YASHPU~1\\AppData\\Local\\Temp/ipykernel_13308/1298625079.py\u001b[0m in \u001b[0;36m<module>\u001b[1;34m\u001b[0m\n\u001b[1;32m----> 1\u001b[1;33m \u001b[1;32mfor\u001b[0m \u001b[0mi\u001b[0m \u001b[1;32min\u001b[0m \u001b[0mlen\u001b[0m\u001b[1;33m(\u001b[0m\u001b[0mlis_p\u001b[0m\u001b[1;33m)\u001b[0m\u001b[1;33m:\u001b[0m\u001b[1;33m\u001b[0m\u001b[1;33m\u001b[0m\u001b[0m\n\u001b[0m\u001b[0;32m      2\u001b[0m     \u001b[1;32mfor\u001b[0m \u001b[0mj\u001b[0m \u001b[1;32min\u001b[0m \u001b[0mlen\u001b[0m\u001b[1;33m(\u001b[0m\u001b[0mlis_q\u001b[0m\u001b[1;33m)\u001b[0m\u001b[1;33m:\u001b[0m\u001b[1;33m\u001b[0m\u001b[1;33m\u001b[0m\u001b[0m\n\u001b[0;32m      3\u001b[0m         \u001b[0mmodel\u001b[0m \u001b[1;33m=\u001b[0m \u001b[0mARIMA\u001b[0m\u001b[1;33m(\u001b[0m\u001b[0mtrain\u001b[0m\u001b[1;33m,\u001b[0m\u001b[0morder\u001b[0m \u001b[1;33m=\u001b[0m\u001b[1;33m(\u001b[0m\u001b[0mlis_p\u001b[0m\u001b[1;33m(\u001b[0m\u001b[0mi\u001b[0m\u001b[1;33m)\u001b[0m\u001b[1;33m,\u001b[0m\u001b[0md\u001b[0m\u001b[1;33m,\u001b[0m\u001b[0mlis_q\u001b[0m\u001b[1;33m(\u001b[0m\u001b[0mj\u001b[0m\u001b[1;33m)\u001b[0m\u001b[1;33m)\u001b[0m\u001b[1;33m)\u001b[0m\u001b[1;33m.\u001b[0m\u001b[0mfit\u001b[0m\u001b[1;33m(\u001b[0m\u001b[1;33m)\u001b[0m\u001b[1;33m\u001b[0m\u001b[1;33m\u001b[0m\u001b[0m\n\u001b[0;32m      4\u001b[0m         \u001b[0maic\u001b[0m\u001b[1;33m.\u001b[0m\u001b[0mbic\u001b[0m\u001b[1;33m=\u001b[0m\u001b[0mmodel\u001b[0m\u001b[1;33m.\u001b[0m\u001b[0maic\u001b[0m\u001b[1;33m,\u001b[0m\u001b[0mmodel\u001b[0m\u001b[1;33m.\u001b[0m\u001b[0mbic\u001b[0m\u001b[1;33m\u001b[0m\u001b[1;33m\u001b[0m\u001b[0m\n",
      "\u001b[1;31mTypeError\u001b[0m: 'int' object is not iterable"
     ]
    }
   ],
   "source": [
    "for i in len(lis_p):\n",
    "    for j in len(lis_q):\n",
    "        model = ARIMA(train,order =(lis_p(i),d,lis_q(j))).fit()\n",
    "        aic.bic=model.aic,model.bic"
   ]
  },
  {
   "cell_type": "code",
   "execution_count": null,
   "id": "d15a8438",
   "metadata": {},
   "outputs": [],
   "source": []
  }
 ],
 "metadata": {
  "kernelspec": {
   "display_name": "Python 3 (ipykernel)",
   "language": "python",
   "name": "python3"
  },
  "language_info": {
   "codemirror_mode": {
    "name": "ipython",
    "version": 3
   },
   "file_extension": ".py",
   "mimetype": "text/x-python",
   "name": "python",
   "nbconvert_exporter": "python",
   "pygments_lexer": "ipython3",
   "version": "3.9.7"
  }
 },
 "nbformat": 4,
 "nbformat_minor": 5
}
