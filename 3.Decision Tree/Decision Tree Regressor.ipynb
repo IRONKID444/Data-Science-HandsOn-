{
 "cells": [
  {
   "cell_type": "code",
   "execution_count": 3,
   "id": "1469eb8d",
   "metadata": {},
   "outputs": [],
   "source": [
    "# -*- coding: utf-8 -*-\n",
    "\"\"\"\n",
    "Created on Sat Oct  1 09:13:37 2022\n",
    "\n",
    "@author: Yash Pungaliya\n",
    "\"\"\"\n",
    "\n",
    "#Singualrity :- the column which have 85% or more same value do not  predictive values\n",
    "#Steps in EDA : 1)Correlation 2)Outliers using Boxplot 3)Normalization check using histogram 4)Checking and fixing null values\n",
    "#Linear Regression\n",
    "#Dataset : - Concrete \n",
    "\n",
    "#import libraries\n",
    "import pandas as pd \n",
    "import numpy as np \n",
    "import statsmodels.api as sm  #OLS model\n",
    "import matplotlib.pyplot as plt\n",
    "import seaborn as sns\n",
    "import scipy.stats  as stats\n",
    "from sklearn.model_selection import train_test_split\n",
    "from sklearn.tree import DecisionTreeRegressor as dtr\n",
    "from sklearn import preprocessing # data transformation\n",
    "from sklearn.metrics import mean_squared_error\n",
    "\n"
   ]
  },
  {
   "cell_type": "code",
   "execution_count": 4,
   "id": "1e52a138",
   "metadata": {},
   "outputs": [
    {
     "name": "stdout",
     "output_type": "stream",
     "text": [
      "<bound method NDFrame.head of       cementcomp   slag  flyash  water  superplastisizer  coraseaggr  \\\n",
      "0          540.0    0.0     0.0  162.0               2.5      1040.0   \n",
      "1          540.0    0.0     0.0  162.0               2.5      1055.0   \n",
      "2          332.5  142.5     0.0  228.0               0.0       932.0   \n",
      "3          332.5  142.5     0.0  228.0               0.0       932.0   \n",
      "4          198.6  132.4     0.0  192.0               0.0       978.4   \n",
      "...          ...    ...     ...    ...               ...         ...   \n",
      "1025       276.4  116.0    90.3  179.6               8.9       870.1   \n",
      "1026       322.2    0.0   115.6  196.0              10.4       817.9   \n",
      "1027       148.5  139.4   108.6  192.7               6.1       892.4   \n",
      "1028       159.1  186.7     0.0  175.6              11.3       989.6   \n",
      "1029       260.9  100.5    78.3  200.6               8.6       864.5   \n",
      "\n",
      "      finraggr  age    CCS  \n",
      "0        676.0   28  79.99  \n",
      "1        676.0   28  61.89  \n",
      "2        594.0  270  40.27  \n",
      "3        594.0  365  41.05  \n",
      "4        825.5  360  44.30  \n",
      "...        ...  ...    ...  \n",
      "1025     768.3   28  44.28  \n",
      "1026     813.4   28  31.18  \n",
      "1027     780.0   28  23.70  \n",
      "1028     788.9   28  32.77  \n",
      "1029     761.5   28  32.40  \n",
      "\n",
      "[1030 rows x 9 columns]>\n"
     ]
    }
   ],
   "source": [
    "#read data\n",
    "filename = \"C:/Users/Yash Pungaliya/Desktop/class/Linear Regression/concrete.csv\"\n",
    "conc = pd.read_csv(filename)\n",
    "print (conc.head)\n",
    "\n"
   ]
  },
  {
   "cell_type": "code",
   "execution_count": 5,
   "id": "161c98d4",
   "metadata": {},
   "outputs": [
    {
     "data": {
      "text/plain": [
       "['cementcomp',\n",
       " 'slag',\n",
       " 'flyash',\n",
       " 'water',\n",
       " 'superplastisizer',\n",
       " 'coraseaggr',\n",
       " 'finraggr',\n",
       " 'age']"
      ]
     },
     "execution_count": 5,
     "metadata": {},
     "output_type": "execute_result"
    }
   ],
   "source": [
    "conc.isnull().sum()\n",
    "conc[conc==0].count()\n",
    "\n",
    "#summary of the data\n",
    "conc.describe()\n",
    "\n",
    "#check for outliers in age\n",
    "conc.age.describe()\n",
    "\n",
    "#extract 'Y' variable from \n",
    "Y = \"CCS\"\n",
    "features = list(conc.columns)\n",
    "features.remove(Y)\n",
    "features\n"
   ]
  },
  {
   "cell_type": "code",
   "execution_count": 6,
   "id": "d42c7f7c",
   "metadata": {},
   "outputs": [
    {
     "name": "stderr",
     "output_type": "stream",
     "text": [
      "C:\\Users\\YASHPU~1\\AppData\\Local\\Temp/ipykernel_1420/4083608486.py:1: FutureWarning: In a future version of pandas all arguments of DataFrame.drop except for the argument 'labels' will be keyword-only\n",
      "  trainx,testx,trainY,testY = train_test_split(conc.drop(Y,1),conc[Y],test_size=0.25)\n"
     ]
    }
   ],
   "source": [
    "trainx,testx,trainY,testY = train_test_split(conc.drop(Y,1),conc[Y],test_size=0.25)"
   ]
  },
  {
   "cell_type": "code",
   "execution_count": 7,
   "id": "161bc1b3",
   "metadata": {},
   "outputs": [
    {
     "name": "stdout",
     "output_type": "stream",
     "text": [
      "trainx=(772, 8) , trainY = (772,)\n",
      "testX=(258, 8) , testY = (258,)\n"
     ]
    }
   ],
   "source": [
    "print(\"trainx={} , trainY = {}\".format(trainx.shape,trainY.shape))\n",
    "print(\"testX={} , testY = {}\".format(testx.shape,testY.shape))\n"
   ]
  },
  {
   "cell_type": "code",
   "execution_count": 8,
   "id": "ee13c8ca",
   "metadata": {},
   "outputs": [],
   "source": [
    "#Build The Models \n",
    "#1)OLS\n",
    "model_lr = sm.OLS(trainY,trainx).fit()\n"
   ]
  },
  {
   "cell_type": "code",
   "execution_count": 9,
   "id": "2990f931",
   "metadata": {},
   "outputs": [],
   "source": [
    "#2)Decision Tree Regressor\n",
    "m_dt = dtr(criterion=\"mse\",min_samples_leaf=3,max_depth=6).fit(trainx,trainY)"
   ]
  },
  {
   "cell_type": "code",
   "execution_count": 10,
   "id": "8f1ba8ff",
   "metadata": {},
   "outputs": [
    {
     "data": {
      "text/plain": [
       "237    30.05\n",
       "455    37.47\n",
       "511    55.57\n",
       "676    24.30\n",
       "654    15.92\n",
       "       ...  \n",
       "505    51.82\n",
       "271    28.47\n",
       "955    25.99\n",
       "73     55.80\n",
       "575    16.28\n",
       "Length: 258, dtype: float64"
      ]
     },
     "execution_count": 10,
     "metadata": {},
     "output_type": "execute_result"
    }
   ],
   "source": [
    "#Prediction\n",
    "#1)OLS\n",
    "p_lr = np.round(model_lr.predict(testx),2)\n",
    "p_lr"
   ]
  },
  {
   "cell_type": "code",
   "execution_count": 11,
   "id": "aff46fc3",
   "metadata": {},
   "outputs": [
    {
     "data": {
      "text/plain": [
       "array([38.38, 46.6 , 72.23, 13.42, 25.47, 26.26, 45.47, 41.65,  9.42,\n",
       "       35.22, 26.26, 33.19, 33.19, 15.09, 24.57, 38.38, 51.76, 32.83,\n",
       "       38.38, 13.42, 25.47, 51.76, 25.47, 27.07, 23.07, 53.62, 62.48,\n",
       "       38.38, 25.47, 64.53, 32.52, 37.68, 49.62, 35.22, 32.83, 49.62,\n",
       "       49.62, 49.62, 64.12, 24.57, 24.26, 33.19, 38.38, 38.38, 27.29,\n",
       "       32.83, 22.24, 51.76, 32.83, 32.83, 43.11, 64.12, 38.38, 36.58,\n",
       "       43.11, 45.62, 13.42, 35.22, 38.38, 38.38, 49.62, 32.83, 25.47,\n",
       "       46.6 , 13.42, 14.92, 38.38, 22.24, 38.38, 14.92, 53.62, 51.76,\n",
       "       53.62, 52.73, 13.42, 37.68, 46.6 , 32.66, 32.83,  5.33, 34.89,\n",
       "       27.29, 14.92, 64.53, 32.83, 32.66, 64.53, 32.83, 32.83, 53.62,\n",
       "       13.42, 72.23, 32.49, 13.42, 33.19, 25.47, 26.26, 14.92, 36.58,\n",
       "       51.76, 13.42, 38.38, 32.83, 34.89, 27.29, 64.53, 32.66, 13.42,\n",
       "       22.01, 24.57, 64.12, 46.6 , 20.52, 13.42, 72.23, 38.38, 51.07,\n",
       "       32.83, 25.47, 32.83,  5.33, 35.22, 51.76, 33.19, 32.83, 32.83,\n",
       "       34.63, 32.66, 24.57, 49.62, 38.38, 32.83, 64.53, 49.62, 62.48,\n",
       "       25.47, 32.83, 51.07, 64.12, 64.12, 49.62, 21.1 , 33.19, 27.29,\n",
       "       32.83, 35.22, 38.38, 14.92, 72.23, 14.92, 32.83, 46.6 , 15.07,\n",
       "       38.38, 41.17, 27.07, 64.53, 15.09, 32.83, 52.73, 46.6 , 35.22,\n",
       "       26.26, 25.47, 35.17, 51.07, 35.22, 13.42, 79.96, 25.47, 13.42,\n",
       "       49.62, 35.22, 53.62, 36.58, 14.92, 13.42, 24.51, 25.47, 51.76,\n",
       "       14.92, 32.83, 35.22, 34.89, 33.19, 51.07, 52.73, 22.24, 72.23,\n",
       "       24.57, 24.57, 64.12, 22.24, 32.52, 38.38, 13.42, 49.62, 36.58,\n",
       "        9.42, 49.62, 49.62, 37.68, 25.47,  9.42, 13.42, 13.42, 38.38,\n",
       "       32.83, 32.83,  9.42, 49.62, 49.62,  9.42, 64.12, 21.54, 32.83,\n",
       "       25.47, 45.18, 53.62, 32.83, 13.42, 40.75, 38.38, 62.48, 45.62,\n",
       "       25.47, 10.77, 27.07, 45.62, 51.07, 32.83, 25.47, 45.62, 38.38,\n",
       "       26.26, 30.8 , 25.47, 10.77, 25.47, 13.42, 38.38, 30.8 , 38.38,\n",
       "       32.83, 38.38, 10.77, 51.07, 51.07, 35.17, 23.07, 32.83, 25.47,\n",
       "       32.66, 34.63, 46.6 , 32.83, 37.68, 22.24])"
      ]
     },
     "execution_count": 11,
     "metadata": {},
     "output_type": "execute_result"
    }
   ],
   "source": [
    "#2)DTR\n",
    "p_dt = np.round(m_dt.predict(testx),2)\n",
    "p_dt"
   ]
  },
  {
   "cell_type": "code",
   "execution_count": 12,
   "id": "816aeaae",
   "metadata": {},
   "outputs": [],
   "source": [
    "def getErr(act,pred):\n",
    "    mse= np.round(mean_squared_error(act,pred),4)\n",
    "    rmse= np.round(np.sqrt(mse),4)\n",
    "    \n",
    "    return(mse,rmse)\n",
    "\n",
    "mse_lr,rmse_lr = getErr(testY,p_lr)\n",
    "mse_dtr,rmse_dtr = getErr(testY,p_dt)"
   ]
  },
  {
   "cell_type": "code",
   "execution_count": 13,
   "id": "1f79d528",
   "metadata": {},
   "outputs": [
    {
     "name": "stdout",
     "output_type": "stream",
     "text": [
      "RMSE\n",
      "\t OLS =10.6\n",
      "\t DT = 7.5201\n"
     ]
    }
   ],
   "source": [
    "print(\"RMSE\\n\\t OLS ={}\\n\\t DT = {}\".format(rmse_lr,rmse_dtr))"
   ]
  },
  {
   "cell_type": "code",
   "execution_count": 14,
   "id": "6b05134e",
   "metadata": {},
   "outputs": [],
   "source": [
    "#DataFrame to store actual CCS and predicted CCS from two model\n",
    "results =pd.DataFrame({'actual':testY , 'pred_OLS ':p_lr,'pred_dt':p_dt})"
   ]
  },
  {
   "cell_type": "code",
   "execution_count": 15,
   "id": "f19ca853",
   "metadata": {},
   "outputs": [
    {
     "name": "stdout",
     "output_type": "stream",
     "text": [
      "     actual  pred_OLS   pred_dt\n",
      "237   47.13      30.05    38.38\n",
      "455   51.26      37.47    46.60\n",
      "511   65.70      55.57    72.23\n",
      "676   15.75      24.30    13.42\n",
      "654   24.29      15.92    25.47\n",
      "..      ...        ...      ...\n",
      "505   37.92      51.82    34.63\n",
      "271   33.73      28.47    46.60\n",
      "955   32.25      25.99    32.83\n",
      "73    36.30      55.80    37.68\n",
      "575   17.58      16.28    22.24\n",
      "\n",
      "[258 rows x 3 columns]\n"
     ]
    }
   ],
   "source": [
    "print(results)"
   ]
  },
  {
   "cell_type": "code",
   "execution_count": 16,
   "id": "22053eea",
   "metadata": {},
   "outputs": [],
   "source": [
    "# plot the best fit line of Model 1\n",
    "def plotBestFitLine(actual,pred,model,err):\n",
    "    sns.regplot(actual,pred,marker='.',color='yellow', line_kws={'color':'red'},ci=None)\n",
    "    plt.title(\"Best Fit Line for model \" + model + \". RMSE = \" + str(round(np.sqrt(err),3)))"
   ]
  },
  {
   "cell_type": "code",
   "execution_count": 17,
   "id": "efe15b52",
   "metadata": {},
   "outputs": [
    {
     "name": "stderr",
     "output_type": "stream",
     "text": [
      "D:\\Anaconda\\lib\\site-packages\\seaborn\\_decorators.py:36: FutureWarning: Pass the following variables as keyword args: x, y. From version 0.12, the only valid positional argument will be `data`, and passing other arguments without an explicit keyword will result in an error or misinterpretation.\n",
      "  warnings.warn(\n"
     ]
    },
    {
     "data": {
      "image/png": "[encoded data removed]",
      "text/plain": [
       "<Figure size 432x288 with 1 Axes>"
      ]
     },
     "metadata": {
      "needs_background": "light"
     },
     "output_type": "display_data"
    }
   ],
   "source": [
    "plotBestFitLine(testY,p_lr,\"OLS\",rmse_lr)"
   ]
  },
  {
   "cell_type": "code",
   "execution_count": 18,
   "id": "3764ba25",
   "metadata": {},
   "outputs": [
    {
     "name": "stderr",
     "output_type": "stream",
     "text": [
      "D:\\Anaconda\\lib\\site-packages\\seaborn\\_decorators.py:36: FutureWarning: Pass the following variables as keyword args: x, y. From version 0.12, the only valid positional argument will be `data`, and passing other arguments without an explicit keyword will result in an error or misinterpretation.\n",
      "  warnings.warn(\n"
     ]
    },
    {
     "data": {
      "image/png": "[encoded data removed]",
      "text/plain": [
       "<Figure size 432x288 with 1 Axes>"
      ]
     },
     "metadata": {
      "needs_background": "light"
     },
     "output_type": "display_data"
    }
   ],
   "source": [
    "plotBestFitLine(testY,p_dt,\"DT\",rmse_dtr)"
   ]
  },
  {
   "cell_type": "code",
   "execution_count": null,
   "id": "59c0e602",
   "metadata": {},
   "outputs": [],
   "source": []
  }
 ],
 "metadata": {
  "kernelspec": {
   "display_name": "Python 3 (ipykernel)",
   "language": "python",
   "name": "python3"
  },
  "language_info": {
   "codemirror_mode": {
    "name": "ipython",
    "version": 3
   },
   "file_extension": ".py",
   "mimetype": "text/x-python",
   "name": "python",
   "nbconvert_exporter": "python",
   "pygments_lexer": "ipython3",
   "version": "3.9.7"
  }
 },
 "nbformat": 4,
 "nbformat_minor": 5
}
