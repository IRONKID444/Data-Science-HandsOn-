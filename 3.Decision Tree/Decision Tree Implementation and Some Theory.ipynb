{
 "cells": [
  {
   "cell_type": "markdown",
   "id": "b937167d",
   "metadata": {},
   "source": [
    "# <center>DECISION TREE</center>"
   ]
  },
  {
   "cell_type": "markdown",
   "id": "7348729f",
   "metadata": {},
   "source": [
    "#Non Parametric ML model are where formulae is not created Eg:- Descision Tree\n",
    "#Parametric are where the formuale is created eg :- Linear or Logistic "
   ]
  },
  {
   "cell_type": "markdown",
   "id": "8c68056b",
   "metadata": {},
   "source": [
    "#when splitting the value count in a tree a final count reaches 0 that decision node is PURE STATE or PURE SUBSET"
   ]
  },
  {
   "cell_type": "markdown",
   "id": "6197d24a",
   "metadata": {},
   "source": [
    "#Advantages of DT:- Can track the path of a decision\n",
    "#DisAdvantage of DT :- Too many features model will cause overfitting due to overgrown trees "
   ]
  },
  {
   "cell_type": "markdown",
   "id": "b386fea0",
   "metadata": {},
   "source": [
    "#### Taking Care that model dosent overfit \n",
    "1)Selection of Significant Features <br>\n",
    "2) Prune of Dt  Chopping of Unwanted features<br>\n",
    "3)Hyper-Parameter-Tuning(HPT) "
   ]
  },
  {
   "cell_type": "markdown",
   "id": "010df588",
   "metadata": {},
   "source": [
    "##### Hyper Parameter Tuning \n",
    "What steps can be taken to Tune the tree <br>\n",
    "1)Controlling the height of the tree <br>\n",
    "2)Controlling the feature i.e Significant features <br>\n",
    "3)Controlling both 1 & 2<br>\n",
    "4)CP(Complexity Parameter) ---> Signifys quality of the split<br>\n",
    "5)Minimum samples for a subset condition\n",
    "<img src=\"160.png\" width=\"50\" height=\"20\">"
   ]
  },
  {
   "cell_type": "markdown",
   "id": "0ec8220a",
   "metadata": {},
   "source": [
    "### Split Criteria \n",
    "It is done by 2 methods<br>\n",
    "1)Entropy <br>\n",
    "2)Information Gain"
   ]
  },
  {
   "cell_type": "markdown",
   "id": "30327dd1",
   "metadata": {},
   "source": [
    "### 2 Types of DT are :-\n",
    "1)Entropy Model <br> \n",
    "2)Gini Model (Also a HPT) <br>"
   ]
  },
  {
   "cell_type": "markdown",
   "id": "14744f41",
   "metadata": {},
   "source": [
    "##### DATASET : e.Coli"
   ]
  },
  {
   "cell_type": "code",
   "execution_count": 39,
   "id": "3b4083ab",
   "metadata": {},
   "outputs": [],
   "source": [
    "import pandas as pd\n",
    "import numpy as np\n",
    "from sklearn.tree import DecisionTreeClassifier as dtc\n",
    "from sklearn.model_selection import train_test_split\n",
    "from sklearn.metrics import accuracy_score,classification_report\n",
    "from sklearn.feature_selection import RFE \n",
    "# RFE = Recursive Feature Selection (for feature selection)\n",
    "from sklearn import tree\n",
    "import matplotlib.pyplot as plt"
   ]
  },
  {
   "cell_type": "code",
   "execution_count": 40,
   "id": "0d37c982",
   "metadata": {},
   "outputs": [],
   "source": [
    "filename = \"ecoli.csv\""
   ]
  },
  {
   "cell_type": "code",
   "execution_count": 41,
   "id": "fc6c5a1f",
   "metadata": {},
   "outputs": [],
   "source": [
    "ecoli = pd.read_csv(filename)"
   ]
  },
  {
   "cell_type": "code",
   "execution_count": 42,
   "id": "426a9fe2",
   "metadata": {},
   "outputs": [
    {
     "name": "stdout",
     "output_type": "stream",
     "text": [
      "    sequence_name   mcg   gvh   lip  chg   aac  alm1  alm2 lsp\n",
      "0       AAT_ECOLI  0.49  0.29  0.48  0.5  0.56  0.24  0.35  cp\n",
      "1      ACEA_ECOLI  0.07  0.40  0.48  0.5  0.54  0.35  0.44  cp\n",
      "2      ACEK_ECOLI  0.56  0.40  0.48  0.5  0.49  0.37  0.46  cp\n",
      "3      ACKA_ECOLI  0.59  0.49  0.48  0.5  0.52  0.45  0.36  cp\n",
      "4       ADI_ECOLI  0.23  0.32  0.48  0.5  0.55  0.25  0.35  cp\n",
      "..            ...   ...   ...   ...  ...   ...   ...   ...  ..\n",
      "331    TREA_ECOLI  0.74  0.56  0.48  0.5  0.47  0.68  0.30  pp\n",
      "332    UGPB_ECOLI  0.71  0.57  0.48  0.5  0.48  0.35  0.32  pp\n",
      "333    USHA_ECOLI  0.61  0.60  0.48  0.5  0.44  0.39  0.38  pp\n",
      "334    XYLF_ECOLI  0.59  0.61  0.48  0.5  0.42  0.42  0.37  pp\n",
      "335    YTFQ_ECOLI  0.74  0.74  0.48  0.5  0.31  0.53  0.52  pp\n",
      "\n",
      "[336 rows x 9 columns]\n"
     ]
    }
   ],
   "source": [
    "print(ecoli)"
   ]
  },
  {
   "cell_type": "code",
   "execution_count": 43,
   "id": "fb24d074",
   "metadata": {},
   "outputs": [
    {
     "data": {
      "text/plain": [
       "(336, 9)"
      ]
     },
     "execution_count": 43,
     "metadata": {},
     "output_type": "execute_result"
    }
   ],
   "source": [
    "#rows and columns\n",
    "ecoli.shape"
   ]
  },
  {
   "cell_type": "code",
   "execution_count": 44,
   "id": "55fad13b",
   "metadata": {},
   "outputs": [
    {
     "data": {
      "text/plain": [
       "sequence_name     object\n",
       "mcg              float64\n",
       "gvh              float64\n",
       "lip              float64\n",
       "chg              float64\n",
       "aac              float64\n",
       "alm1             float64\n",
       "alm2             float64\n",
       "lsp               object\n",
       "dtype: object"
      ]
     },
     "execution_count": 44,
     "metadata": {},
     "output_type": "execute_result"
    }
   ],
   "source": [
    "#Look for data types \n",
    "ecoli.dtypes"
   ]
  },
  {
   "cell_type": "code",
   "execution_count": 45,
   "id": "3e24d7fe",
   "metadata": {},
   "outputs": [
    {
     "data": {
      "text/plain": [
       "array(['AAT_ECOLI', 'ACEA_ECOLI', 'ACEK_ECOLI', 'ACKA_ECOLI', 'ADI_ECOLI',\n",
       "       'ALKH_ECOLI', 'AMPD_ECOLI', 'AMY2_ECOLI', 'APT_ECOLI',\n",
       "       'ARAC_ECOLI', 'ASG1_ECOLI', 'BTUR_ECOLI', 'CAFA_ECOLI',\n",
       "       'CAIB_ECOLI', 'CFA_ECOLI', 'CHEA_ECOLI', 'CHEB_ECOLI',\n",
       "       'CHEW_ECOLI', 'CHEY_ECOLI', 'CHEZ_ECOLI', 'CRL_ECOLI',\n",
       "       'CSPA_ECOLI', 'CYNR_ECOLI', 'CYPB_ECOLI', 'CYPC_ECOLI',\n",
       "       'CYSB_ECOLI', 'CYSE_ECOLI', 'DAPD_ECOLI', 'DCP_ECOLI',\n",
       "       'DDLA_ECOLI', 'DDLB_ECOLI', 'DEOC_ECOLI', 'DLDH_ECOLI',\n",
       "       'EFG_ECOLI', 'EFTS_ECOLI', 'EFTU_ECOLI', 'ENO_ECOLI', 'FABB_ECOLI',\n",
       "       'FES_ECOLI', 'G3P1_ECOLI', 'G3P2_ECOLI', 'G6PI_ECOLI',\n",
       "       'GCVA_ECOLI', 'GLNA_ECOLI', 'GLPD_ECOLI', 'GLYA_ECOLI',\n",
       "       'GSHR_ECOLI', 'GT_ECOLI', 'HEM6_ECOLI', 'HEMN_ECOLI', 'HPRT_ECOLI',\n",
       "       'IF1_ECOLI', 'IF2_ECOLI', 'ILVY_ECOLI', 'IPYR_ECOLI', 'KAD_ECOLI',\n",
       "       'KDSA_ECOLI', 'LEU3_ECOLI', 'LON_ECOLI', 'LPLA_ECOLI',\n",
       "       'LYSR_ECOLI', 'MALQ_ECOLI', 'MALZ_ECOLI', 'MASY_ECOLI',\n",
       "       'METB_ECOLI', 'METC_ECOLI', 'METK_ECOLI', 'METR_ECOLI',\n",
       "       'METX_ECOLI', 'MURF_ECOLI', 'NADA_ECOLI', 'NFRC_ECOLI',\n",
       "       'NHAR_ECOLI', 'NIRD_ECOLI', 'OMPR_ECOLI', 'OTC1_ECOLI',\n",
       "       'OTC2_ECOLI', 'PEPE_ECOLI', 'PFLA_ECOLI', 'PFLB_ECOLI',\n",
       "       'PGK_ECOLI', 'PHOB_ECOLI', 'PHOH_ECOLI', 'PMBA_ECOLI', 'PNP_ECOLI',\n",
       "       'PROB_ECOLI', 'PT1A_ECOLI', 'PT1_ECOLI', 'PTCA_ECOLI',\n",
       "       'PTCB_ECOLI', 'PTFA_ECOLI', 'PTGA_ECOLI', 'PTHA_ECOLI',\n",
       "       'PTHP_ECOLI', 'PTKA_ECOLI', 'PTKB_ECOLI', 'PTNA_ECOLI',\n",
       "       'PTWB_ECOLI', 'PTWX_ECOLI', 'RHAR_ECOLI', 'RHAS_ECOLI',\n",
       "       'RIMI_ECOLI', 'RIMJ_ECOLI', 'RIML_ECOLI', 'RNB_ECOLI', 'RNC_ECOLI',\n",
       "       'RND_ECOLI', 'RNE_ECOLI', 'SERC_ECOLI', 'SLYD_ECOLI', 'SOXS_ECOLI',\n",
       "       'SYA_ECOLI', 'SYC_ECOLI', 'SYD_ECOLI', 'SYE_ECOLI', 'SYFA_ECOLI',\n",
       "       'SYFB_ECOLI', 'SYGA_ECOLI', 'SYGB_ECOLI', 'SYH_ECOLI', 'SYI_ECOLI',\n",
       "       'SYK1_ECOLI', 'SYK2_ECOLI', 'SYL_ECOLI', 'SYM_ECOLI', 'SYP_ECOLI',\n",
       "       'SYQ_ECOLI', 'SYR_ECOLI', 'SYS_ECOLI', 'SYT_ECOLI', 'SYV_ECOLI',\n",
       "       'SYW_ECOLI', 'SYY_ECOLI', 'THGA_ECOLI', 'THIK_ECOLI', 'TYRB_ECOLI',\n",
       "       'UBIC_ECOLI', 'UGPQ_ECOLI', 'USPA_ECOLI', 'UVRB_ECOLI',\n",
       "       'UVRC_ECOLI', 'XGPT_ECOLI', 'XYLA_ECOLI', 'EMRA_ECOLI',\n",
       "       'AAS_ECOLI', 'AMPE_ECOLI', 'ARAE_ECOLI', 'ARAH_ECOLI',\n",
       "       'AROP_ECOLI', 'ATKB_ECOLI', 'ATP6_ECOLI', 'BETT_ECOLI',\n",
       "       'CODB_ECOLI', 'CYDA_ECOLI', 'CYOC_ECOLI', 'CYOD_ECOLI',\n",
       "       'DCTA_ECOLI', 'DHG_ECOLI', 'DHSC_ECOLI', 'DHSD_ECOLI',\n",
       "       'DPPC_ECOLI', 'DSBB_ECOLI', 'ENVZ_ECOLI', 'EXBB_ECOLI',\n",
       "       'FRDC_ECOLI', 'FRDD_ECOLI', 'FTSW_ECOLI', 'GABP_ECOLI',\n",
       "       'GALP_ECOLI', 'GLNP_ECOLI', 'GLPT_ECOLI', 'GLTP_ECOLI',\n",
       "       'KDGL_ECOLI', 'KGTP_ECOLI', 'LACY_ECOLI', 'LGT_ECOLI',\n",
       "       'LLDP_ECOLI', 'LNT_ECOLI', 'LSPA_ECOLI', 'LYSP_ECOLI',\n",
       "       'MALF_ECOLI', 'MALG_ECOLI', 'MCP3_ECOLI', 'MSBB_ECOLI',\n",
       "       'MTR_ECOLI', 'NANT_ECOLI', 'NHAA_ECOLI', 'NHAB_ECOLI',\n",
       "       'PHEP_ECOLI', 'PHOR_ECOLI', 'PNTA_ECOLI', 'POTE_ECOLI',\n",
       "       'PROP_ECOLI', 'PSTA_ECOLI', 'PSTC_ECOLI', 'PTAA_ECOLI',\n",
       "       'PTBA_ECOLI', 'PTCC_ECOLI', 'PTDA_ECOLI', 'PTFB_ECOLI',\n",
       "       'PTGB_ECOLI', 'PTHB_ECOLI', 'PTMA_ECOLI', 'PTOA_ECOLI',\n",
       "       'PTTB_ECOLI', 'RODA_ECOLI', 'SECE_ECOLI', 'SECF_ECOLI',\n",
       "       'SECY_ECOLI', 'TNAB_ECOLI', 'XYLE_ECOLI', 'YCEE_ECOLI',\n",
       "       'EXBD_ECOLI', 'FTSL_ECOLI', 'FTSN_ECOLI', 'FTSQ_ECOLI',\n",
       "       'MOTB_ECOLI', 'TOLA_ECOLI', 'TOLQ_ECOLI', 'EMRB_ECOLI',\n",
       "       'ATKC_ECOLI', 'NFRB_ECOLI', 'NLPA_ECOLI', 'CYOA_ECOLI',\n",
       "       'ATKA_ECOLI', 'BCR_ECOLI', 'CADB_ECOLI', 'CAIT_ECOLI',\n",
       "       'CPXA_ECOLI', 'CRED_ECOLI', 'CYDB_ECOLI', 'CYOB_ECOLI',\n",
       "       'CYOE_ECOLI', 'DMSC_ECOLI', 'DPPB_ECOLI', 'DSBD_ECOLI',\n",
       "       'FEPD_ECOLI', 'FEPG_ECOLI', 'FTSH_ECOLI', 'GLTS_ECOLI',\n",
       "       'KEFC_ECOLI', 'KUP_ECOLI', 'MCP1_ECOLI', 'MCP2_ECOLI',\n",
       "       'MCP4_ECOLI', 'MELB_ECOLI', 'MOTA_ECOLI', 'NUPC_ECOLI',\n",
       "       'NUPG_ECOLI', 'PNTB_ECOLI', 'PTKC_ECOLI', 'RHAT_ECOLI',\n",
       "       'SECD_ECOLI', 'SECG_ECOLI', 'TEHA_ECOLI', 'TYRP_ECOLI',\n",
       "       'UHPB_ECOLI', 'TONB_ECOLI', 'LEP_ECOLI', 'FADL_ECOLI',\n",
       "       'FHUA_ECOLI', 'LAMB_ECOLI', 'NFRA_ECOLI', 'NMPC_ECOLI',\n",
       "       'OMPA_ECOLI', 'OMPC_ECOLI', 'OMPF_ECOLI', 'OMPX_ECOLI',\n",
       "       'PHOE_ECOLI', 'TSX_ECOLI', 'BTUB_ECOLI', 'CIRA_ECOLI',\n",
       "       'FECA_ECOLI', 'FEPA_ECOLI', 'FHUE_ECOLI', 'OMPP_ECOLI',\n",
       "       'OMPT_ECOLI', 'TOLC_ECOLI', 'PA1_ECOLI', 'MULI_ECOLI',\n",
       "       'NLPB_ECOLI', 'NLPE_ECOLI', 'PAL_ECOLI', 'SLP_ECOLI', 'AGP_ECOLI',\n",
       "       'AMY1_ECOLI', 'ARAF_ECOLI', 'ASG2_ECOLI', 'BGLX_ECOLI',\n",
       "       'C562_ECOLI', 'CN16_ECOLI', 'CYPH_ECOLI', 'CYSP_ECOLI',\n",
       "       'DGAL_ECOLI', 'DPPA_ECOLI', 'DSBA_ECOLI', 'DSBC_ECOLI',\n",
       "       'ECOT_ECOLI', 'ECPD_ECOLI', 'FECB_ECOLI', 'FECR_ECOLI',\n",
       "       'FEPB_ECOLI', 'FIMC_ECOLI', 'GGT_ECOLI', 'GLNH_ECOLI',\n",
       "       'GLPQ_ECOLI', 'HTRA_ECOLI', 'LIVJ_ECOLI', 'LIVK_ECOLI',\n",
       "       'MALE_ECOLI', 'MALM_ECOLI', 'MEPA_ECOLI', 'MODA_ECOLI',\n",
       "       'NRFA_ECOLI', 'NRFF_ECOLI', 'OPPA_ECOLI', 'OSMY_ECOLI',\n",
       "       'POTD_ECOLI', 'POTF_ECOLI', 'PPA_ECOLI', 'PPB_ECOLI', 'PROX_ECOLI',\n",
       "       'PSTS_ECOLI', 'PTR_ECOLI', 'RBSB_ECOLI', 'SPEA_ECOLI',\n",
       "       'SUBI_ECOLI', 'TBPA_ECOLI', 'TESA_ECOLI', 'TOLB_ECOLI',\n",
       "       'TORA_ECOLI', 'TREA_ECOLI', 'UGPB_ECOLI', 'USHA_ECOLI',\n",
       "       'XYLF_ECOLI', 'YTFQ_ECOLI'], dtype=object)"
      ]
     },
     "execution_count": 45,
     "metadata": {},
     "output_type": "execute_result"
    }
   ],
   "source": [
    "ecoli.sequence_name.unique()"
   ]
  },
  {
   "cell_type": "code",
   "execution_count": 46,
   "id": "0d59b0ae",
   "metadata": {},
   "outputs": [],
   "source": [
    "#Since the sequence_name is a string column drop the column\n",
    "ecoli.drop(columns=\"sequence_name\" ,inplace=True)"
   ]
  },
  {
   "cell_type": "code",
   "execution_count": 47,
   "id": "bcaa662b",
   "metadata": {},
   "outputs": [
    {
     "name": "stdout",
     "output_type": "stream",
     "text": [
      "Index(['mcg', 'gvh', 'lip', 'chg', 'aac', 'alm1', 'alm2', 'lsp'], dtype='object')\n"
     ]
    }
   ],
   "source": [
    "cols = ecoli.columns\n",
    "print(cols)"
   ]
  },
  {
   "cell_type": "code",
   "execution_count": 48,
   "id": "0e8b44ce",
   "metadata": {},
   "outputs": [
    {
     "data": {
      "text/html": [
       "<div>\n",
       "<style scoped>\n",
       "    .dataframe tbody tr th:only-of-type {\n",
       "        vertical-align: middle;\n",
       "    }\n",
       "\n",
       "    .dataframe tbody tr th {\n",
       "        vertical-align: top;\n",
       "    }\n",
       "\n",
       "    .dataframe thead th {\n",
       "        text-align: right;\n",
       "    }\n",
       "</style>\n",
       "<table border=\"1\" class=\"dataframe\">\n",
       "  <thead>\n",
       "    <tr style=\"text-align: right;\">\n",
       "      <th></th>\n",
       "      <th>mcg</th>\n",
       "      <th>gvh</th>\n",
       "      <th>lip</th>\n",
       "      <th>chg</th>\n",
       "      <th>aac</th>\n",
       "      <th>alm1</th>\n",
       "      <th>alm2</th>\n",
       "      <th>lsp</th>\n",
       "    </tr>\n",
       "  </thead>\n",
       "  <tbody>\n",
       "    <tr>\n",
       "      <th>306</th>\n",
       "      <td>0.63</td>\n",
       "      <td>0.71</td>\n",
       "      <td>0.48</td>\n",
       "      <td>0.5</td>\n",
       "      <td>0.60</td>\n",
       "      <td>0.40</td>\n",
       "      <td>0.39</td>\n",
       "      <td>pp</td>\n",
       "    </tr>\n",
       "    <tr>\n",
       "      <th>307</th>\n",
       "      <td>0.71</td>\n",
       "      <td>0.86</td>\n",
       "      <td>0.48</td>\n",
       "      <td>0.5</td>\n",
       "      <td>0.40</td>\n",
       "      <td>0.54</td>\n",
       "      <td>0.32</td>\n",
       "      <td>pp</td>\n",
       "    </tr>\n",
       "    <tr>\n",
       "      <th>308</th>\n",
       "      <td>0.68</td>\n",
       "      <td>0.78</td>\n",
       "      <td>0.48</td>\n",
       "      <td>0.5</td>\n",
       "      <td>0.43</td>\n",
       "      <td>0.44</td>\n",
       "      <td>0.42</td>\n",
       "      <td>pp</td>\n",
       "    </tr>\n",
       "    <tr>\n",
       "      <th>309</th>\n",
       "      <td>0.64</td>\n",
       "      <td>0.84</td>\n",
       "      <td>0.48</td>\n",
       "      <td>0.5</td>\n",
       "      <td>0.37</td>\n",
       "      <td>0.45</td>\n",
       "      <td>0.40</td>\n",
       "      <td>pp</td>\n",
       "    </tr>\n",
       "    <tr>\n",
       "      <th>310</th>\n",
       "      <td>0.74</td>\n",
       "      <td>0.47</td>\n",
       "      <td>0.48</td>\n",
       "      <td>0.5</td>\n",
       "      <td>0.50</td>\n",
       "      <td>0.57</td>\n",
       "      <td>0.42</td>\n",
       "      <td>pp</td>\n",
       "    </tr>\n",
       "    <tr>\n",
       "      <th>311</th>\n",
       "      <td>0.75</td>\n",
       "      <td>0.84</td>\n",
       "      <td>0.48</td>\n",
       "      <td>0.5</td>\n",
       "      <td>0.35</td>\n",
       "      <td>0.52</td>\n",
       "      <td>0.33</td>\n",
       "      <td>pp</td>\n",
       "    </tr>\n",
       "    <tr>\n",
       "      <th>312</th>\n",
       "      <td>0.63</td>\n",
       "      <td>0.65</td>\n",
       "      <td>0.48</td>\n",
       "      <td>0.5</td>\n",
       "      <td>0.39</td>\n",
       "      <td>0.44</td>\n",
       "      <td>0.35</td>\n",
       "      <td>pp</td>\n",
       "    </tr>\n",
       "    <tr>\n",
       "      <th>313</th>\n",
       "      <td>0.69</td>\n",
       "      <td>0.67</td>\n",
       "      <td>0.48</td>\n",
       "      <td>0.5</td>\n",
       "      <td>0.30</td>\n",
       "      <td>0.39</td>\n",
       "      <td>0.24</td>\n",
       "      <td>pp</td>\n",
       "    </tr>\n",
       "    <tr>\n",
       "      <th>314</th>\n",
       "      <td>0.70</td>\n",
       "      <td>0.71</td>\n",
       "      <td>0.48</td>\n",
       "      <td>0.5</td>\n",
       "      <td>0.42</td>\n",
       "      <td>0.84</td>\n",
       "      <td>0.85</td>\n",
       "      <td>pp</td>\n",
       "    </tr>\n",
       "    <tr>\n",
       "      <th>315</th>\n",
       "      <td>0.69</td>\n",
       "      <td>0.80</td>\n",
       "      <td>0.48</td>\n",
       "      <td>0.5</td>\n",
       "      <td>0.46</td>\n",
       "      <td>0.57</td>\n",
       "      <td>0.26</td>\n",
       "      <td>pp</td>\n",
       "    </tr>\n",
       "    <tr>\n",
       "      <th>316</th>\n",
       "      <td>0.64</td>\n",
       "      <td>0.66</td>\n",
       "      <td>0.48</td>\n",
       "      <td>0.5</td>\n",
       "      <td>0.41</td>\n",
       "      <td>0.39</td>\n",
       "      <td>0.20</td>\n",
       "      <td>pp</td>\n",
       "    </tr>\n",
       "    <tr>\n",
       "      <th>317</th>\n",
       "      <td>0.63</td>\n",
       "      <td>0.80</td>\n",
       "      <td>0.48</td>\n",
       "      <td>0.5</td>\n",
       "      <td>0.46</td>\n",
       "      <td>0.31</td>\n",
       "      <td>0.29</td>\n",
       "      <td>pp</td>\n",
       "    </tr>\n",
       "    <tr>\n",
       "      <th>318</th>\n",
       "      <td>0.66</td>\n",
       "      <td>0.71</td>\n",
       "      <td>0.48</td>\n",
       "      <td>0.5</td>\n",
       "      <td>0.41</td>\n",
       "      <td>0.50</td>\n",
       "      <td>0.35</td>\n",
       "      <td>pp</td>\n",
       "    </tr>\n",
       "    <tr>\n",
       "      <th>319</th>\n",
       "      <td>0.69</td>\n",
       "      <td>0.59</td>\n",
       "      <td>0.48</td>\n",
       "      <td>0.5</td>\n",
       "      <td>0.46</td>\n",
       "      <td>0.44</td>\n",
       "      <td>0.52</td>\n",
       "      <td>pp</td>\n",
       "    </tr>\n",
       "    <tr>\n",
       "      <th>320</th>\n",
       "      <td>0.68</td>\n",
       "      <td>0.67</td>\n",
       "      <td>0.48</td>\n",
       "      <td>0.5</td>\n",
       "      <td>0.49</td>\n",
       "      <td>0.40</td>\n",
       "      <td>0.34</td>\n",
       "      <td>pp</td>\n",
       "    </tr>\n",
       "    <tr>\n",
       "      <th>321</th>\n",
       "      <td>0.64</td>\n",
       "      <td>0.78</td>\n",
       "      <td>0.48</td>\n",
       "      <td>0.5</td>\n",
       "      <td>0.50</td>\n",
       "      <td>0.36</td>\n",
       "      <td>0.38</td>\n",
       "      <td>pp</td>\n",
       "    </tr>\n",
       "    <tr>\n",
       "      <th>322</th>\n",
       "      <td>0.62</td>\n",
       "      <td>0.78</td>\n",
       "      <td>0.48</td>\n",
       "      <td>0.5</td>\n",
       "      <td>0.47</td>\n",
       "      <td>0.49</td>\n",
       "      <td>0.54</td>\n",
       "      <td>pp</td>\n",
       "    </tr>\n",
       "    <tr>\n",
       "      <th>323</th>\n",
       "      <td>0.76</td>\n",
       "      <td>0.73</td>\n",
       "      <td>0.48</td>\n",
       "      <td>0.5</td>\n",
       "      <td>0.44</td>\n",
       "      <td>0.39</td>\n",
       "      <td>0.39</td>\n",
       "      <td>pp</td>\n",
       "    </tr>\n",
       "    <tr>\n",
       "      <th>324</th>\n",
       "      <td>0.64</td>\n",
       "      <td>0.81</td>\n",
       "      <td>0.48</td>\n",
       "      <td>0.5</td>\n",
       "      <td>0.37</td>\n",
       "      <td>0.39</td>\n",
       "      <td>0.44</td>\n",
       "      <td>pp</td>\n",
       "    </tr>\n",
       "    <tr>\n",
       "      <th>325</th>\n",
       "      <td>0.29</td>\n",
       "      <td>0.39</td>\n",
       "      <td>0.48</td>\n",
       "      <td>0.5</td>\n",
       "      <td>0.52</td>\n",
       "      <td>0.40</td>\n",
       "      <td>0.48</td>\n",
       "      <td>pp</td>\n",
       "    </tr>\n",
       "    <tr>\n",
       "      <th>326</th>\n",
       "      <td>0.62</td>\n",
       "      <td>0.83</td>\n",
       "      <td>0.48</td>\n",
       "      <td>0.5</td>\n",
       "      <td>0.46</td>\n",
       "      <td>0.36</td>\n",
       "      <td>0.40</td>\n",
       "      <td>pp</td>\n",
       "    </tr>\n",
       "    <tr>\n",
       "      <th>327</th>\n",
       "      <td>0.56</td>\n",
       "      <td>0.54</td>\n",
       "      <td>0.48</td>\n",
       "      <td>0.5</td>\n",
       "      <td>0.43</td>\n",
       "      <td>0.37</td>\n",
       "      <td>0.30</td>\n",
       "      <td>pp</td>\n",
       "    </tr>\n",
       "    <tr>\n",
       "      <th>328</th>\n",
       "      <td>0.69</td>\n",
       "      <td>0.66</td>\n",
       "      <td>0.48</td>\n",
       "      <td>0.5</td>\n",
       "      <td>0.41</td>\n",
       "      <td>0.50</td>\n",
       "      <td>0.25</td>\n",
       "      <td>pp</td>\n",
       "    </tr>\n",
       "    <tr>\n",
       "      <th>329</th>\n",
       "      <td>0.69</td>\n",
       "      <td>0.65</td>\n",
       "      <td>0.48</td>\n",
       "      <td>0.5</td>\n",
       "      <td>0.63</td>\n",
       "      <td>0.48</td>\n",
       "      <td>0.41</td>\n",
       "      <td>pp</td>\n",
       "    </tr>\n",
       "    <tr>\n",
       "      <th>330</th>\n",
       "      <td>0.43</td>\n",
       "      <td>0.59</td>\n",
       "      <td>0.48</td>\n",
       "      <td>0.5</td>\n",
       "      <td>0.52</td>\n",
       "      <td>0.49</td>\n",
       "      <td>0.56</td>\n",
       "      <td>pp</td>\n",
       "    </tr>\n",
       "    <tr>\n",
       "      <th>331</th>\n",
       "      <td>0.74</td>\n",
       "      <td>0.56</td>\n",
       "      <td>0.48</td>\n",
       "      <td>0.5</td>\n",
       "      <td>0.47</td>\n",
       "      <td>0.68</td>\n",
       "      <td>0.30</td>\n",
       "      <td>pp</td>\n",
       "    </tr>\n",
       "    <tr>\n",
       "      <th>332</th>\n",
       "      <td>0.71</td>\n",
       "      <td>0.57</td>\n",
       "      <td>0.48</td>\n",
       "      <td>0.5</td>\n",
       "      <td>0.48</td>\n",
       "      <td>0.35</td>\n",
       "      <td>0.32</td>\n",
       "      <td>pp</td>\n",
       "    </tr>\n",
       "    <tr>\n",
       "      <th>333</th>\n",
       "      <td>0.61</td>\n",
       "      <td>0.60</td>\n",
       "      <td>0.48</td>\n",
       "      <td>0.5</td>\n",
       "      <td>0.44</td>\n",
       "      <td>0.39</td>\n",
       "      <td>0.38</td>\n",
       "      <td>pp</td>\n",
       "    </tr>\n",
       "    <tr>\n",
       "      <th>334</th>\n",
       "      <td>0.59</td>\n",
       "      <td>0.61</td>\n",
       "      <td>0.48</td>\n",
       "      <td>0.5</td>\n",
       "      <td>0.42</td>\n",
       "      <td>0.42</td>\n",
       "      <td>0.37</td>\n",
       "      <td>pp</td>\n",
       "    </tr>\n",
       "    <tr>\n",
       "      <th>335</th>\n",
       "      <td>0.74</td>\n",
       "      <td>0.74</td>\n",
       "      <td>0.48</td>\n",
       "      <td>0.5</td>\n",
       "      <td>0.31</td>\n",
       "      <td>0.53</td>\n",
       "      <td>0.52</td>\n",
       "      <td>pp</td>\n",
       "    </tr>\n",
       "  </tbody>\n",
       "</table>\n",
       "</div>"
      ],
      "text/plain": [
       "      mcg   gvh   lip  chg   aac  alm1  alm2 lsp\n",
       "306  0.63  0.71  0.48  0.5  0.60  0.40  0.39  pp\n",
       "307  0.71  0.86  0.48  0.5  0.40  0.54  0.32  pp\n",
       "308  0.68  0.78  0.48  0.5  0.43  0.44  0.42  pp\n",
       "309  0.64  0.84  0.48  0.5  0.37  0.45  0.40  pp\n",
       "310  0.74  0.47  0.48  0.5  0.50  0.57  0.42  pp\n",
       "311  0.75  0.84  0.48  0.5  0.35  0.52  0.33  pp\n",
       "312  0.63  0.65  0.48  0.5  0.39  0.44  0.35  pp\n",
       "313  0.69  0.67  0.48  0.5  0.30  0.39  0.24  pp\n",
       "314  0.70  0.71  0.48  0.5  0.42  0.84  0.85  pp\n",
       "315  0.69  0.80  0.48  0.5  0.46  0.57  0.26  pp\n",
       "316  0.64  0.66  0.48  0.5  0.41  0.39  0.20  pp\n",
       "317  0.63  0.80  0.48  0.5  0.46  0.31  0.29  pp\n",
       "318  0.66  0.71  0.48  0.5  0.41  0.50  0.35  pp\n",
       "319  0.69  0.59  0.48  0.5  0.46  0.44  0.52  pp\n",
       "320  0.68  0.67  0.48  0.5  0.49  0.40  0.34  pp\n",
       "321  0.64  0.78  0.48  0.5  0.50  0.36  0.38  pp\n",
       "322  0.62  0.78  0.48  0.5  0.47  0.49  0.54  pp\n",
       "323  0.76  0.73  0.48  0.5  0.44  0.39  0.39  pp\n",
       "324  0.64  0.81  0.48  0.5  0.37  0.39  0.44  pp\n",
       "325  0.29  0.39  0.48  0.5  0.52  0.40  0.48  pp\n",
       "326  0.62  0.83  0.48  0.5  0.46  0.36  0.40  pp\n",
       "327  0.56  0.54  0.48  0.5  0.43  0.37  0.30  pp\n",
       "328  0.69  0.66  0.48  0.5  0.41  0.50  0.25  pp\n",
       "329  0.69  0.65  0.48  0.5  0.63  0.48  0.41  pp\n",
       "330  0.43  0.59  0.48  0.5  0.52  0.49  0.56  pp\n",
       "331  0.74  0.56  0.48  0.5  0.47  0.68  0.30  pp\n",
       "332  0.71  0.57  0.48  0.5  0.48  0.35  0.32  pp\n",
       "333  0.61  0.60  0.48  0.5  0.44  0.39  0.38  pp\n",
       "334  0.59  0.61  0.48  0.5  0.42  0.42  0.37  pp\n",
       "335  0.74  0.74  0.48  0.5  0.31  0.53  0.52  pp"
      ]
     },
     "execution_count": 48,
     "metadata": {},
     "output_type": "execute_result"
    }
   ],
   "source": [
    "ecoli.tail(30)"
   ]
  },
  {
   "cell_type": "code",
   "execution_count": 49,
   "id": "e75c6f84",
   "metadata": {},
   "outputs": [],
   "source": [
    "#As the data is stored according to y variable we will shuffle the data\n",
    "ecoli = ecoli.sample(frac = 1)"
   ]
  },
  {
   "cell_type": "code",
   "execution_count": 50,
   "id": "e94e5768",
   "metadata": {},
   "outputs": [
    {
     "data": {
      "text/html": [
       "<div>\n",
       "<style scoped>\n",
       "    .dataframe tbody tr th:only-of-type {\n",
       "        vertical-align: middle;\n",
       "    }\n",
       "\n",
       "    .dataframe tbody tr th {\n",
       "        vertical-align: top;\n",
       "    }\n",
       "\n",
       "    .dataframe thead th {\n",
       "        text-align: right;\n",
       "    }\n",
       "</style>\n",
       "<table border=\"1\" class=\"dataframe\">\n",
       "  <thead>\n",
       "    <tr style=\"text-align: right;\">\n",
       "      <th></th>\n",
       "      <th>mcg</th>\n",
       "      <th>gvh</th>\n",
       "      <th>lip</th>\n",
       "      <th>chg</th>\n",
       "      <th>aac</th>\n",
       "      <th>alm1</th>\n",
       "      <th>alm2</th>\n",
       "      <th>lsp</th>\n",
       "    </tr>\n",
       "  </thead>\n",
       "  <tbody>\n",
       "    <tr>\n",
       "      <th>281</th>\n",
       "      <td>0.71</td>\n",
       "      <td>0.46</td>\n",
       "      <td>1.00</td>\n",
       "      <td>0.5</td>\n",
       "      <td>0.52</td>\n",
       "      <td>0.59</td>\n",
       "      <td>0.30</td>\n",
       "      <td>omL</td>\n",
       "    </tr>\n",
       "    <tr>\n",
       "      <th>48</th>\n",
       "      <td>0.42</td>\n",
       "      <td>0.35</td>\n",
       "      <td>0.48</td>\n",
       "      <td>0.5</td>\n",
       "      <td>0.58</td>\n",
       "      <td>0.15</td>\n",
       "      <td>0.27</td>\n",
       "      <td>cp</td>\n",
       "    </tr>\n",
       "    <tr>\n",
       "      <th>290</th>\n",
       "      <td>0.67</td>\n",
       "      <td>0.70</td>\n",
       "      <td>0.48</td>\n",
       "      <td>0.5</td>\n",
       "      <td>0.46</td>\n",
       "      <td>0.45</td>\n",
       "      <td>0.33</td>\n",
       "      <td>pp</td>\n",
       "    </tr>\n",
       "    <tr>\n",
       "      <th>263</th>\n",
       "      <td>0.67</td>\n",
       "      <td>0.84</td>\n",
       "      <td>0.48</td>\n",
       "      <td>0.5</td>\n",
       "      <td>0.74</td>\n",
       "      <td>0.54</td>\n",
       "      <td>0.37</td>\n",
       "      <td>om</td>\n",
       "    </tr>\n",
       "    <tr>\n",
       "      <th>71</th>\n",
       "      <td>0.44</td>\n",
       "      <td>0.51</td>\n",
       "      <td>0.48</td>\n",
       "      <td>0.5</td>\n",
       "      <td>0.47</td>\n",
       "      <td>0.26</td>\n",
       "      <td>0.36</td>\n",
       "      <td>cp</td>\n",
       "    </tr>\n",
       "    <tr>\n",
       "      <th>322</th>\n",
       "      <td>0.62</td>\n",
       "      <td>0.78</td>\n",
       "      <td>0.48</td>\n",
       "      <td>0.5</td>\n",
       "      <td>0.47</td>\n",
       "      <td>0.49</td>\n",
       "      <td>0.54</td>\n",
       "      <td>pp</td>\n",
       "    </tr>\n",
       "    <tr>\n",
       "      <th>212</th>\n",
       "      <td>0.46</td>\n",
       "      <td>0.59</td>\n",
       "      <td>0.48</td>\n",
       "      <td>0.5</td>\n",
       "      <td>0.36</td>\n",
       "      <td>0.76</td>\n",
       "      <td>0.23</td>\n",
       "      <td>im</td>\n",
       "    </tr>\n",
       "    <tr>\n",
       "      <th>191</th>\n",
       "      <td>0.63</td>\n",
       "      <td>0.65</td>\n",
       "      <td>0.48</td>\n",
       "      <td>0.5</td>\n",
       "      <td>0.66</td>\n",
       "      <td>0.67</td>\n",
       "      <td>0.71</td>\n",
       "      <td>im</td>\n",
       "    </tr>\n",
       "    <tr>\n",
       "      <th>181</th>\n",
       "      <td>0.70</td>\n",
       "      <td>0.40</td>\n",
       "      <td>0.48</td>\n",
       "      <td>0.5</td>\n",
       "      <td>0.56</td>\n",
       "      <td>0.86</td>\n",
       "      <td>0.83</td>\n",
       "      <td>im</td>\n",
       "    </tr>\n",
       "    <tr>\n",
       "      <th>112</th>\n",
       "      <td>0.35</td>\n",
       "      <td>0.34</td>\n",
       "      <td>0.48</td>\n",
       "      <td>0.5</td>\n",
       "      <td>0.46</td>\n",
       "      <td>0.30</td>\n",
       "      <td>0.27</td>\n",
       "      <td>cp</td>\n",
       "    </tr>\n",
       "    <tr>\n",
       "      <th>147</th>\n",
       "      <td>0.34</td>\n",
       "      <td>0.49</td>\n",
       "      <td>0.48</td>\n",
       "      <td>0.5</td>\n",
       "      <td>0.58</td>\n",
       "      <td>0.85</td>\n",
       "      <td>0.80</td>\n",
       "      <td>im</td>\n",
       "    </tr>\n",
       "    <tr>\n",
       "      <th>278</th>\n",
       "      <td>0.68</td>\n",
       "      <td>0.63</td>\n",
       "      <td>0.48</td>\n",
       "      <td>0.5</td>\n",
       "      <td>0.73</td>\n",
       "      <td>0.40</td>\n",
       "      <td>0.30</td>\n",
       "      <td>om</td>\n",
       "    </tr>\n",
       "    <tr>\n",
       "      <th>153</th>\n",
       "      <td>0.55</td>\n",
       "      <td>0.47</td>\n",
       "      <td>0.48</td>\n",
       "      <td>0.5</td>\n",
       "      <td>0.57</td>\n",
       "      <td>0.78</td>\n",
       "      <td>0.80</td>\n",
       "      <td>im</td>\n",
       "    </tr>\n",
       "    <tr>\n",
       "      <th>209</th>\n",
       "      <td>0.68</td>\n",
       "      <td>0.51</td>\n",
       "      <td>0.48</td>\n",
       "      <td>0.5</td>\n",
       "      <td>0.71</td>\n",
       "      <td>0.75</td>\n",
       "      <td>0.78</td>\n",
       "      <td>im</td>\n",
       "    </tr>\n",
       "    <tr>\n",
       "      <th>21</th>\n",
       "      <td>0.31</td>\n",
       "      <td>0.23</td>\n",
       "      <td>0.48</td>\n",
       "      <td>0.5</td>\n",
       "      <td>0.73</td>\n",
       "      <td>0.05</td>\n",
       "      <td>0.14</td>\n",
       "      <td>cp</td>\n",
       "    </tr>\n",
       "    <tr>\n",
       "      <th>276</th>\n",
       "      <td>0.63</td>\n",
       "      <td>0.49</td>\n",
       "      <td>0.48</td>\n",
       "      <td>0.5</td>\n",
       "      <td>0.79</td>\n",
       "      <td>0.45</td>\n",
       "      <td>0.28</td>\n",
       "      <td>om</td>\n",
       "    </tr>\n",
       "    <tr>\n",
       "      <th>64</th>\n",
       "      <td>0.47</td>\n",
       "      <td>0.29</td>\n",
       "      <td>0.48</td>\n",
       "      <td>0.5</td>\n",
       "      <td>0.51</td>\n",
       "      <td>0.33</td>\n",
       "      <td>0.43</td>\n",
       "      <td>cp</td>\n",
       "    </tr>\n",
       "    <tr>\n",
       "      <th>240</th>\n",
       "      <td>0.63</td>\n",
       "      <td>0.42</td>\n",
       "      <td>0.48</td>\n",
       "      <td>0.5</td>\n",
       "      <td>0.48</td>\n",
       "      <td>0.77</td>\n",
       "      <td>0.80</td>\n",
       "      <td>imU</td>\n",
       "    </tr>\n",
       "    <tr>\n",
       "      <th>234</th>\n",
       "      <td>0.64</td>\n",
       "      <td>0.46</td>\n",
       "      <td>0.48</td>\n",
       "      <td>0.5</td>\n",
       "      <td>0.48</td>\n",
       "      <td>0.73</td>\n",
       "      <td>0.76</td>\n",
       "      <td>imU</td>\n",
       "    </tr>\n",
       "    <tr>\n",
       "      <th>47</th>\n",
       "      <td>0.43</td>\n",
       "      <td>0.40</td>\n",
       "      <td>0.48</td>\n",
       "      <td>0.5</td>\n",
       "      <td>0.39</td>\n",
       "      <td>0.28</td>\n",
       "      <td>0.39</td>\n",
       "      <td>cp</td>\n",
       "    </tr>\n",
       "    <tr>\n",
       "      <th>138</th>\n",
       "      <td>0.40</td>\n",
       "      <td>0.41</td>\n",
       "      <td>0.48</td>\n",
       "      <td>0.5</td>\n",
       "      <td>0.55</td>\n",
       "      <td>0.22</td>\n",
       "      <td>0.33</td>\n",
       "      <td>cp</td>\n",
       "    </tr>\n",
       "    <tr>\n",
       "      <th>83</th>\n",
       "      <td>0.34</td>\n",
       "      <td>0.55</td>\n",
       "      <td>0.48</td>\n",
       "      <td>0.5</td>\n",
       "      <td>0.58</td>\n",
       "      <td>0.31</td>\n",
       "      <td>0.41</td>\n",
       "      <td>cp</td>\n",
       "    </tr>\n",
       "    <tr>\n",
       "      <th>37</th>\n",
       "      <td>0.65</td>\n",
       "      <td>0.47</td>\n",
       "      <td>0.48</td>\n",
       "      <td>0.5</td>\n",
       "      <td>0.59</td>\n",
       "      <td>0.30</td>\n",
       "      <td>0.40</td>\n",
       "      <td>cp</td>\n",
       "    </tr>\n",
       "    <tr>\n",
       "      <th>26</th>\n",
       "      <td>0.25</td>\n",
       "      <td>0.40</td>\n",
       "      <td>0.48</td>\n",
       "      <td>0.5</td>\n",
       "      <td>0.47</td>\n",
       "      <td>0.33</td>\n",
       "      <td>0.42</td>\n",
       "      <td>cp</td>\n",
       "    </tr>\n",
       "    <tr>\n",
       "      <th>152</th>\n",
       "      <td>0.29</td>\n",
       "      <td>0.47</td>\n",
       "      <td>0.48</td>\n",
       "      <td>0.5</td>\n",
       "      <td>0.71</td>\n",
       "      <td>0.65</td>\n",
       "      <td>0.69</td>\n",
       "      <td>im</td>\n",
       "    </tr>\n",
       "    <tr>\n",
       "      <th>70</th>\n",
       "      <td>0.26</td>\n",
       "      <td>0.26</td>\n",
       "      <td>0.48</td>\n",
       "      <td>0.5</td>\n",
       "      <td>0.34</td>\n",
       "      <td>0.25</td>\n",
       "      <td>0.35</td>\n",
       "      <td>cp</td>\n",
       "    </tr>\n",
       "    <tr>\n",
       "      <th>237</th>\n",
       "      <td>0.77</td>\n",
       "      <td>0.55</td>\n",
       "      <td>0.48</td>\n",
       "      <td>0.5</td>\n",
       "      <td>0.51</td>\n",
       "      <td>0.78</td>\n",
       "      <td>0.74</td>\n",
       "      <td>imU</td>\n",
       "    </tr>\n",
       "    <tr>\n",
       "      <th>229</th>\n",
       "      <td>0.78</td>\n",
       "      <td>0.33</td>\n",
       "      <td>0.48</td>\n",
       "      <td>0.5</td>\n",
       "      <td>0.57</td>\n",
       "      <td>0.77</td>\n",
       "      <td>0.79</td>\n",
       "      <td>imU</td>\n",
       "    </tr>\n",
       "    <tr>\n",
       "      <th>158</th>\n",
       "      <td>0.48</td>\n",
       "      <td>0.45</td>\n",
       "      <td>0.48</td>\n",
       "      <td>0.5</td>\n",
       "      <td>0.60</td>\n",
       "      <td>0.78</td>\n",
       "      <td>0.80</td>\n",
       "      <td>im</td>\n",
       "    </tr>\n",
       "    <tr>\n",
       "      <th>253</th>\n",
       "      <td>0.84</td>\n",
       "      <td>0.54</td>\n",
       "      <td>0.48</td>\n",
       "      <td>0.5</td>\n",
       "      <td>0.75</td>\n",
       "      <td>0.92</td>\n",
       "      <td>0.70</td>\n",
       "      <td>imU</td>\n",
       "    </tr>\n",
       "  </tbody>\n",
       "</table>\n",
       "</div>"
      ],
      "text/plain": [
       "      mcg   gvh   lip  chg   aac  alm1  alm2  lsp\n",
       "281  0.71  0.46  1.00  0.5  0.52  0.59  0.30  omL\n",
       "48   0.42  0.35  0.48  0.5  0.58  0.15  0.27   cp\n",
       "290  0.67  0.70  0.48  0.5  0.46  0.45  0.33   pp\n",
       "263  0.67  0.84  0.48  0.5  0.74  0.54  0.37   om\n",
       "71   0.44  0.51  0.48  0.5  0.47  0.26  0.36   cp\n",
       "322  0.62  0.78  0.48  0.5  0.47  0.49  0.54   pp\n",
       "212  0.46  0.59  0.48  0.5  0.36  0.76  0.23   im\n",
       "191  0.63  0.65  0.48  0.5  0.66  0.67  0.71   im\n",
       "181  0.70  0.40  0.48  0.5  0.56  0.86  0.83   im\n",
       "112  0.35  0.34  0.48  0.5  0.46  0.30  0.27   cp\n",
       "147  0.34  0.49  0.48  0.5  0.58  0.85  0.80   im\n",
       "278  0.68  0.63  0.48  0.5  0.73  0.40  0.30   om\n",
       "153  0.55  0.47  0.48  0.5  0.57  0.78  0.80   im\n",
       "209  0.68  0.51  0.48  0.5  0.71  0.75  0.78   im\n",
       "21   0.31  0.23  0.48  0.5  0.73  0.05  0.14   cp\n",
       "276  0.63  0.49  0.48  0.5  0.79  0.45  0.28   om\n",
       "64   0.47  0.29  0.48  0.5  0.51  0.33  0.43   cp\n",
       "240  0.63  0.42  0.48  0.5  0.48  0.77  0.80  imU\n",
       "234  0.64  0.46  0.48  0.5  0.48  0.73  0.76  imU\n",
       "47   0.43  0.40  0.48  0.5  0.39  0.28  0.39   cp\n",
       "138  0.40  0.41  0.48  0.5  0.55  0.22  0.33   cp\n",
       "83   0.34  0.55  0.48  0.5  0.58  0.31  0.41   cp\n",
       "37   0.65  0.47  0.48  0.5  0.59  0.30  0.40   cp\n",
       "26   0.25  0.40  0.48  0.5  0.47  0.33  0.42   cp\n",
       "152  0.29  0.47  0.48  0.5  0.71  0.65  0.69   im\n",
       "70   0.26  0.26  0.48  0.5  0.34  0.25  0.35   cp\n",
       "237  0.77  0.55  0.48  0.5  0.51  0.78  0.74  imU\n",
       "229  0.78  0.33  0.48  0.5  0.57  0.77  0.79  imU\n",
       "158  0.48  0.45  0.48  0.5  0.60  0.78  0.80   im\n",
       "253  0.84  0.54  0.48  0.5  0.75  0.92  0.70  imU"
      ]
     },
     "execution_count": 50,
     "metadata": {},
     "output_type": "execute_result"
    }
   ],
   "source": [
    "ecoli.tail(30)"
   ]
  },
  {
   "cell_type": "code",
   "execution_count": 51,
   "id": "6c452a3a",
   "metadata": {},
   "outputs": [
    {
     "data": {
      "text/plain": [
       "cp     143\n",
       "im      77\n",
       "pp      52\n",
       "imU     35\n",
       "om      20\n",
       "omL      5\n",
       "imS      2\n",
       "imL      2\n",
       "Name: lsp, dtype: int64"
      ]
     },
     "execution_count": 51,
     "metadata": {},
     "output_type": "execute_result"
    }
   ],
   "source": [
    "# Get the Y-variable class distribution\n",
    "ecoli.lsp.value_counts()"
   ]
  },
  {
   "cell_type": "code",
   "execution_count": 52,
   "id": "21051328",
   "metadata": {},
   "outputs": [
    {
     "name": "stderr",
     "output_type": "stream",
     "text": [
      "C:\\Users\\YASHPU~1\\AppData\\Local\\Temp/ipykernel_3628/421530966.py:2: FutureWarning: In a future version of pandas all arguments of DataFrame.drop except for the argument 'labels' will be keyword-only\n",
      "  trainx,testx,trainy,testy = train_test_split(ecoli.drop(\"lsp\",1),ecoli.lsp,test_size=0.25)\n"
     ]
    }
   ],
   "source": [
    "#split the data train and test \n",
    "trainx,testx,trainy,testy = train_test_split(ecoli.drop(\"lsp\",1),ecoli.lsp,test_size=0.25)"
   ]
  },
  {
   "cell_type": "code",
   "execution_count": 53,
   "id": "0ea3425c",
   "metadata": {},
   "outputs": [
    {
     "name": "stdout",
     "output_type": "stream",
     "text": [
      "trainx = (252, 7), trainy = (252,)\n",
      "testx = (84, 7), testy = (84,)\n"
     ]
    }
   ],
   "source": [
    "print(\"trainx = {}, trainy = {}\".format(trainx.shape, trainy.shape))\n",
    "print(\"testx = {}, testy = {}\".format(testx.shape, testy.shape))"
   ]
  },
  {
   "cell_type": "code",
   "execution_count": 54,
   "id": "be95a33a",
   "metadata": {},
   "outputs": [
    {
     "data": {
      "text/plain": [
       "7"
      ]
     },
     "execution_count": 54,
     "metadata": {},
     "output_type": "execute_result"
    }
   ],
   "source": [
    "len(set(trainy))"
   ]
  },
  {
   "cell_type": "code",
   "execution_count": 55,
   "id": "e11f4c91",
   "metadata": {},
   "outputs": [
    {
     "data": {
      "text/plain": [
       "8"
      ]
     },
     "execution_count": 55,
     "metadata": {},
     "output_type": "execute_result"
    }
   ],
   "source": [
    "len(set(testy))"
   ]
  },
  {
   "cell_type": "code",
   "execution_count": 56,
   "id": "919324f6",
   "metadata": {},
   "outputs": [],
   "source": [
    "#Build Decision Tree Model \n",
    "#Set 1 --> wihtout hyper parameter tuning\n",
    "#Entropy Model\n",
    "m1_ent = dtc (criterion=\"entropy\").fit(trainx,trainy)"
   ]
  },
  {
   "cell_type": "code",
   "execution_count": 57,
   "id": "c0d0ee26",
   "metadata": {},
   "outputs": [],
   "source": [
    "#Build the Gini Model\n",
    "m1_gini = dtc(criterion=\"gini\").fit(trainx,trainy)"
   ]
  },
  {
   "cell_type": "code",
   "execution_count": 58,
   "id": "c6b97948",
   "metadata": {
    "scrolled": true
   },
   "outputs": [],
   "source": [
    "#plot the decision tree\n",
    "#features  = columns of training data \n",
    "#classes = unique classes of the training data \n",
    "#fig = plt.figure(figsize=(300,150))\n",
    "#tree.plot_tree(m1_ent,\n",
    " #             feature_names=trainx.columns,\n",
    "  #            class_names=trainy.unique(),\n",
    "   #           filled = True)"
   ]
  },
  {
   "cell_type": "code",
   "execution_count": 59,
   "id": "930ffaa1",
   "metadata": {},
   "outputs": [],
   "source": [
    "p1_ent = m1_ent.predict(testx)"
   ]
  },
  {
   "cell_type": "code",
   "execution_count": 60,
   "id": "532f86ca",
   "metadata": {},
   "outputs": [],
   "source": [
    "p1_gini = m1_gini.predict(testx)"
   ]
  },
  {
   "cell_type": "code",
   "execution_count": 61,
   "id": "280620b9",
   "metadata": {
    "scrolled": true
   },
   "outputs": [
    {
     "name": "stdout",
     "output_type": "stream",
     "text": [
      "Accuracy Score of entropy model =0.7738095238095238\n",
      "Accuracy Score of Gini model =0.7142857142857143\n"
     ]
    }
   ],
   "source": [
    "#Compare the accuracy of the two models \n",
    "print(\"Accuracy Score of entropy model ={}\".format(accuracy_score(testy,p1_ent)))\n",
    "print(\"Accuracy Score of Gini model ={}\".format(accuracy_score(testy,p1_gini)))"
   ]
  },
  {
   "cell_type": "code",
   "execution_count": 24,
   "id": "677a7499",
   "metadata": {},
   "outputs": [
    {
     "name": "stdout",
     "output_type": "stream",
     "text": [
      "CR for Entropy model....\n",
      "              precision    recall  f1-score   support\n",
      "\n",
      "          cp       0.93      0.93      0.93        40\n",
      "          im       0.80      0.91      0.85        22\n",
      "         imL       0.00      0.00      0.00         1\n",
      "         imU       1.00      0.57      0.73         7\n",
      "          om       0.33      0.33      0.33         3\n",
      "         omL       0.50      1.00      0.67         1\n",
      "          pp       0.70      0.70      0.70        10\n",
      "\n",
      "    accuracy                           0.83        84\n",
      "   macro avg       0.61      0.63      0.60        84\n",
      "weighted avg       0.83      0.83      0.83        84\n",
      "\n"
     ]
    }
   ],
   "source": [
    "#Classification Report (Class wise prediction)\n",
    "print(\"CR for Entropy model....\")\n",
    "print(classification_report(testy,p1_ent,zero_division=0))"
   ]
  },
  {
   "cell_type": "code",
   "execution_count": 25,
   "id": "a35c9caf",
   "metadata": {},
   "outputs": [
    {
     "name": "stdout",
     "output_type": "stream",
     "text": [
      "CR for Gini model....\n",
      "              precision    recall  f1-score   support\n",
      "\n",
      "          cp       0.93      0.97      0.95        40\n",
      "          im       0.86      0.86      0.86        22\n",
      "         imL       0.00      0.00      0.00         1\n",
      "         imU       1.00      0.29      0.44         7\n",
      "          om       0.50      0.33      0.40         3\n",
      "         omL       0.50      1.00      0.67         1\n",
      "          pp       0.54      0.70      0.61        10\n",
      "\n",
      "    accuracy                           0.82        84\n",
      "   macro avg       0.62      0.59      0.56        84\n",
      "weighted avg       0.84      0.82      0.81        84\n",
      "\n"
     ]
    }
   ],
   "source": [
    "print(\"CR for Gini model....\")\n",
    "print(classification_report(testy,p1_gini,zero_division=0))"
   ]
  },
  {
   "cell_type": "code",
   "execution_count": 26,
   "id": "33cd5be9",
   "metadata": {},
   "outputs": [],
   "source": [
    "#HYPer PARAMETER TUNING using GRID search\n",
    "from sklearn.model_selection import GridSearchCV"
   ]
  },
  {
   "cell_type": "code",
   "execution_count": 27,
   "id": "c9f5e7d5",
   "metadata": {},
   "outputs": [],
   "source": [
    "#Create the instacne of Decision Tree Classifier \n",
    "dtclf = dtc()"
   ]
  },
  {
   "cell_type": "code",
   "execution_count": 28,
   "id": "5b6c3dcc",
   "metadata": {},
   "outputs": [],
   "source": [
    "params = {\"criterion\": ['entropy','gini'],\n",
    "          \"max_depth\":np.arange(2,6),\n",
    "         \"min_samples_leaf\":np.arange(3,10),\n",
    "         \"max_features\":np.arange(2,6)\n",
    "         }"
   ]
  },
  {
   "cell_type": "code",
   "execution_count": 29,
   "id": "13081f25",
   "metadata": {},
   "outputs": [
    {
     "name": "stderr",
     "output_type": "stream",
     "text": [
      "D:\\Anaconda\\lib\\site-packages\\sklearn\\model_selection\\_split.py:666: UserWarning: The least populated class in y has only 1 members, which is less than n_splits=5.\n",
      "  warnings.warn((\"The least populated class in y has only %d\"\n"
     ]
    }
   ],
   "source": [
    "#Perform the Grid Search\n",
    "grid1 = GridSearchCV(dtclf,\n",
    "                     param_grid=params,\n",
    "                    scoring='accuracy',\n",
    "                    n_jobs=-1,\n",
    "                    cv = 5).fit(trainx,trainy)"
   ]
  },
  {
   "cell_type": "code",
   "execution_count": 30,
   "id": "46bd264b",
   "metadata": {},
   "outputs": [
    {
     "name": "stdout",
     "output_type": "stream",
     "text": [
      "{'criterion': 'gini', 'max_depth': 4, 'max_features': 5, 'min_samples_leaf': 5}\n",
      "0.8334901960784313\n",
      "DecisionTreeClassifier(max_depth=4, max_features=5, min_samples_leaf=5)\n"
     ]
    }
   ],
   "source": [
    "#Find out the Best Parameter \n",
    "print(grid1.best_params_)\n",
    "print(grid1.best_score_)\n",
    "print(grid1.best_estimator_)"
   ]
  },
  {
   "cell_type": "code",
   "execution_count": 31,
   "id": "875be6a2",
   "metadata": {},
   "outputs": [],
   "source": [
    "#Model 2 with hyper parameter tuning \n",
    "m2 = dtc(criterion=\"gini\", max_depth=4, max_features=4, min_samples_leaf=5).fit(trainx,trainy)"
   ]
  },
  {
   "cell_type": "code",
   "execution_count": 32,
   "id": "da1c9bb1",
   "metadata": {},
   "outputs": [],
   "source": [
    "p2 = m2.predict(testx)"
   ]
  },
  {
   "cell_type": "code",
   "execution_count": 33,
   "id": "41254737",
   "metadata": {},
   "outputs": [
    {
     "name": "stdout",
     "output_type": "stream",
     "text": [
      "Accuracy Score for m2 =0.8214285714285714\n"
     ]
    }
   ],
   "source": [
    "print(\"Accuracy Score for m2 ={}\" .format(accuracy_score(testy,p2)))"
   ]
  },
  {
   "cell_type": "code",
   "execution_count": 34,
   "id": "93c8d6d6",
   "metadata": {},
   "outputs": [
    {
     "data": {
      "text/html": [
       "<div>\n",
       "<style scoped>\n",
       "    .dataframe tbody tr th:only-of-type {\n",
       "        vertical-align: middle;\n",
       "    }\n",
       "\n",
       "    .dataframe tbody tr th {\n",
       "        vertical-align: top;\n",
       "    }\n",
       "\n",
       "    .dataframe thead th {\n",
       "        text-align: right;\n",
       "    }\n",
       "</style>\n",
       "<table border=\"1\" class=\"dataframe\">\n",
       "  <thead>\n",
       "    <tr style=\"text-align: right;\">\n",
       "      <th>col_0</th>\n",
       "      <th>cp</th>\n",
       "      <th>im</th>\n",
       "      <th>imU</th>\n",
       "      <th>om</th>\n",
       "      <th>omL</th>\n",
       "      <th>pp</th>\n",
       "      <th>All</th>\n",
       "    </tr>\n",
       "    <tr>\n",
       "      <th>lsp</th>\n",
       "      <th></th>\n",
       "      <th></th>\n",
       "      <th></th>\n",
       "      <th></th>\n",
       "      <th></th>\n",
       "      <th></th>\n",
       "      <th></th>\n",
       "    </tr>\n",
       "  </thead>\n",
       "  <tbody>\n",
       "    <tr>\n",
       "      <th>cp</th>\n",
       "      <td>39</td>\n",
       "      <td>0</td>\n",
       "      <td>0</td>\n",
       "      <td>0</td>\n",
       "      <td>0</td>\n",
       "      <td>1</td>\n",
       "      <td>40</td>\n",
       "    </tr>\n",
       "    <tr>\n",
       "      <th>im</th>\n",
       "      <td>1</td>\n",
       "      <td>20</td>\n",
       "      <td>0</td>\n",
       "      <td>0</td>\n",
       "      <td>1</td>\n",
       "      <td>0</td>\n",
       "      <td>22</td>\n",
       "    </tr>\n",
       "    <tr>\n",
       "      <th>imL</th>\n",
       "      <td>0</td>\n",
       "      <td>0</td>\n",
       "      <td>0</td>\n",
       "      <td>0</td>\n",
       "      <td>0</td>\n",
       "      <td>1</td>\n",
       "      <td>1</td>\n",
       "    </tr>\n",
       "    <tr>\n",
       "      <th>imU</th>\n",
       "      <td>0</td>\n",
       "      <td>5</td>\n",
       "      <td>2</td>\n",
       "      <td>0</td>\n",
       "      <td>0</td>\n",
       "      <td>0</td>\n",
       "      <td>7</td>\n",
       "    </tr>\n",
       "    <tr>\n",
       "      <th>om</th>\n",
       "      <td>0</td>\n",
       "      <td>0</td>\n",
       "      <td>0</td>\n",
       "      <td>0</td>\n",
       "      <td>0</td>\n",
       "      <td>3</td>\n",
       "      <td>3</td>\n",
       "    </tr>\n",
       "    <tr>\n",
       "      <th>omL</th>\n",
       "      <td>0</td>\n",
       "      <td>0</td>\n",
       "      <td>0</td>\n",
       "      <td>1</td>\n",
       "      <td>0</td>\n",
       "      <td>0</td>\n",
       "      <td>1</td>\n",
       "    </tr>\n",
       "    <tr>\n",
       "      <th>pp</th>\n",
       "      <td>2</td>\n",
       "      <td>0</td>\n",
       "      <td>0</td>\n",
       "      <td>0</td>\n",
       "      <td>0</td>\n",
       "      <td>8</td>\n",
       "      <td>10</td>\n",
       "    </tr>\n",
       "    <tr>\n",
       "      <th>All</th>\n",
       "      <td>42</td>\n",
       "      <td>25</td>\n",
       "      <td>2</td>\n",
       "      <td>1</td>\n",
       "      <td>1</td>\n",
       "      <td>13</td>\n",
       "      <td>84</td>\n",
       "    </tr>\n",
       "  </tbody>\n",
       "</table>\n",
       "</div>"
      ],
      "text/plain": [
       "col_0  cp  im  imU  om  omL  pp  All\n",
       "lsp                                 \n",
       "cp     39   0    0   0    0   1   40\n",
       "im      1  20    0   0    1   0   22\n",
       "imL     0   0    0   0    0   1    1\n",
       "imU     0   5    2   0    0   0    7\n",
       "om      0   0    0   0    0   3    3\n",
       "omL     0   0    0   1    0   0    1\n",
       "pp      2   0    0   0    0   8   10\n",
       "All    42  25    2   1    1  13   84"
      ]
     },
     "execution_count": 34,
     "metadata": {},
     "output_type": "execute_result"
    }
   ],
   "source": [
    "pd.crosstab(testy,p2,margins=True)"
   ]
  },
  {
   "cell_type": "code",
   "execution_count": 35,
   "id": "c101585a",
   "metadata": {},
   "outputs": [
    {
     "name": "stdout",
     "output_type": "stream",
     "text": [
      "              precision    recall  f1-score   support\n",
      "\n",
      "          cp       0.93      0.97      0.95        40\n",
      "          im       0.80      0.91      0.85        22\n",
      "         imL       0.00      0.00      0.00         1\n",
      "         imU       1.00      0.29      0.44         7\n",
      "          om       0.00      0.00      0.00         3\n",
      "         omL       0.00      0.00      0.00         1\n",
      "          pp       0.62      0.80      0.70        10\n",
      "\n",
      "    accuracy                           0.82        84\n",
      "   macro avg       0.48      0.42      0.42        84\n",
      "weighted avg       0.81      0.82      0.80        84\n",
      "\n"
     ]
    }
   ],
   "source": [
    "#Classification Report \n",
    "print(classification_report(testy,p2,zero_division=0))"
   ]
  },
  {
   "cell_type": "code",
   "execution_count": 36,
   "id": "f7f239d5",
   "metadata": {},
   "outputs": [
    {
     "name": "stdout",
     "output_type": "stream",
     "text": [
      "0.5    335\n",
      "1.0      1\n",
      "Name: chg, dtype: int64\n",
      "0.48    326\n",
      "1.00     10\n",
      "Name: lip, dtype: int64\n"
     ]
    }
   ],
   "source": [
    "#Feature Selection \n",
    "    #Check for Singularities 'chg' & 'lip'\n",
    "print(ecoli.chg.value_counts())    \n",
    "print(ecoli.lip.value_counts())"
   ]
  },
  {
   "cell_type": "code",
   "execution_count": 37,
   "id": "3cf802ee",
   "metadata": {},
   "outputs": [
    {
     "name": "stdout",
     "output_type": "stream",
     "text": [
      "  feature  importance\n",
      "5    alm1    0.359495\n",
      "1     gvh    0.302237\n",
      "0     mcg    0.190649\n",
      "4     aac    0.116241\n",
      "2     lip    0.026579\n",
      "6    alm2    0.004800\n",
      "3     chg    0.000000\n"
     ]
    }
   ],
   "source": [
    "#Important Features of the model\n",
    "df_features = pd.DataFrame({'feature':trainx.columns,\n",
    "                           'importance':m2.feature_importances_})\n",
    "df_features = df_features.sort_values('importance',ascending=False)\n",
    "print(df_features)"
   ]
  },
  {
   "cell_type": "markdown",
   "id": "b46e6ff7",
   "metadata": {},
   "source": [
    "### CCP\n",
    "CP also called as CCP(Cost complexity Parameter)<br>\n",
    "The least CP value found it all the nodes of is the best CP value<br>\n"
   ]
  },
  {
   "cell_type": "code",
   "execution_count": 74,
   "id": "62ed8988",
   "metadata": {
    "scrolled": true
   },
   "outputs": [
    {
     "data": {
      "image/png": "[encoded data removed]",
      "text/plain": [
       "<Figure size 720x576 with 1 Axes>"
      ]
     },
     "metadata": {
      "needs_background": "light"
     },
     "output_type": "display_data"
    }
   ],
   "source": [
    "# pruning the tree\n",
    "\n",
    "# find the nodes that have the weakest link\n",
    "\n",
    "path = m1_gini.cost_complexity_pruning_path(trainx,trainy)\n",
    "alphas,impurities = path.ccp_alphas,path.impurities\n",
    "\n",
    "clfs=[]\n",
    "\n",
    "for a in alphas:\n",
    "    model = dtc(ccp_alpha=a).fit(trainx,trainy)\n",
    "    clfs.append(model)\n",
    "    \n",
    "clfs\n",
    "\n",
    "train_score = [clf.score(trainx,trainy) for clf in clfs]\n",
    "test_score = [clf.score(testx,testy) for clf in clfs]\n",
    "\n",
    "# plot the train and test scores\n",
    "fig,ax = plt.subplots(figsize=(10,8))\n",
    "# fig = plt.figure(figsize=(10,5))\n",
    "ax.set_xlabel(\"Alpha\")\n",
    "ax.set_ylabel(\"Accuracy\")\n",
    "ax.set_title(\"Accuracy vs Alpha for Training and Testing\")\n",
    "ax.plot(alphas,train_score,marker='x',label='train',drawstyle='steps-post')\n",
    "ax.plot(alphas,test_score,marker='x',label='test',drawstyle='steps-post')\n",
    "ax.legend()\n",
    "plt.show()\n",
    "\n",
    "\n",
    "\n"
   ]
  },
  {
   "cell_type": "code",
   "execution_count": 66,
   "id": "9999013b",
   "metadata": {},
   "outputs": [],
   "source": [
    "ccp = 0.0177"
   ]
  },
  {
   "cell_type": "code",
   "execution_count": 67,
   "id": "037528d6",
   "metadata": {},
   "outputs": [
    {
     "name": "stdout",
     "output_type": "stream",
     "text": [
      "Accuracy score for m2 = 0.8095238095238095\n",
      "              precision    recall  f1-score   support\n",
      "\n",
      "          cp       0.91      1.00      0.96        43\n",
      "          im       0.41      0.78      0.54         9\n",
      "         imL       0.00      0.00      0.00         2\n",
      "         imS       0.00      0.00      0.00         1\n",
      "         imU       0.83      0.50      0.62        10\n",
      "          om       1.00      0.67      0.80         3\n",
      "         omL       0.00      0.00      0.00         2\n",
      "          pp       0.92      0.79      0.85        14\n",
      "\n",
      "    accuracy                           0.81        84\n",
      "   macro avg       0.51      0.47      0.47        84\n",
      "weighted avg       0.80      0.81      0.79        84\n",
      "\n"
     ]
    }
   ],
   "source": [
    "m1_gini_ccp = dtc(ccp_alpha=ccp).fit(trainx,trainy)\n",
    "p1_gini_ccp = m1_gini_ccp.predict(testx)\n",
    "\n",
    "# 1) accuracy score\n",
    "print(\"Accuracy score for m2 = {}\".format(accuracy_score(testy,p1_gini_ccp)))\n",
    "\n",
    "# 2) confusion matrix\n",
    "pd.crosstab(testy,p1_gini_ccp,margins=True)\n",
    "\n",
    "# 3) classification report\n",
    "print(classification_report(testy,p1_gini_ccp,zero_division=0))"
   ]
  },
  {
   "cell_type": "code",
   "execution_count": null,
   "id": "d8ff6aa8",
   "metadata": {},
   "outputs": [],
   "source": []
  }
 ],
 "metadata": {
  "kernelspec": {
   "display_name": "Python 3 (ipykernel)",
   "language": "python",
   "name": "python3"
  },
  "language_info": {
   "codemirror_mode": {
    "name": "ipython",
    "version": 3
   },
   "file_extension": ".py",
   "mimetype": "text/x-python",
   "name": "python",
   "nbconvert_exporter": "python",
   "pygments_lexer": "ipython3",
   "version": "3.9.7"
  }
 },
 "nbformat": 4,
 "nbformat_minor": 5
}
