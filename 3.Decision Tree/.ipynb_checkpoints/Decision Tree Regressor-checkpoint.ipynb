{
 "cells": [
  {
   "cell_type": "code",
   "execution_count": 1,
   "id": "1469eb8d",
   "metadata": {},
   "outputs": [],
   "source": [
    "# -*- coding: utf-8 -*-\n",
    "\"\"\"\n",
    "Created on Sat Oct  1 09:13:37 2022\n",
    "\n",
    "@author: Yash Pungaliya\n",
    "\"\"\"\n",
    "\n",
    "#Singualrity :- the column which have 85% or more same value do not  predictive values\n",
    "#Steps in EDA : 1)Correlation 2)Outliers using Boxplot 3)Normalization check using histogram 4)Checking and fixing null values\n",
    "#Linear Regression\n",
    "#Dataset : - Concrete \n",
    "\n",
    "#import libraries\n",
    "import pandas as pd \n",
    "import numpy as np \n",
    "import statsmodels.api as sm  #OLS model\n",
    "import matplotlib.pyplot as plt\n",
    "import seaborn as sns\n",
    "import scipy.stats  as stats\n",
    "from sklearn.model_selection import train_test_split\n",
    "from sklearn.tree import DecisionTreeRegressor as dtr\n",
    "from sklearn import preprocessing # data transformation\n",
    "from sklearn.metrics import mean_squared_error\n",
    "\n"
   ]
  },
  {
   "cell_type": "code",
   "execution_count": 4,
   "id": "1e52a138",
   "metadata": {},
   "outputs": [
    {
     "name": "stdout",
     "output_type": "stream",
     "text": [
      "<bound method NDFrame.head of       cementcomp   slag  flyash  water  superplastisizer  coraseaggr  \\\n",
      "0          540.0    0.0     0.0  162.0               2.5      1040.0   \n",
      "1          540.0    0.0     0.0  162.0               2.5      1055.0   \n",
      "2          332.5  142.5     0.0  228.0               0.0       932.0   \n",
      "3          332.5  142.5     0.0  228.0               0.0       932.0   \n",
      "4          198.6  132.4     0.0  192.0               0.0       978.4   \n",
      "...          ...    ...     ...    ...               ...         ...   \n",
      "1025       276.4  116.0    90.3  179.6               8.9       870.1   \n",
      "1026       322.2    0.0   115.6  196.0              10.4       817.9   \n",
      "1027       148.5  139.4   108.6  192.7               6.1       892.4   \n",
      "1028       159.1  186.7     0.0  175.6              11.3       989.6   \n",
      "1029       260.9  100.5    78.3  200.6               8.6       864.5   \n",
      "\n",
      "      finraggr  age    CCS  \n",
      "0        676.0   28  79.99  \n",
      "1        676.0   28  61.89  \n",
      "2        594.0  270  40.27  \n",
      "3        594.0  365  41.05  \n",
      "4        825.5  360  44.30  \n",
      "...        ...  ...    ...  \n",
      "1025     768.3   28  44.28  \n",
      "1026     813.4   28  31.18  \n",
      "1027     780.0   28  23.70  \n",
      "1028     788.9   28  32.77  \n",
      "1029     761.5   28  32.40  \n",
      "\n",
      "[1030 rows x 9 columns]>\n"
     ]
    }
   ],
   "source": [
    "#read data\n",
    "filename = \"C:/Users/Yash Pungaliya/Desktop/class/Linear Regression/concrete.csv\"\n",
    "conc = pd.read_csv(filename)\n",
    "print (conc.head)\n",
    "\n"
   ]
  },
  {
   "cell_type": "code",
   "execution_count": 5,
   "id": "161c98d4",
   "metadata": {},
   "outputs": [
    {
     "data": {
      "text/plain": [
       "['cementcomp',\n",
       " 'slag',\n",
       " 'flyash',\n",
       " 'water',\n",
       " 'superplastisizer',\n",
       " 'coraseaggr',\n",
       " 'finraggr',\n",
       " 'age']"
      ]
     },
     "execution_count": 5,
     "metadata": {},
     "output_type": "execute_result"
    }
   ],
   "source": [
    "conc.isnull().sum()\n",
    "conc[conc==0].count()\n",
    "\n",
    "#summary of the data\n",
    "conc.describe()\n",
    "\n",
    "#check for outliers in age\n",
    "conc.age.describe()\n",
    "\n",
    "#extract 'Y' variable from \n",
    "Y = \"CCS\"\n",
    "features = list(conc.columns)\n",
    "features.remove(Y)\n",
    "features\n"
   ]
  },
  {
   "cell_type": "code",
   "execution_count": 8,
   "id": "d42c7f7c",
   "metadata": {},
   "outputs": [
    {
     "name": "stderr",
     "output_type": "stream",
     "text": [
      "C:\\Users\\YASHPU~1\\AppData\\Local\\Temp/ipykernel_4120/4083608486.py:1: FutureWarning: In a future version of pandas all arguments of DataFrame.drop except for the argument 'labels' will be keyword-only\n",
      "  trainx,testx,trainY,testY = train_test_split(conc.drop(Y,1),conc[Y],test_size=0.25)\n"
     ]
    }
   ],
   "source": [
    "trainx,testx,trainY,testY = train_test_split(conc.drop(Y,1),conc[Y],test_size=0.25)"
   ]
  },
  {
   "cell_type": "code",
   "execution_count": 9,
   "id": "161bc1b3",
   "metadata": {},
   "outputs": [
    {
     "name": "stdout",
     "output_type": "stream",
     "text": [
      "trainx=(772, 8) , trainY = (772,)\n",
      "testX=(258, 8) , testY = (258,)\n"
     ]
    }
   ],
   "source": [
    "print(\"trainx={} , trainY = {}\".format(trainx.shape,trainY.shape))\n",
    "print(\"testX={} , testY = {}\".format(testx.shape,testY.shape))\n"
   ]
  },
  {
   "cell_type": "code",
   "execution_count": 10,
   "id": "ee13c8ca",
   "metadata": {},
   "outputs": [],
   "source": [
    "#Build The Models \n",
    "#1)OLS\n",
    "model_lr = sm.OLS(trainY,trainx).fit()\n"
   ]
  },
  {
   "cell_type": "code",
   "execution_count": 13,
   "id": "2990f931",
   "metadata": {},
   "outputs": [],
   "source": [
    "#2)Decision Tree Regressor\n",
    "m_dt = dtr(criterion=\"mse\",min_samples_leaf=3,max_depth=6).fit(trainx,trainY)"
   ]
  },
  {
   "cell_type": "code",
   "execution_count": 17,
   "id": "d0d22803",
   "metadata": {},
   "outputs": [
    {
     "data": {
      "text/plain": [
       "333    46.68\n",
       "369    29.59\n",
       "419    21.75\n",
       "308    44.62\n",
       "991    54.56\n",
       "       ...  \n",
       "345    33.93\n",
       "90     62.15\n",
       "702    20.47\n",
       "194    22.94\n",
       "338    45.50\n",
       "Length: 258, dtype: float64"
      ]
     },
     "execution_count": 17,
     "metadata": {},
     "output_type": "execute_result"
    }
   ],
   "source": [
    "#Prediction \n",
    "#1)OLS model\n",
    "p_lr = np.round(model_lr.predict(testx),2)\n",
    "p_lr"
   ]
  },
  {
   "cell_type": "code",
   "execution_count": 19,
   "id": "aff46fc3",
   "metadata": {},
   "outputs": [
    {
     "data": {
      "text/plain": [
       "array([46.4 , 12.67, 31.25, 46.4 , 65.98, 61.7 , 14.71, 32.52, 36.18,\n",
       "       36.06, 12.67, 46.4 , 49.63, 16.73, 41.96, 24.76, 49.63, 49.63,\n",
       "       36.06, 14.71, 22.57, 40.48, 62.63, 36.06, 36.73, 26.6 , 49.63,\n",
       "       40.48, 40.48, 32.52, 24.76, 40.48, 46.4 , 40.48, 32.52, 40.92,\n",
       "       53.92, 49.63, 46.4 , 19.34, 15.06, 23.44, 65.98, 26.6 , 32.52,\n",
       "       36.06, 24.12, 15.06, 32.52, 79.21, 65.98, 49.63, 23.44, 36.06,\n",
       "       40.48, 26.6 , 19.34, 79.21, 20.41, 12.67, 65.98, 12.67, 61.7 ,\n",
       "       26.6 , 26.6 , 34.89, 20.72, 32.52, 40.48, 14.71, 31.96, 26.6 ,\n",
       "       32.52, 12.67, 14.71,  4.74, 32.52, 40.48, 31.6 , 62.63, 32.52,\n",
       "       10.1 , 40.48, 32.52, 20.41, 71.87, 32.52, 26.6 , 22.06, 36.06,\n",
       "       40.48, 32.52, 62.63, 46.4 , 12.67, 40.48, 12.67, 40.92, 32.52,\n",
       "       32.52, 22.57,  4.74, 14.71, 65.98, 40.48, 40.48, 40.48, 36.83,\n",
       "       36.06, 49.63, 20.41, 48.53, 36.06, 36.83, 34.43, 46.4 , 61.55,\n",
       "       46.4 , 32.52, 65.98, 65.98, 24.76, 12.67, 40.92, 31.96, 14.71,\n",
       "       40.48, 12.67, 14.71, 32.52, 26.6 , 40.48, 36.83, 40.48, 14.71,\n",
       "       26.6 , 32.52, 46.4 , 12.67, 14.71, 36.18, 26.6 , 46.4 , 36.18,\n",
       "       34.89, 79.21, 12.67, 26.6 , 36.73, 65.98, 22.57, 36.46, 36.18,\n",
       "       14.71, 40.48, 15.06, 31.25, 32.52, 45.19, 36.06, 32.52, 53.92,\n",
       "       31.6 , 62.63, 40.48, 36.18, 62.63, 36.83, 65.98, 10.1 , 34.89,\n",
       "       32.52, 45.19, 31.6 , 24.12, 45.23, 45.19, 71.87, 36.83, 48.53,\n",
       "       40.48, 40.48, 31.75, 36.18, 36.73, 12.67, 62.63, 22.06, 31.6 ,\n",
       "       20.41, 24.76, 45.19, 34.43, 45.23, 40.48, 22.57, 12.67, 40.48,\n",
       "       14.71, 48.53, 26.6 , 14.71, 71.87, 36.46, 40.48, 32.52, 32.52,\n",
       "       26.6 , 46.4 , 22.06, 61.7 , 40.48, 36.18, 26.6 , 12.67, 14.71,\n",
       "       40.48, 49.63, 53.92, 65.98, 15.06, 14.71, 47.83, 36.73, 14.71,\n",
       "       26.6 , 20.72, 40.92, 14.71, 40.48, 40.48, 40.48, 16.73, 32.52,\n",
       "       32.52, 51.83, 12.67, 61.7 , 12.67, 53.92, 12.67, 12.67, 62.63,\n",
       "       31.25, 26.6 , 26.6 , 32.52, 34.43, 32.52, 40.92, 10.1 , 47.83,\n",
       "       40.48, 31.25, 31.96, 12.67, 12.67, 46.4 ])"
      ]
     },
     "execution_count": 19,
     "metadata": {},
     "output_type": "execute_result"
    }
   ],
   "source": [
    "#2)DTR\n",
    "p_dt = np.round(m_dt.predict(testx),2)\n",
    "p_dt"
   ]
  },
  {
   "cell_type": "code",
   "execution_count": 20,
   "id": "816aeaae",
   "metadata": {},
   "outputs": [],
   "source": [
    "def getErr(act,pred):\n",
    "    mse= np.round(mean_squared_error(act,pred),4)\n",
    "    rmse= np.round(np.sqrt(mse),4)\n",
    "    \n",
    "    return(mse,rmse)\n",
    "\n",
    "mse_lr,rmse_lr = getErr(testY,p_lr)\n",
    "mse_dtr,rmse_dtr = getErr(testY,p_dt)"
   ]
  },
  {
   "cell_type": "code",
   "execution_count": 22,
   "id": "1f79d528",
   "metadata": {},
   "outputs": [
    {
     "name": "stdout",
     "output_type": "stream",
     "text": [
      "RMSE\n",
      "\t OLS =10.4215\n",
      "\t DT = 8.3507\n"
     ]
    }
   ],
   "source": [
    "print(\"RMSE\\n\\t OLS ={}\\n\\t DT = {}\".format(rmse_lr,rmse_dtr))"
   ]
  },
  {
   "cell_type": "code",
   "execution_count": 23,
   "id": "6b05134e",
   "metadata": {},
   "outputs": [],
   "source": [
    "#DataFrame to store actual CCS and predicted CCS from two model\n",
    "results =pd.DataFrame({'actual':testY , 'pred_OLS ':p_lr,'pred_dt':p_dt})"
   ]
  },
  {
   "cell_type": "code",
   "execution_count": 24,
   "id": "f19ca853",
   "metadata": {},
   "outputs": [
    {
     "name": "stdout",
     "output_type": "stream",
     "text": [
      "     actual  pred_OLS   pred_dt\n",
      "333   66.42      46.68    46.40\n",
      "369   15.34      29.59    12.67\n",
      "419   16.88      21.75    31.25\n",
      "308   55.64      44.62    46.40\n",
      "991   38.22      54.56    65.98\n",
      "..      ...        ...      ...\n",
      "345   33.73      33.93    31.25\n",
      "90    40.60      62.15    31.96\n",
      "702   17.17      20.47    12.67\n",
      "194   12.45      22.94    12.67\n",
      "338   58.61      45.50    46.40\n",
      "\n",
      "[258 rows x 3 columns]\n"
     ]
    }
   ],
   "source": [
    "print(results)"
   ]
  },
  {
   "cell_type": "code",
   "execution_count": null,
   "id": "35923bb5",
   "metadata": {},
   "outputs": [],
   "source": []
  },
  {
   "cell_type": "code",
   "execution_count": null,
   "id": "ea49412a",
   "metadata": {},
   "outputs": [],
   "source": []
  },
  {
   "cell_type": "code",
   "execution_count": 25,
   "id": "22053eea",
   "metadata": {},
   "outputs": [],
   "source": [
    "# plot the best fit line of Model 1\n",
    "def plotBestFitLine(actual,pred,model,err):\n",
    "    sns.regplot(actual,pred,marker='.',color='yellow', line_kws={'color':'red'},ci=None)\n",
    "    plt.title(\"Best Fit Line for model \" + model + \". RMSE = \" + str(round(np.sqrt(err),3)))\n",
    "    \n"
   ]
  },
  {
   "cell_type": "code",
   "execution_count": 29,
   "id": "efe15b52",
   "metadata": {},
   "outputs": [
    {
     "name": "stderr",
     "output_type": "stream",
     "text": [
      "D:\\Anaconda\\lib\\site-packages\\seaborn\\_decorators.py:36: FutureWarning: Pass the following variables as keyword args: x, y. From version 0.12, the only valid positional argument will be `data`, and passing other arguments without an explicit keyword will result in an error or misinterpretation.\n",
      "  warnings.warn(\n"
     ]
    },
    {
     "data": {
      "image/png": "[encoded data removed]",
      "text/plain": [
       "<Figure size 432x288 with 1 Axes>"
      ]
     },
     "metadata": {
      "needs_background": "light"
     },
     "output_type": "display_data"
    }
   ],
   "source": [
    "plotBestFitLine(testY,p_lr,\"OLS\",rmse_lr)"
   ]
  },
  {
   "cell_type": "code",
   "execution_count": 30,
   "id": "3764ba25",
   "metadata": {},
   "outputs": [
    {
     "name": "stderr",
     "output_type": "stream",
     "text": [
      "D:\\Anaconda\\lib\\site-packages\\seaborn\\_decorators.py:36: FutureWarning: Pass the following variables as keyword args: x, y. From version 0.12, the only valid positional argument will be `data`, and passing other arguments without an explicit keyword will result in an error or misinterpretation.\n",
      "  warnings.warn(\n"
     ]
    },
    {
     "data": {
      "image/png": "[encoded data removed]",
      "text/plain": [
       "<Figure size 432x288 with 1 Axes>"
      ]
     },
     "metadata": {
      "needs_background": "light"
     },
     "output_type": "display_data"
    }
   ],
   "source": [
    "plotBestFitLine(testY,p_dt,\"DT\",rmse_dtr)"
   ]
  },
  {
   "cell_type": "code",
   "execution_count": null,
   "id": "59c0e602",
   "metadata": {},
   "outputs": [],
   "source": []
  }
 ],
 "metadata": {
  "kernelspec": {
   "display_name": "Python 3 (ipykernel)",
   "language": "python",
   "name": "python3"
  },
  "language_info": {
   "codemirror_mode": {
    "name": "ipython",
    "version": 3
   },
   "file_extension": ".py",
   "mimetype": "text/x-python",
   "name": "python",
   "nbconvert_exporter": "python",
   "pygments_lexer": "ipython3",
   "version": "3.9.7"
  }
 },
 "nbformat": 4,
 "nbformat_minor": 5
}
