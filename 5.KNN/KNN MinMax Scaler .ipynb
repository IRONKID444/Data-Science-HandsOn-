{
 "cells": [
  {
   "cell_type": "code",
   "execution_count": 1,
   "id": "55313940",
   "metadata": {},
   "outputs": [],
   "source": [
    "#Importing libraries\n",
    "import numpy as np \n",
    "import pandas as pd \n",
    "from sklearn.model_selection import train_test_split,cross_val_score\n",
    "from sklearn import neighbors\n",
    "from sklearn.metrics import accuracy_score , classification_report\n",
    "import matplotlib.pyplot as plt\n",
    "from sklearn import preprocessing #used for data transformation"
   ]
  },
  {
   "cell_type": "code",
   "execution_count": 2,
   "id": "09dd7d64",
   "metadata": {},
   "outputs": [],
   "source": [
    "filename = 'wheat.csv'"
   ]
  },
  {
   "cell_type": "code",
   "execution_count": 3,
   "id": "c49f3186",
   "metadata": {},
   "outputs": [],
   "source": [
    "wheat = pd.read_csv(filename)"
   ]
  },
  {
   "cell_type": "code",
   "execution_count": 4,
   "id": "71dd2821",
   "metadata": {},
   "outputs": [],
   "source": [
    "wheat = pd.read_csv(filename)"
   ]
  },
  {
   "cell_type": "code",
   "execution_count": 7,
   "id": "e5857a0f",
   "metadata": {},
   "outputs": [],
   "source": [
    "#data Transformation \n",
    "wheat_tr = wheat.copy() # First make a copy of dataset then transform"
   ]
  },
  {
   "cell_type": "code",
   "execution_count": 5,
   "id": "64cf4c7b",
   "metadata": {},
   "outputs": [],
   "source": [
    "#MinMax Scaler\n",
    "\n",
    "#Creating a instance of Standard Scaler \n",
    "ms = preprocessing.MinMaxScaler()"
   ]
  },
  {
   "cell_type": "code",
   "execution_count": 8,
   "id": "23275cd3",
   "metadata": {},
   "outputs": [],
   "source": [
    "tr_data = ms.fit_transform(wheat_tr.iloc[:,:])"
   ]
  },
  {
   "cell_type": "code",
   "execution_count": 9,
   "id": "2027e7f2",
   "metadata": {},
   "outputs": [],
   "source": [
    "wheat_tr.iloc[:,:] = tr_data"
   ]
  },
  {
   "cell_type": "code",
   "execution_count": 10,
   "id": "5a1fee9c",
   "metadata": {},
   "outputs": [
    {
     "data": {
      "text/html": [
       "<div>\n",
       "<style scoped>\n",
       "    .dataframe tbody tr th:only-of-type {\n",
       "        vertical-align: middle;\n",
       "    }\n",
       "\n",
       "    .dataframe tbody tr th {\n",
       "        vertical-align: top;\n",
       "    }\n",
       "\n",
       "    .dataframe thead th {\n",
       "        text-align: right;\n",
       "    }\n",
       "</style>\n",
       "<table border=\"1\" class=\"dataframe\">\n",
       "  <thead>\n",
       "    <tr style=\"text-align: right;\">\n",
       "      <th></th>\n",
       "      <th>area</th>\n",
       "      <th>perimeter</th>\n",
       "      <th>compactness</th>\n",
       "      <th>kernel_len</th>\n",
       "      <th>kernel_width</th>\n",
       "      <th>asym_coeff</th>\n",
       "      <th>kernel_groove</th>\n",
       "      <th>type</th>\n",
       "    </tr>\n",
       "  </thead>\n",
       "  <tbody>\n",
       "    <tr>\n",
       "      <th>0</th>\n",
       "      <td>0.440982</td>\n",
       "      <td>0.502066</td>\n",
       "      <td>0.570780</td>\n",
       "      <td>0.486486</td>\n",
       "      <td>0.486101</td>\n",
       "      <td>0.189302</td>\n",
       "      <td>0.345150</td>\n",
       "      <td>0.0</td>\n",
       "    </tr>\n",
       "    <tr>\n",
       "      <th>1</th>\n",
       "      <td>0.405099</td>\n",
       "      <td>0.446281</td>\n",
       "      <td>0.662432</td>\n",
       "      <td>0.368806</td>\n",
       "      <td>0.501069</td>\n",
       "      <td>0.032883</td>\n",
       "      <td>0.215165</td>\n",
       "      <td>0.0</td>\n",
       "    </tr>\n",
       "    <tr>\n",
       "      <th>2</th>\n",
       "      <td>0.349386</td>\n",
       "      <td>0.347107</td>\n",
       "      <td>0.879310</td>\n",
       "      <td>0.220721</td>\n",
       "      <td>0.503920</td>\n",
       "      <td>0.251453</td>\n",
       "      <td>0.150665</td>\n",
       "      <td>0.0</td>\n",
       "    </tr>\n",
       "    <tr>\n",
       "      <th>3</th>\n",
       "      <td>0.306893</td>\n",
       "      <td>0.316116</td>\n",
       "      <td>0.793103</td>\n",
       "      <td>0.239302</td>\n",
       "      <td>0.533856</td>\n",
       "      <td>0.194243</td>\n",
       "      <td>0.140817</td>\n",
       "      <td>0.0</td>\n",
       "    </tr>\n",
       "    <tr>\n",
       "      <th>4</th>\n",
       "      <td>0.524079</td>\n",
       "      <td>0.533058</td>\n",
       "      <td>0.864791</td>\n",
       "      <td>0.427365</td>\n",
       "      <td>0.664291</td>\n",
       "      <td>0.076701</td>\n",
       "      <td>0.322994</td>\n",
       "      <td>0.0</td>\n",
       "    </tr>\n",
       "  </tbody>\n",
       "</table>\n",
       "</div>"
      ],
      "text/plain": [
       "       area  perimeter  compactness  kernel_len  kernel_width  asym_coeff  \\\n",
       "0  0.440982   0.502066     0.570780    0.486486      0.486101    0.189302   \n",
       "1  0.405099   0.446281     0.662432    0.368806      0.501069    0.032883   \n",
       "2  0.349386   0.347107     0.879310    0.220721      0.503920    0.251453   \n",
       "3  0.306893   0.316116     0.793103    0.239302      0.533856    0.194243   \n",
       "4  0.524079   0.533058     0.864791    0.427365      0.664291    0.076701   \n",
       "\n",
       "   kernel_groove  type  \n",
       "0       0.345150   0.0  \n",
       "1       0.215165   0.0  \n",
       "2       0.150665   0.0  \n",
       "3       0.140817   0.0  \n",
       "4       0.322994   0.0  "
      ]
     },
     "execution_count": 10,
     "metadata": {},
     "output_type": "execute_result"
    }
   ],
   "source": [
    "#difference btwn actual and transformde data\n",
    "wheat.head()\n",
    "wheat_tr.head()"
   ]
  },
  {
   "cell_type": "code",
   "execution_count": 11,
   "id": "e30bec8c",
   "metadata": {},
   "outputs": [],
   "source": [
    "#Set y variable to its orignal format \n",
    "wheat_tr.type = wheat.type"
   ]
  },
  {
   "cell_type": "code",
   "execution_count": 12,
   "id": "9607c870",
   "metadata": {},
   "outputs": [
    {
     "data": {
      "text/html": [
       "<div>\n",
       "<style scoped>\n",
       "    .dataframe tbody tr th:only-of-type {\n",
       "        vertical-align: middle;\n",
       "    }\n",
       "\n",
       "    .dataframe tbody tr th {\n",
       "        vertical-align: top;\n",
       "    }\n",
       "\n",
       "    .dataframe thead th {\n",
       "        text-align: right;\n",
       "    }\n",
       "</style>\n",
       "<table border=\"1\" class=\"dataframe\">\n",
       "  <thead>\n",
       "    <tr style=\"text-align: right;\">\n",
       "      <th></th>\n",
       "      <th>area</th>\n",
       "      <th>perimeter</th>\n",
       "      <th>compactness</th>\n",
       "      <th>kernel_len</th>\n",
       "      <th>kernel_width</th>\n",
       "      <th>asym_coeff</th>\n",
       "      <th>kernel_groove</th>\n",
       "      <th>type</th>\n",
       "    </tr>\n",
       "  </thead>\n",
       "  <tbody>\n",
       "    <tr>\n",
       "      <th>0</th>\n",
       "      <td>0.440982</td>\n",
       "      <td>0.502066</td>\n",
       "      <td>0.570780</td>\n",
       "      <td>0.486486</td>\n",
       "      <td>0.486101</td>\n",
       "      <td>0.189302</td>\n",
       "      <td>0.345150</td>\n",
       "      <td>1</td>\n",
       "    </tr>\n",
       "    <tr>\n",
       "      <th>1</th>\n",
       "      <td>0.405099</td>\n",
       "      <td>0.446281</td>\n",
       "      <td>0.662432</td>\n",
       "      <td>0.368806</td>\n",
       "      <td>0.501069</td>\n",
       "      <td>0.032883</td>\n",
       "      <td>0.215165</td>\n",
       "      <td>1</td>\n",
       "    </tr>\n",
       "    <tr>\n",
       "      <th>2</th>\n",
       "      <td>0.349386</td>\n",
       "      <td>0.347107</td>\n",
       "      <td>0.879310</td>\n",
       "      <td>0.220721</td>\n",
       "      <td>0.503920</td>\n",
       "      <td>0.251453</td>\n",
       "      <td>0.150665</td>\n",
       "      <td>1</td>\n",
       "    </tr>\n",
       "    <tr>\n",
       "      <th>3</th>\n",
       "      <td>0.306893</td>\n",
       "      <td>0.316116</td>\n",
       "      <td>0.793103</td>\n",
       "      <td>0.239302</td>\n",
       "      <td>0.533856</td>\n",
       "      <td>0.194243</td>\n",
       "      <td>0.140817</td>\n",
       "      <td>1</td>\n",
       "    </tr>\n",
       "    <tr>\n",
       "      <th>4</th>\n",
       "      <td>0.524079</td>\n",
       "      <td>0.533058</td>\n",
       "      <td>0.864791</td>\n",
       "      <td>0.427365</td>\n",
       "      <td>0.664291</td>\n",
       "      <td>0.076701</td>\n",
       "      <td>0.322994</td>\n",
       "      <td>1</td>\n",
       "    </tr>\n",
       "  </tbody>\n",
       "</table>\n",
       "</div>"
      ],
      "text/plain": [
       "       area  perimeter  compactness  kernel_len  kernel_width  asym_coeff  \\\n",
       "0  0.440982   0.502066     0.570780    0.486486      0.486101    0.189302   \n",
       "1  0.405099   0.446281     0.662432    0.368806      0.501069    0.032883   \n",
       "2  0.349386   0.347107     0.879310    0.220721      0.503920    0.251453   \n",
       "3  0.306893   0.316116     0.793103    0.239302      0.533856    0.194243   \n",
       "4  0.524079   0.533058     0.864791    0.427365      0.664291    0.076701   \n",
       "\n",
       "   kernel_groove  type  \n",
       "0       0.345150     1  \n",
       "1       0.215165     1  \n",
       "2       0.150665     1  \n",
       "3       0.140817     1  \n",
       "4       0.322994     1  "
      ]
     },
     "execution_count": 12,
     "metadata": {},
     "output_type": "execute_result"
    }
   ],
   "source": [
    "wheat_tr.head()"
   ]
  },
  {
   "cell_type": "code",
   "execution_count": 13,
   "id": "68af1d39",
   "metadata": {},
   "outputs": [],
   "source": [
    "#Shuffle the data \n",
    "wheat_tr = wheat_tr.sample(frac=1 )"
   ]
  },
  {
   "cell_type": "code",
   "execution_count": 14,
   "id": "fc380b24",
   "metadata": {},
   "outputs": [
    {
     "data": {
      "text/html": [
       "<div>\n",
       "<style scoped>\n",
       "    .dataframe tbody tr th:only-of-type {\n",
       "        vertical-align: middle;\n",
       "    }\n",
       "\n",
       "    .dataframe tbody tr th {\n",
       "        vertical-align: top;\n",
       "    }\n",
       "\n",
       "    .dataframe thead th {\n",
       "        text-align: right;\n",
       "    }\n",
       "</style>\n",
       "<table border=\"1\" class=\"dataframe\">\n",
       "  <thead>\n",
       "    <tr style=\"text-align: right;\">\n",
       "      <th></th>\n",
       "      <th>area</th>\n",
       "      <th>perimeter</th>\n",
       "      <th>compactness</th>\n",
       "      <th>kernel_len</th>\n",
       "      <th>kernel_width</th>\n",
       "      <th>asym_coeff</th>\n",
       "      <th>kernel_groove</th>\n",
       "      <th>type</th>\n",
       "    </tr>\n",
       "  </thead>\n",
       "  <tbody>\n",
       "    <tr>\n",
       "      <th>8</th>\n",
       "      <td>0.570349</td>\n",
       "      <td>0.630165</td>\n",
       "      <td>0.604356</td>\n",
       "      <td>0.649775</td>\n",
       "      <td>0.595153</td>\n",
       "      <td>0.165767</td>\n",
       "      <td>0.668636</td>\n",
       "      <td>1</td>\n",
       "    </tr>\n",
       "    <tr>\n",
       "      <th>135</th>\n",
       "      <td>0.452314</td>\n",
       "      <td>0.464876</td>\n",
       "      <td>0.824864</td>\n",
       "      <td>0.325450</td>\n",
       "      <td>0.595153</td>\n",
       "      <td>0.368604</td>\n",
       "      <td>0.452979</td>\n",
       "      <td>2</td>\n",
       "    </tr>\n",
       "    <tr>\n",
       "      <th>175</th>\n",
       "      <td>0.019830</td>\n",
       "      <td>0.033058</td>\n",
       "      <td>0.461887</td>\n",
       "      <td>0.046171</td>\n",
       "      <td>0.136137</td>\n",
       "      <td>0.521122</td>\n",
       "      <td>0.267848</td>\n",
       "      <td>3</td>\n",
       "    </tr>\n",
       "    <tr>\n",
       "      <th>170</th>\n",
       "      <td>0.040604</td>\n",
       "      <td>0.121901</td>\n",
       "      <td>0.098004</td>\n",
       "      <td>0.239865</td>\n",
       "      <td>0.050606</td>\n",
       "      <td>0.776229</td>\n",
       "      <td>0.317085</td>\n",
       "      <td>3</td>\n",
       "    </tr>\n",
       "    <tr>\n",
       "      <th>126</th>\n",
       "      <td>0.761095</td>\n",
       "      <td>0.826446</td>\n",
       "      <td>0.559891</td>\n",
       "      <td>0.780405</td>\n",
       "      <td>0.687099</td>\n",
       "      <td>0.471453</td>\n",
       "      <td>0.779419</td>\n",
       "      <td>2</td>\n",
       "    </tr>\n",
       "    <tr>\n",
       "      <th>67</th>\n",
       "      <td>0.322946</td>\n",
       "      <td>0.388430</td>\n",
       "      <td>0.493648</td>\n",
       "      <td>0.399775</td>\n",
       "      <td>0.376336</td>\n",
       "      <td>0.188782</td>\n",
       "      <td>0.301822</td>\n",
       "      <td>1</td>\n",
       "    </tr>\n",
       "    <tr>\n",
       "      <th>178</th>\n",
       "      <td>0.084042</td>\n",
       "      <td>0.132231</td>\n",
       "      <td>0.355717</td>\n",
       "      <td>0.158221</td>\n",
       "      <td>0.091233</td>\n",
       "      <td>0.664539</td>\n",
       "      <td>0.237814</td>\n",
       "      <td>3</td>\n",
       "    </tr>\n",
       "    <tr>\n",
       "      <th>54</th>\n",
       "      <td>0.371105</td>\n",
       "      <td>0.452479</td>\n",
       "      <td>0.431942</td>\n",
       "      <td>0.474099</td>\n",
       "      <td>0.344262</td>\n",
       "      <td>0.093084</td>\n",
       "      <td>0.476613</td>\n",
       "      <td>1</td>\n",
       "    </tr>\n",
       "    <tr>\n",
       "      <th>193</th>\n",
       "      <td>0.021719</td>\n",
       "      <td>0.086777</td>\n",
       "      <td>0.158802</td>\n",
       "      <td>0.158221</td>\n",
       "      <td>0.000000</td>\n",
       "      <td>0.531524</td>\n",
       "      <td>0.280650</td>\n",
       "      <td>3</td>\n",
       "    </tr>\n",
       "    <tr>\n",
       "      <th>208</th>\n",
       "      <td>0.118036</td>\n",
       "      <td>0.165289</td>\n",
       "      <td>0.399274</td>\n",
       "      <td>0.155405</td>\n",
       "      <td>0.146828</td>\n",
       "      <td>0.368344</td>\n",
       "      <td>0.258493</td>\n",
       "      <td>3</td>\n",
       "    </tr>\n",
       "    <tr>\n",
       "      <th>100</th>\n",
       "      <td>0.549575</td>\n",
       "      <td>0.586777</td>\n",
       "      <td>0.712341</td>\n",
       "      <td>0.461149</td>\n",
       "      <td>0.637919</td>\n",
       "      <td>0.448829</td>\n",
       "      <td>0.541113</td>\n",
       "      <td>2</td>\n",
       "    </tr>\n",
       "    <tr>\n",
       "      <th>14</th>\n",
       "      <td>0.297450</td>\n",
       "      <td>0.338843</td>\n",
       "      <td>0.601633</td>\n",
       "      <td>0.328266</td>\n",
       "      <td>0.344975</td>\n",
       "      <td>0.281749</td>\n",
       "      <td>0.150665</td>\n",
       "      <td>1</td>\n",
       "    </tr>\n",
       "    <tr>\n",
       "      <th>180</th>\n",
       "      <td>0.077432</td>\n",
       "      <td>0.111570</td>\n",
       "      <td>0.434664</td>\n",
       "      <td>0.107545</td>\n",
       "      <td>0.103350</td>\n",
       "      <td>0.545047</td>\n",
       "      <td>0.150665</td>\n",
       "      <td>3</td>\n",
       "    </tr>\n",
       "    <tr>\n",
       "      <th>119</th>\n",
       "      <td>0.891407</td>\n",
       "      <td>0.927686</td>\n",
       "      <td>0.662432</td>\n",
       "      <td>0.897523</td>\n",
       "      <td>0.874555</td>\n",
       "      <td>0.298782</td>\n",
       "      <td>0.886755</td>\n",
       "      <td>2</td>\n",
       "    </tr>\n",
       "    <tr>\n",
       "      <th>201</th>\n",
       "      <td>0.196412</td>\n",
       "      <td>0.188017</td>\n",
       "      <td>0.813067</td>\n",
       "      <td>0.047860</td>\n",
       "      <td>0.359943</td>\n",
       "      <td>0.199574</td>\n",
       "      <td>0.111275</td>\n",
       "      <td>3</td>\n",
       "    </tr>\n",
       "    <tr>\n",
       "      <th>114</th>\n",
       "      <td>0.980170</td>\n",
       "      <td>1.000000</td>\n",
       "      <td>0.705989</td>\n",
       "      <td>0.936937</td>\n",
       "      <td>0.970064</td>\n",
       "      <td>0.508640</td>\n",
       "      <td>0.884786</td>\n",
       "      <td>2</td>\n",
       "    </tr>\n",
       "    <tr>\n",
       "      <th>166</th>\n",
       "      <td>0.174693</td>\n",
       "      <td>0.243802</td>\n",
       "      <td>0.345735</td>\n",
       "      <td>0.236486</td>\n",
       "      <td>0.190306</td>\n",
       "      <td>0.540756</td>\n",
       "      <td>0.369769</td>\n",
       "      <td>3</td>\n",
       "    </tr>\n",
       "    <tr>\n",
       "      <th>29</th>\n",
       "      <td>0.270066</td>\n",
       "      <td>0.332645</td>\n",
       "      <td>0.474592</td>\n",
       "      <td>0.347410</td>\n",
       "      <td>0.310050</td>\n",
       "      <td>0.359633</td>\n",
       "      <td>0.284589</td>\n",
       "      <td>1</td>\n",
       "    </tr>\n",
       "    <tr>\n",
       "      <th>10</th>\n",
       "      <td>0.440982</td>\n",
       "      <td>0.504132</td>\n",
       "      <td>0.558076</td>\n",
       "      <td>0.458896</td>\n",
       "      <td>0.436208</td>\n",
       "      <td>0.491217</td>\n",
       "      <td>0.391433</td>\n",
       "      <td>1</td>\n",
       "    </tr>\n",
       "    <tr>\n",
       "      <th>192</th>\n",
       "      <td>0.120869</td>\n",
       "      <td>0.126033</td>\n",
       "      <td>0.647913</td>\n",
       "      <td>0.131194</td>\n",
       "      <td>0.230221</td>\n",
       "      <td>0.368214</td>\n",
       "      <td>0.301822</td>\n",
       "      <td>3</td>\n",
       "    </tr>\n",
       "  </tbody>\n",
       "</table>\n",
       "</div>"
      ],
      "text/plain": [
       "         area  perimeter  compactness  kernel_len  kernel_width  asym_coeff  \\\n",
       "8    0.570349   0.630165     0.604356    0.649775      0.595153    0.165767   \n",
       "135  0.452314   0.464876     0.824864    0.325450      0.595153    0.368604   \n",
       "175  0.019830   0.033058     0.461887    0.046171      0.136137    0.521122   \n",
       "170  0.040604   0.121901     0.098004    0.239865      0.050606    0.776229   \n",
       "126  0.761095   0.826446     0.559891    0.780405      0.687099    0.471453   \n",
       "67   0.322946   0.388430     0.493648    0.399775      0.376336    0.188782   \n",
       "178  0.084042   0.132231     0.355717    0.158221      0.091233    0.664539   \n",
       "54   0.371105   0.452479     0.431942    0.474099      0.344262    0.093084   \n",
       "193  0.021719   0.086777     0.158802    0.158221      0.000000    0.531524   \n",
       "208  0.118036   0.165289     0.399274    0.155405      0.146828    0.368344   \n",
       "100  0.549575   0.586777     0.712341    0.461149      0.637919    0.448829   \n",
       "14   0.297450   0.338843     0.601633    0.328266      0.344975    0.281749   \n",
       "180  0.077432   0.111570     0.434664    0.107545      0.103350    0.545047   \n",
       "119  0.891407   0.927686     0.662432    0.897523      0.874555    0.298782   \n",
       "201  0.196412   0.188017     0.813067    0.047860      0.359943    0.199574   \n",
       "114  0.980170   1.000000     0.705989    0.936937      0.970064    0.508640   \n",
       "166  0.174693   0.243802     0.345735    0.236486      0.190306    0.540756   \n",
       "29   0.270066   0.332645     0.474592    0.347410      0.310050    0.359633   \n",
       "10   0.440982   0.504132     0.558076    0.458896      0.436208    0.491217   \n",
       "192  0.120869   0.126033     0.647913    0.131194      0.230221    0.368214   \n",
       "\n",
       "     kernel_groove  type  \n",
       "8         0.668636     1  \n",
       "135       0.452979     2  \n",
       "175       0.267848     3  \n",
       "170       0.317085     3  \n",
       "126       0.779419     2  \n",
       "67        0.301822     1  \n",
       "178       0.237814     3  \n",
       "54        0.476613     1  \n",
       "193       0.280650     3  \n",
       "208       0.258493     3  \n",
       "100       0.541113     2  \n",
       "14        0.150665     1  \n",
       "180       0.150665     3  \n",
       "119       0.886755     2  \n",
       "201       0.111275     3  \n",
       "114       0.884786     2  \n",
       "166       0.369769     3  \n",
       "29        0.284589     1  \n",
       "10        0.391433     1  \n",
       "192       0.301822     3  "
      ]
     },
     "execution_count": 14,
     "metadata": {},
     "output_type": "execute_result"
    }
   ],
   "source": [
    "wheat_tr.head(20)"
   ]
  },
  {
   "cell_type": "code",
   "execution_count": 15,
   "id": "ae3744da",
   "metadata": {},
   "outputs": [
    {
     "name": "stderr",
     "output_type": "stream",
     "text": [
      "C:\\Users\\YASHPU~1\\AppData\\Local\\Temp/ipykernel_12692/490317040.py:2: FutureWarning: In a future version of pandas all arguments of DataFrame.drop except for the argument 'labels' will be keyword-only\n",
      "  trainx,testx,trainy,testy = train_test_split(wheat_tr.drop('type',1),\n"
     ]
    }
   ],
   "source": [
    "#Split the data in train and test\n",
    "trainx,testx,trainy,testy = train_test_split(wheat_tr.drop('type',1),\n",
    "                                            wheat_tr.type,\n",
    "                                            test_size=0.25)"
   ]
  },
  {
   "cell_type": "code",
   "execution_count": 16,
   "id": "2db7798e",
   "metadata": {},
   "outputs": [
    {
     "data": {
      "text/plain": [
       "array([ 3,  5,  7,  9, 11])"
      ]
     },
     "execution_count": 16,
     "metadata": {},
     "output_type": "execute_result"
    }
   ],
   "source": [
    "# Determine the best value for K\n",
    "lst_k = np.arange(3,12,2);lst_k"
   ]
  },
  {
   "cell_type": "code",
   "execution_count": 17,
   "id": "0fd189c2",
   "metadata": {},
   "outputs": [],
   "source": [
    "cv_accuracy = []"
   ]
  },
  {
   "cell_type": "code",
   "execution_count": 18,
   "id": "177d5af7",
   "metadata": {},
   "outputs": [],
   "source": [
    "for k in lst_k:\n",
    "    model = neighbors.KNeighborsClassifier(n_neighbors=k)\n",
    "    scores = cross_val_score(model,trainx,trainy,cv =10 , scoring='accuracy')\n",
    "    cv_accuracy.append(scores.mean())\n",
    "    "
   ]
  },
  {
   "cell_type": "code",
   "execution_count": 19,
   "id": "fc3314d2",
   "metadata": {},
   "outputs": [
    {
     "name": "stdout",
     "output_type": "stream",
     "text": [
      "[0.9233333333333335, 0.9295833333333334, 0.9233333333333335, 0.9166666666666667, 0.93]\n"
     ]
    }
   ],
   "source": [
    "print(cv_accuracy)"
   ]
  },
  {
   "cell_type": "code",
   "execution_count": 20,
   "id": "13afa20a",
   "metadata": {},
   "outputs": [
    {
     "name": "stdout",
     "output_type": "stream",
     "text": [
      "Best K = 11\n"
     ]
    }
   ],
   "source": [
    "#Find the best K\n",
    "#(1)Using The list properties\n",
    "k = lst_k[cv_accuracy.index(max(cv_accuracy))]\n",
    "print(\"Best K = \"+str(k))"
   ]
  },
  {
   "cell_type": "code",
   "execution_count": 21,
   "id": "e25cedc1",
   "metadata": {},
   "outputs": [
    {
     "data": {
      "text/plain": [
       "Text(0, 0.5, 'K values')"
      ]
     },
     "execution_count": 21,
     "metadata": {},
     "output_type": "execute_result"
    },
    {
     "data": {
      "image/png": "[encoded data removed]",
      "text/plain": [
       "<Figure size 432x288 with 1 Axes>"
      ]
     },
     "metadata": {
      "needs_background": "light"
     },
     "output_type": "display_data"
    }
   ],
   "source": [
    "#(2)Plot the accuracy vs K values\n",
    "plt.plot(lst_k,cv_accuracy)\n",
    "plt.xlabel(\"Neighbour\")\n",
    "plt.ylabel(\"K values\")"
   ]
  },
  {
   "cell_type": "code",
   "execution_count": 22,
   "id": "c82eb0c1",
   "metadata": {},
   "outputs": [],
   "source": [
    "#build model and predcit using the best k \n",
    "m1 = neighbors.KNeighborsClassifier(n_neighbors=k).fit(trainx,trainy)"
   ]
  },
  {
   "cell_type": "code",
   "execution_count": 23,
   "id": "82f60204",
   "metadata": {},
   "outputs": [
    {
     "name": "stdout",
     "output_type": "stream",
     "text": [
      "KNeighborsClassifier(n_neighbors=11)\n"
     ]
    }
   ],
   "source": [
    "print(m1)"
   ]
  },
  {
   "cell_type": "code",
   "execution_count": 24,
   "id": "c9498487",
   "metadata": {},
   "outputs": [],
   "source": [
    "#In above model the default model is Euclidean Distance formulae\n",
    "#To change the formulae use HP  \"metric\"\n",
    "m1 = neighbors.KNeighborsClassifier(n_neighbors=k,metric=\"euclidean\").fit(trainx,trainy)"
   ]
  },
  {
   "cell_type": "code",
   "execution_count": 25,
   "id": "2a7f5663",
   "metadata": {},
   "outputs": [],
   "source": [
    "#predict \n",
    "p1 = m1.predict(testx)"
   ]
  },
  {
   "cell_type": "code",
   "execution_count": 26,
   "id": "45789620",
   "metadata": {},
   "outputs": [
    {
     "data": {
      "text/html": [
       "<div>\n",
       "<style scoped>\n",
       "    .dataframe tbody tr th:only-of-type {\n",
       "        vertical-align: middle;\n",
       "    }\n",
       "\n",
       "    .dataframe tbody tr th {\n",
       "        vertical-align: top;\n",
       "    }\n",
       "\n",
       "    .dataframe thead th {\n",
       "        text-align: right;\n",
       "    }\n",
       "</style>\n",
       "<table border=\"1\" class=\"dataframe\">\n",
       "  <thead>\n",
       "    <tr style=\"text-align: right;\">\n",
       "      <th>predicted</th>\n",
       "      <th>1</th>\n",
       "      <th>2</th>\n",
       "      <th>3</th>\n",
       "      <th>All</th>\n",
       "    </tr>\n",
       "    <tr>\n",
       "      <th>actual</th>\n",
       "      <th></th>\n",
       "      <th></th>\n",
       "      <th></th>\n",
       "      <th></th>\n",
       "    </tr>\n",
       "  </thead>\n",
       "  <tbody>\n",
       "    <tr>\n",
       "      <th>1</th>\n",
       "      <td>14</td>\n",
       "      <td>1</td>\n",
       "      <td>2</td>\n",
       "      <td>17</td>\n",
       "    </tr>\n",
       "    <tr>\n",
       "      <th>2</th>\n",
       "      <td>1</td>\n",
       "      <td>16</td>\n",
       "      <td>0</td>\n",
       "      <td>17</td>\n",
       "    </tr>\n",
       "    <tr>\n",
       "      <th>3</th>\n",
       "      <td>0</td>\n",
       "      <td>0</td>\n",
       "      <td>19</td>\n",
       "      <td>19</td>\n",
       "    </tr>\n",
       "    <tr>\n",
       "      <th>All</th>\n",
       "      <td>15</td>\n",
       "      <td>17</td>\n",
       "      <td>21</td>\n",
       "      <td>53</td>\n",
       "    </tr>\n",
       "  </tbody>\n",
       "</table>\n",
       "</div>"
      ],
      "text/plain": [
       "predicted   1   2   3  All\n",
       "actual                    \n",
       "1          14   1   2   17\n",
       "2           1  16   0   17\n",
       "3           0   0  19   19\n",
       "All        15  17  21   53"
      ]
     },
     "execution_count": 26,
     "metadata": {},
     "output_type": "execute_result"
    }
   ],
   "source": [
    "#create data frame to store the result and print the confusion matrix\n",
    "df = pd.DataFrame({'actual' : testy,'predicted':p1})\n",
    "\n",
    "pd.crosstab(df.actual,df.predicted,margins = True)"
   ]
  },
  {
   "cell_type": "code",
   "execution_count": 27,
   "id": "58fb58fd",
   "metadata": {},
   "outputs": [
    {
     "name": "stdout",
     "output_type": "stream",
     "text": [
      "Model Accuracy = 0.9245283018867925\n"
     ]
    }
   ],
   "source": [
    "#Accuracy\n",
    "print(\"Model Accuracy = {}\".format(accuracy_score(df.actual,df.predicted)))"
   ]
  },
  {
   "cell_type": "code",
   "execution_count": 28,
   "id": "c6b9f7f6",
   "metadata": {},
   "outputs": [
    {
     "name": "stdout",
     "output_type": "stream",
     "text": [
      "              precision    recall  f1-score   support\n",
      "\n",
      "           1       0.93      0.82      0.87        17\n",
      "           2       0.94      0.94      0.94        17\n",
      "           3       0.90      1.00      0.95        19\n",
      "\n",
      "    accuracy                           0.92        53\n",
      "   macro avg       0.93      0.92      0.92        53\n",
      "weighted avg       0.93      0.92      0.92        53\n",
      "\n"
     ]
    }
   ],
   "source": [
    "#Classification Report\n",
    "print(classification_report(df.actual,df.predicted))"
   ]
  },
  {
   "cell_type": "code",
   "execution_count": null,
   "id": "0be21e5c",
   "metadata": {},
   "outputs": [],
   "source": []
  }
 ],
 "metadata": {
  "kernelspec": {
   "display_name": "Python 3 (ipykernel)",
   "language": "python",
   "name": "python3"
  },
  "language_info": {
   "codemirror_mode": {
    "name": "ipython",
    "version": 3
   },
   "file_extension": ".py",
   "mimetype": "text/x-python",
   "name": "python",
   "nbconvert_exporter": "python",
   "pygments_lexer": "ipython3",
   "version": "3.9.7"
  }
 },
 "nbformat": 4,
 "nbformat_minor": 5
}
