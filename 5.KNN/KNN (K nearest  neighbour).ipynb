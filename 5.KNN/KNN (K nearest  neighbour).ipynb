{
 "cells": [
  {
   "cell_type": "markdown",
   "id": "d0e35058",
   "metadata": {},
   "source": [
    "# <center>KNN "
   ]
  },
  {
   "cell_type": "markdown",
   "id": "79ee60de",
   "metadata": {},
   "source": [
    "#### KNN works on the eucladian distance formulae <br>\n",
    "K stands for a positive integer >1(greater than 1) <br>\n",
    "K is the value as in the number of nearest neignbour <br>\n",
    "KNN is a binary and multi class classification technique<br>\n",
    "\n"
   ]
  },
  {
   "cell_type": "markdown",
   "id": "e351262a",
   "metadata": {},
   "source": [
    "### When to use KNN to classify your data\n",
    "1) DataSet Should be numeric <br>\n",
    "2) DataSet should be on the lower side i.e well suited for small dataset<br>\n",
    "3) Unit of Measure(UoM) :- Standardization of data should be done (transforming data into a fixed range)<br>\n",
    "    Fixed Range formulae :- 1)MinMax 2)Z-score 3)Sigmoid(not recommended)<br>\n",
    "4) There are no assumptions w.r.t data "
   ]
  },
  {
   "cell_type": "markdown",
   "id": "7b136d6a",
   "metadata": {},
   "source": [
    "#### Min Max = x<sub>i</sub> - min(age) / max(age)-min(age)\n",
    "\n",
    "#### Z-score  = x<sub>i</sub>- μ (average of obvs) / σ (std. deviation of obvs)"
   ]
  },
  {
   "cell_type": "code",
   "execution_count": 39,
   "id": "06e659dc",
   "metadata": {},
   "outputs": [],
   "source": [
    "#Importing libraries\n",
    "import numpy as np \n",
    "import pandas as pd \n",
    "from sklearn.model_selection import train_test_split,cross_val_score\n",
    "from sklearn import neighbors\n",
    "from sklearn.metrics import accuracy_score , classification_report\n",
    "import matplotlib.pyplot as plt\n",
    "from sklearn import preprocessing #used for data transformation"
   ]
  },
  {
   "cell_type": "code",
   "execution_count": 3,
   "id": "4f2fe76e",
   "metadata": {},
   "outputs": [],
   "source": [
    "filename = 'wheat.csv'"
   ]
  },
  {
   "cell_type": "code",
   "execution_count": 4,
   "id": "3b6aeb47",
   "metadata": {},
   "outputs": [],
   "source": [
    "wheat = pd.read_csv(filename)"
   ]
  },
  {
   "cell_type": "code",
   "execution_count": 5,
   "id": "eb230a15",
   "metadata": {},
   "outputs": [
    {
     "data": {
      "text/html": [
       "<div>\n",
       "<style scoped>\n",
       "    .dataframe tbody tr th:only-of-type {\n",
       "        vertical-align: middle;\n",
       "    }\n",
       "\n",
       "    .dataframe tbody tr th {\n",
       "        vertical-align: top;\n",
       "    }\n",
       "\n",
       "    .dataframe thead th {\n",
       "        text-align: right;\n",
       "    }\n",
       "</style>\n",
       "<table border=\"1\" class=\"dataframe\">\n",
       "  <thead>\n",
       "    <tr style=\"text-align: right;\">\n",
       "      <th></th>\n",
       "      <th>area</th>\n",
       "      <th>perimeter</th>\n",
       "      <th>compactness</th>\n",
       "      <th>kernel_len</th>\n",
       "      <th>kernel_width</th>\n",
       "      <th>asym_coeff</th>\n",
       "      <th>kernel_groove</th>\n",
       "      <th>type</th>\n",
       "    </tr>\n",
       "  </thead>\n",
       "  <tbody>\n",
       "    <tr>\n",
       "      <th>0</th>\n",
       "      <td>15.26</td>\n",
       "      <td>14.84</td>\n",
       "      <td>0.8710</td>\n",
       "      <td>5.763</td>\n",
       "      <td>3.312</td>\n",
       "      <td>2.221</td>\n",
       "      <td>5.220</td>\n",
       "      <td>1</td>\n",
       "    </tr>\n",
       "    <tr>\n",
       "      <th>1</th>\n",
       "      <td>14.88</td>\n",
       "      <td>14.57</td>\n",
       "      <td>0.8811</td>\n",
       "      <td>5.554</td>\n",
       "      <td>3.333</td>\n",
       "      <td>1.018</td>\n",
       "      <td>4.956</td>\n",
       "      <td>1</td>\n",
       "    </tr>\n",
       "    <tr>\n",
       "      <th>2</th>\n",
       "      <td>14.29</td>\n",
       "      <td>14.09</td>\n",
       "      <td>0.9050</td>\n",
       "      <td>5.291</td>\n",
       "      <td>3.337</td>\n",
       "      <td>2.699</td>\n",
       "      <td>4.825</td>\n",
       "      <td>1</td>\n",
       "    </tr>\n",
       "    <tr>\n",
       "      <th>3</th>\n",
       "      <td>13.84</td>\n",
       "      <td>13.94</td>\n",
       "      <td>0.8955</td>\n",
       "      <td>5.324</td>\n",
       "      <td>3.379</td>\n",
       "      <td>2.259</td>\n",
       "      <td>4.805</td>\n",
       "      <td>1</td>\n",
       "    </tr>\n",
       "    <tr>\n",
       "      <th>4</th>\n",
       "      <td>16.14</td>\n",
       "      <td>14.99</td>\n",
       "      <td>0.9034</td>\n",
       "      <td>5.658</td>\n",
       "      <td>3.562</td>\n",
       "      <td>1.355</td>\n",
       "      <td>5.175</td>\n",
       "      <td>1</td>\n",
       "    </tr>\n",
       "  </tbody>\n",
       "</table>\n",
       "</div>"
      ],
      "text/plain": [
       "    area  perimeter  compactness  kernel_len  kernel_width  asym_coeff  \\\n",
       "0  15.26      14.84       0.8710       5.763         3.312       2.221   \n",
       "1  14.88      14.57       0.8811       5.554         3.333       1.018   \n",
       "2  14.29      14.09       0.9050       5.291         3.337       2.699   \n",
       "3  13.84      13.94       0.8955       5.324         3.379       2.259   \n",
       "4  16.14      14.99       0.9034       5.658         3.562       1.355   \n",
       "\n",
       "   kernel_groove  type  \n",
       "0          5.220     1  \n",
       "1          4.956     1  \n",
       "2          4.825     1  \n",
       "3          4.805     1  \n",
       "4          5.175     1  "
      ]
     },
     "execution_count": 5,
     "metadata": {},
     "output_type": "execute_result"
    }
   ],
   "source": [
    "wheat.head()"
   ]
  },
  {
   "cell_type": "code",
   "execution_count": 6,
   "id": "c1b6da10",
   "metadata": {},
   "outputs": [
    {
     "data": {
      "text/plain": [
       "area             0\n",
       "perimeter        0\n",
       "compactness      0\n",
       "kernel_len       0\n",
       "kernel_width     0\n",
       "asym_coeff       0\n",
       "kernel_groove    0\n",
       "type             0\n",
       "dtype: int64"
      ]
     },
     "execution_count": 6,
     "metadata": {},
     "output_type": "execute_result"
    }
   ],
   "source": [
    "wheat.isna().sum()"
   ]
  },
  {
   "cell_type": "code",
   "execution_count": 8,
   "id": "caea7150",
   "metadata": {},
   "outputs": [
    {
     "data": {
      "text/plain": [
       "(210, 8)"
      ]
     },
     "execution_count": 8,
     "metadata": {},
     "output_type": "execute_result"
    }
   ],
   "source": [
    "#Check the dimensions \n",
    "wheat.shape"
   ]
  },
  {
   "cell_type": "code",
   "execution_count": 9,
   "id": "9b4348b8",
   "metadata": {},
   "outputs": [
    {
     "data": {
      "text/plain": [
       "area             float64\n",
       "perimeter        float64\n",
       "compactness      float64\n",
       "kernel_len       float64\n",
       "kernel_width     float64\n",
       "asym_coeff       float64\n",
       "kernel_groove    float64\n",
       "type               int64\n",
       "dtype: object"
      ]
     },
     "execution_count": 9,
     "metadata": {},
     "output_type": "execute_result"
    }
   ],
   "source": [
    "wheat.dtypes"
   ]
  },
  {
   "cell_type": "code",
   "execution_count": 10,
   "id": "5c8ab30e",
   "metadata": {},
   "outputs": [
    {
     "data": {
      "text/plain": [
       "1    70\n",
       "2    70\n",
       "3    70\n",
       "Name: type, dtype: int64"
      ]
     },
     "execution_count": 10,
     "metadata": {},
     "output_type": "execute_result"
    }
   ],
   "source": [
    "#Distribution of class\n",
    "wheat.type.value_counts()"
   ]
  },
  {
   "cell_type": "code",
   "execution_count": 11,
   "id": "29063467",
   "metadata": {},
   "outputs": [],
   "source": [
    "#data Transformation \n",
    "wheat_tr = wheat.copy() # First make a copy of dataset then transform"
   ]
  },
  {
   "cell_type": "code",
   "execution_count": 12,
   "id": "397c2cad",
   "metadata": {},
   "outputs": [],
   "source": [
    "#Standard Scaler\n",
    "\n",
    "#Creating a instance of Standard Scaler \n",
    "ss = preprocessing.StandardScaler()"
   ]
  },
  {
   "cell_type": "code",
   "execution_count": 13,
   "id": "7d39f0dc",
   "metadata": {},
   "outputs": [],
   "source": [
    "tr_data = ss.fit_transform(wheat_tr.iloc[:,:])"
   ]
  },
  {
   "cell_type": "code",
   "execution_count": 14,
   "id": "36818ab5",
   "metadata": {},
   "outputs": [],
   "source": [
    "wheat_tr.iloc[:,:] = tr_data"
   ]
  },
  {
   "cell_type": "code",
   "execution_count": 15,
   "id": "1a8f8ced",
   "metadata": {},
   "outputs": [
    {
     "data": {
      "text/html": [
       "<div>\n",
       "<style scoped>\n",
       "    .dataframe tbody tr th:only-of-type {\n",
       "        vertical-align: middle;\n",
       "    }\n",
       "\n",
       "    .dataframe tbody tr th {\n",
       "        vertical-align: top;\n",
       "    }\n",
       "\n",
       "    .dataframe thead th {\n",
       "        text-align: right;\n",
       "    }\n",
       "</style>\n",
       "<table border=\"1\" class=\"dataframe\">\n",
       "  <thead>\n",
       "    <tr style=\"text-align: right;\">\n",
       "      <th></th>\n",
       "      <th>area</th>\n",
       "      <th>perimeter</th>\n",
       "      <th>compactness</th>\n",
       "      <th>kernel_len</th>\n",
       "      <th>kernel_width</th>\n",
       "      <th>asym_coeff</th>\n",
       "      <th>kernel_groove</th>\n",
       "      <th>type</th>\n",
       "    </tr>\n",
       "  </thead>\n",
       "  <tbody>\n",
       "    <tr>\n",
       "      <th>0</th>\n",
       "      <td>0.142098</td>\n",
       "      <td>0.215462</td>\n",
       "      <td>0.000061</td>\n",
       "      <td>0.304218</td>\n",
       "      <td>0.141702</td>\n",
       "      <td>-0.986152</td>\n",
       "      <td>-0.383577</td>\n",
       "      <td>-1.224745</td>\n",
       "    </tr>\n",
       "    <tr>\n",
       "      <th>1</th>\n",
       "      <td>0.011188</td>\n",
       "      <td>0.008224</td>\n",
       "      <td>0.428515</td>\n",
       "      <td>-0.168625</td>\n",
       "      <td>0.197432</td>\n",
       "      <td>-1.788166</td>\n",
       "      <td>-0.922013</td>\n",
       "      <td>-1.224745</td>\n",
       "    </tr>\n",
       "    <tr>\n",
       "      <th>2</th>\n",
       "      <td>-0.192067</td>\n",
       "      <td>-0.360201</td>\n",
       "      <td>1.442383</td>\n",
       "      <td>-0.763637</td>\n",
       "      <td>0.208048</td>\n",
       "      <td>-0.667479</td>\n",
       "      <td>-1.189192</td>\n",
       "      <td>-1.224745</td>\n",
       "    </tr>\n",
       "    <tr>\n",
       "      <th>3</th>\n",
       "      <td>-0.347091</td>\n",
       "      <td>-0.475333</td>\n",
       "      <td>1.039381</td>\n",
       "      <td>-0.688978</td>\n",
       "      <td>0.319508</td>\n",
       "      <td>-0.960818</td>\n",
       "      <td>-1.229983</td>\n",
       "      <td>-1.224745</td>\n",
       "    </tr>\n",
       "    <tr>\n",
       "      <th>4</th>\n",
       "      <td>0.445257</td>\n",
       "      <td>0.330595</td>\n",
       "      <td>1.374509</td>\n",
       "      <td>0.066666</td>\n",
       "      <td>0.805159</td>\n",
       "      <td>-1.563495</td>\n",
       "      <td>-0.475356</td>\n",
       "      <td>-1.224745</td>\n",
       "    </tr>\n",
       "  </tbody>\n",
       "</table>\n",
       "</div>"
      ],
      "text/plain": [
       "       area  perimeter  compactness  kernel_len  kernel_width  asym_coeff  \\\n",
       "0  0.142098   0.215462     0.000061    0.304218      0.141702   -0.986152   \n",
       "1  0.011188   0.008224     0.428515   -0.168625      0.197432   -1.788166   \n",
       "2 -0.192067  -0.360201     1.442383   -0.763637      0.208048   -0.667479   \n",
       "3 -0.347091  -0.475333     1.039381   -0.688978      0.319508   -0.960818   \n",
       "4  0.445257   0.330595     1.374509    0.066666      0.805159   -1.563495   \n",
       "\n",
       "   kernel_groove      type  \n",
       "0      -0.383577 -1.224745  \n",
       "1      -0.922013 -1.224745  \n",
       "2      -1.189192 -1.224745  \n",
       "3      -1.229983 -1.224745  \n",
       "4      -0.475356 -1.224745  "
      ]
     },
     "execution_count": 15,
     "metadata": {},
     "output_type": "execute_result"
    }
   ],
   "source": [
    "#difference btwn actual and transformde data\n",
    "wheat.head()\n",
    "wheat_tr.head()"
   ]
  },
  {
   "cell_type": "code",
   "execution_count": 16,
   "id": "c8870031",
   "metadata": {},
   "outputs": [],
   "source": [
    "#Set y variable to its orignal format \n",
    "wheat_tr.type = wheat.type"
   ]
  },
  {
   "cell_type": "code",
   "execution_count": 18,
   "id": "0db7233e",
   "metadata": {},
   "outputs": [
    {
     "data": {
      "text/html": [
       "<div>\n",
       "<style scoped>\n",
       "    .dataframe tbody tr th:only-of-type {\n",
       "        vertical-align: middle;\n",
       "    }\n",
       "\n",
       "    .dataframe tbody tr th {\n",
       "        vertical-align: top;\n",
       "    }\n",
       "\n",
       "    .dataframe thead th {\n",
       "        text-align: right;\n",
       "    }\n",
       "</style>\n",
       "<table border=\"1\" class=\"dataframe\">\n",
       "  <thead>\n",
       "    <tr style=\"text-align: right;\">\n",
       "      <th></th>\n",
       "      <th>area</th>\n",
       "      <th>perimeter</th>\n",
       "      <th>compactness</th>\n",
       "      <th>kernel_len</th>\n",
       "      <th>kernel_width</th>\n",
       "      <th>asym_coeff</th>\n",
       "      <th>kernel_groove</th>\n",
       "      <th>type</th>\n",
       "    </tr>\n",
       "  </thead>\n",
       "  <tbody>\n",
       "    <tr>\n",
       "      <th>0</th>\n",
       "      <td>0.142098</td>\n",
       "      <td>0.215462</td>\n",
       "      <td>0.000061</td>\n",
       "      <td>0.304218</td>\n",
       "      <td>0.141702</td>\n",
       "      <td>-0.986152</td>\n",
       "      <td>-0.383577</td>\n",
       "      <td>1</td>\n",
       "    </tr>\n",
       "    <tr>\n",
       "      <th>1</th>\n",
       "      <td>0.011188</td>\n",
       "      <td>0.008224</td>\n",
       "      <td>0.428515</td>\n",
       "      <td>-0.168625</td>\n",
       "      <td>0.197432</td>\n",
       "      <td>-1.788166</td>\n",
       "      <td>-0.922013</td>\n",
       "      <td>1</td>\n",
       "    </tr>\n",
       "    <tr>\n",
       "      <th>2</th>\n",
       "      <td>-0.192067</td>\n",
       "      <td>-0.360201</td>\n",
       "      <td>1.442383</td>\n",
       "      <td>-0.763637</td>\n",
       "      <td>0.208048</td>\n",
       "      <td>-0.667479</td>\n",
       "      <td>-1.189192</td>\n",
       "      <td>1</td>\n",
       "    </tr>\n",
       "    <tr>\n",
       "      <th>3</th>\n",
       "      <td>-0.347091</td>\n",
       "      <td>-0.475333</td>\n",
       "      <td>1.039381</td>\n",
       "      <td>-0.688978</td>\n",
       "      <td>0.319508</td>\n",
       "      <td>-0.960818</td>\n",
       "      <td>-1.229983</td>\n",
       "      <td>1</td>\n",
       "    </tr>\n",
       "    <tr>\n",
       "      <th>4</th>\n",
       "      <td>0.445257</td>\n",
       "      <td>0.330595</td>\n",
       "      <td>1.374509</td>\n",
       "      <td>0.066666</td>\n",
       "      <td>0.805159</td>\n",
       "      <td>-1.563495</td>\n",
       "      <td>-0.475356</td>\n",
       "      <td>1</td>\n",
       "    </tr>\n",
       "  </tbody>\n",
       "</table>\n",
       "</div>"
      ],
      "text/plain": [
       "       area  perimeter  compactness  kernel_len  kernel_width  asym_coeff  \\\n",
       "0  0.142098   0.215462     0.000061    0.304218      0.141702   -0.986152   \n",
       "1  0.011188   0.008224     0.428515   -0.168625      0.197432   -1.788166   \n",
       "2 -0.192067  -0.360201     1.442383   -0.763637      0.208048   -0.667479   \n",
       "3 -0.347091  -0.475333     1.039381   -0.688978      0.319508   -0.960818   \n",
       "4  0.445257   0.330595     1.374509    0.066666      0.805159   -1.563495   \n",
       "\n",
       "   kernel_groove  type  \n",
       "0      -0.383577     1  \n",
       "1      -0.922013     1  \n",
       "2      -1.189192     1  \n",
       "3      -1.229983     1  \n",
       "4      -0.475356     1  "
      ]
     },
     "execution_count": 18,
     "metadata": {},
     "output_type": "execute_result"
    }
   ],
   "source": [
    "wheat_tr.head()"
   ]
  },
  {
   "cell_type": "code",
   "execution_count": 24,
   "id": "47fe146c",
   "metadata": {},
   "outputs": [],
   "source": [
    "#Shuffle the data \n",
    "wheat_tr = wheat_tr.sample(frac=1 )"
   ]
  },
  {
   "cell_type": "code",
   "execution_count": 25,
   "id": "7ad2d648",
   "metadata": {},
   "outputs": [
    {
     "data": {
      "text/html": [
       "<div>\n",
       "<style scoped>\n",
       "    .dataframe tbody tr th:only-of-type {\n",
       "        vertical-align: middle;\n",
       "    }\n",
       "\n",
       "    .dataframe tbody tr th {\n",
       "        vertical-align: top;\n",
       "    }\n",
       "\n",
       "    .dataframe thead th {\n",
       "        text-align: right;\n",
       "    }\n",
       "</style>\n",
       "<table border=\"1\" class=\"dataframe\">\n",
       "  <thead>\n",
       "    <tr style=\"text-align: right;\">\n",
       "      <th></th>\n",
       "      <th>area</th>\n",
       "      <th>perimeter</th>\n",
       "      <th>compactness</th>\n",
       "      <th>kernel_len</th>\n",
       "      <th>kernel_width</th>\n",
       "      <th>asym_coeff</th>\n",
       "      <th>kernel_groove</th>\n",
       "      <th>type</th>\n",
       "    </tr>\n",
       "  </thead>\n",
       "  <tbody>\n",
       "    <tr>\n",
       "      <th>124</th>\n",
       "      <td>0.393582</td>\n",
       "      <td>0.253840</td>\n",
       "      <td>1.501773</td>\n",
       "      <td>-0.600744</td>\n",
       "      <td>0.858236</td>\n",
       "      <td>-0.242805</td>\n",
       "      <td>-0.538582</td>\n",
       "      <td>2</td>\n",
       "    </tr>\n",
       "    <tr>\n",
       "      <th>42</th>\n",
       "      <td>-0.581351</td>\n",
       "      <td>-0.774678</td>\n",
       "      <td>1.268456</td>\n",
       "      <td>-1.109786</td>\n",
       "      <td>-0.152873</td>\n",
       "      <td>-0.826149</td>\n",
       "      <td>-1.274852</td>\n",
       "      <td>1</td>\n",
       "    </tr>\n",
       "    <tr>\n",
       "      <th>170</th>\n",
       "      <td>-1.318579</td>\n",
       "      <td>-1.196831</td>\n",
       "      <td>-2.210087</td>\n",
       "      <td>-0.686716</td>\n",
       "      <td>-1.479788</td>\n",
       "      <td>2.023236</td>\n",
       "      <td>-0.499831</td>\n",
       "      <td>3</td>\n",
       "    </tr>\n",
       "    <tr>\n",
       "      <th>40</th>\n",
       "      <td>-0.450441</td>\n",
       "      <td>-0.544413</td>\n",
       "      <td>0.683043</td>\n",
       "      <td>-0.634680</td>\n",
       "      <td>-0.272295</td>\n",
       "      <td>-0.742147</td>\n",
       "      <td>-0.469238</td>\n",
       "      <td>1</td>\n",
       "    </tr>\n",
       "    <tr>\n",
       "      <th>198</th>\n",
       "      <td>-0.767380</td>\n",
       "      <td>-0.682572</td>\n",
       "      <td>-0.971386</td>\n",
       "      <td>-0.494411</td>\n",
       "      <td>-0.922484</td>\n",
       "      <td>-0.262805</td>\n",
       "      <td>-0.361143</td>\n",
       "      <td>3</td>\n",
       "    </tr>\n",
       "    <tr>\n",
       "      <th>174</th>\n",
       "      <td>-1.384034</td>\n",
       "      <td>-1.227533</td>\n",
       "      <td>-2.591878</td>\n",
       "      <td>-0.793049</td>\n",
       "      <td>-1.639017</td>\n",
       "      <td>0.987884</td>\n",
       "      <td>-0.454961</td>\n",
       "      <td>3</td>\n",
       "    </tr>\n",
       "    <tr>\n",
       "      <th>127</th>\n",
       "      <td>1.079136</td>\n",
       "      <td>0.990689</td>\n",
       "      <td>1.200582</td>\n",
       "      <td>0.792898</td>\n",
       "      <td>1.136888</td>\n",
       "      <td>-0.962151</td>\n",
       "      <td>1.042054</td>\n",
       "      <td>2</td>\n",
       "    </tr>\n",
       "    <tr>\n",
       "      <th>90</th>\n",
       "      <td>1.809475</td>\n",
       "      <td>1.865696</td>\n",
       "      <td>0.152777</td>\n",
       "      <td>2.154866</td>\n",
       "      <td>1.396963</td>\n",
       "      <td>-1.163488</td>\n",
       "      <td>2.123006</td>\n",
       "      <td>2</td>\n",
       "    </tr>\n",
       "    <tr>\n",
       "      <th>179</th>\n",
       "      <td>-0.908625</td>\n",
       "      <td>-0.836082</td>\n",
       "      <td>-1.090166</td>\n",
       "      <td>-0.614319</td>\n",
       "      <td>-0.970252</td>\n",
       "      <td>-1.359492</td>\n",
       "      <td>-0.469238</td>\n",
       "      <td>3</td>\n",
       "    </tr>\n",
       "    <tr>\n",
       "      <th>164</th>\n",
       "      <td>-1.277239</td>\n",
       "      <td>-1.358016</td>\n",
       "      <td>-0.644742</td>\n",
       "      <td>-1.397111</td>\n",
       "      <td>-1.232982</td>\n",
       "      <td>1.791898</td>\n",
       "      <td>-0.732337</td>\n",
       "      <td>3</td>\n",
       "    </tr>\n",
       "    <tr>\n",
       "      <th>89</th>\n",
       "      <td>2.078184</td>\n",
       "      <td>1.911749</td>\n",
       "      <td>1.361783</td>\n",
       "      <td>1.858491</td>\n",
       "      <td>2.052459</td>\n",
       "      <td>0.877215</td>\n",
       "      <td>1.861946</td>\n",
       "      <td>2</td>\n",
       "    </tr>\n",
       "    <tr>\n",
       "      <th>204</th>\n",
       "      <td>-0.853505</td>\n",
       "      <td>-0.836082</td>\n",
       "      <td>-0.606563</td>\n",
       "      <td>-0.960467</td>\n",
       "      <td>-0.792446</td>\n",
       "      <td>0.145869</td>\n",
       "      <td>-0.830235</td>\n",
       "      <td>3</td>\n",
       "    </tr>\n",
       "    <tr>\n",
       "      <th>56</th>\n",
       "      <td>-0.133502</td>\n",
       "      <td>-0.160637</td>\n",
       "      <td>0.458210</td>\n",
       "      <td>-0.544184</td>\n",
       "      <td>0.314201</td>\n",
       "      <td>-0.598811</td>\n",
       "      <td>-0.742535</td>\n",
       "      <td>1</td>\n",
       "    </tr>\n",
       "    <tr>\n",
       "      <th>93</th>\n",
       "      <td>1.289281</td>\n",
       "      <td>1.144199</td>\n",
       "      <td>1.510257</td>\n",
       "      <td>0.924117</td>\n",
       "      <td>1.596000</td>\n",
       "      <td>1.533894</td>\n",
       "      <td>0.956394</td>\n",
       "      <td>2</td>\n",
       "    </tr>\n",
       "    <tr>\n",
       "      <th>70</th>\n",
       "      <td>0.958561</td>\n",
       "      <td>1.090470</td>\n",
       "      <td>-0.156898</td>\n",
       "      <td>1.272528</td>\n",
       "      <td>0.802505</td>\n",
       "      <td>0.250537</td>\n",
       "      <td>1.329628</td>\n",
       "      <td>2</td>\n",
       "    </tr>\n",
       "    <tr>\n",
       "      <th>141</th>\n",
       "      <td>-0.526231</td>\n",
       "      <td>-0.475333</td>\n",
       "      <td>-0.411426</td>\n",
       "      <td>-0.198036</td>\n",
       "      <td>-0.492563</td>\n",
       "      <td>2.223239</td>\n",
       "      <td>0.065119</td>\n",
       "      <td>3</td>\n",
       "    </tr>\n",
       "    <tr>\n",
       "      <th>116</th>\n",
       "      <td>1.416745</td>\n",
       "      <td>1.259331</td>\n",
       "      <td>1.556921</td>\n",
       "      <td>0.955791</td>\n",
       "      <td>1.694192</td>\n",
       "      <td>0.422540</td>\n",
       "      <td>0.697374</td>\n",
       "      <td>2</td>\n",
       "    </tr>\n",
       "    <tr>\n",
       "      <th>133</th>\n",
       "      <td>0.452147</td>\n",
       "      <td>0.591562</td>\n",
       "      <td>-0.279920</td>\n",
       "      <td>0.489735</td>\n",
       "      <td>0.361970</td>\n",
       "      <td>0.377206</td>\n",
       "      <td>0.789153</td>\n",
       "      <td>2</td>\n",
       "    </tr>\n",
       "    <tr>\n",
       "      <th>62</th>\n",
       "      <td>-0.856950</td>\n",
       "      <td>-1.050996</td>\n",
       "      <td>0.903633</td>\n",
       "      <td>-1.250055</td>\n",
       "      <td>-0.574832</td>\n",
       "      <td>-0.320140</td>\n",
       "      <td>-1.637889</td>\n",
       "      <td>1</td>\n",
       "    </tr>\n",
       "    <tr>\n",
       "      <th>168</th>\n",
       "      <td>-1.204895</td>\n",
       "      <td>-1.104725</td>\n",
       "      <td>-1.777390</td>\n",
       "      <td>-1.023814</td>\n",
       "      <td>-1.567364</td>\n",
       "      <td>0.424540</td>\n",
       "      <td>-0.563056</td>\n",
       "      <td>3</td>\n",
       "    </tr>\n",
       "  </tbody>\n",
       "</table>\n",
       "</div>"
      ],
      "text/plain": [
       "         area  perimeter  compactness  kernel_len  kernel_width  asym_coeff  \\\n",
       "124  0.393582   0.253840     1.501773   -0.600744      0.858236   -0.242805   \n",
       "42  -0.581351  -0.774678     1.268456   -1.109786     -0.152873   -0.826149   \n",
       "170 -1.318579  -1.196831    -2.210087   -0.686716     -1.479788    2.023236   \n",
       "40  -0.450441  -0.544413     0.683043   -0.634680     -0.272295   -0.742147   \n",
       "198 -0.767380  -0.682572    -0.971386   -0.494411     -0.922484   -0.262805   \n",
       "174 -1.384034  -1.227533    -2.591878   -0.793049     -1.639017    0.987884   \n",
       "127  1.079136   0.990689     1.200582    0.792898      1.136888   -0.962151   \n",
       "90   1.809475   1.865696     0.152777    2.154866      1.396963   -1.163488   \n",
       "179 -0.908625  -0.836082    -1.090166   -0.614319     -0.970252   -1.359492   \n",
       "164 -1.277239  -1.358016    -0.644742   -1.397111     -1.232982    1.791898   \n",
       "89   2.078184   1.911749     1.361783    1.858491      2.052459    0.877215   \n",
       "204 -0.853505  -0.836082    -0.606563   -0.960467     -0.792446    0.145869   \n",
       "56  -0.133502  -0.160637     0.458210   -0.544184      0.314201   -0.598811   \n",
       "93   1.289281   1.144199     1.510257    0.924117      1.596000    1.533894   \n",
       "70   0.958561   1.090470    -0.156898    1.272528      0.802505    0.250537   \n",
       "141 -0.526231  -0.475333    -0.411426   -0.198036     -0.492563    2.223239   \n",
       "116  1.416745   1.259331     1.556921    0.955791      1.694192    0.422540   \n",
       "133  0.452147   0.591562    -0.279920    0.489735      0.361970    0.377206   \n",
       "62  -0.856950  -1.050996     0.903633   -1.250055     -0.574832   -0.320140   \n",
       "168 -1.204895  -1.104725    -1.777390   -1.023814     -1.567364    0.424540   \n",
       "\n",
       "     kernel_groove  type  \n",
       "124      -0.538582     2  \n",
       "42       -1.274852     1  \n",
       "170      -0.499831     3  \n",
       "40       -0.469238     1  \n",
       "198      -0.361143     3  \n",
       "174      -0.454961     3  \n",
       "127       1.042054     2  \n",
       "90        2.123006     2  \n",
       "179      -0.469238     3  \n",
       "164      -0.732337     3  \n",
       "89        1.861946     2  \n",
       "204      -0.830235     3  \n",
       "56       -0.742535     1  \n",
       "93        0.956394     2  \n",
       "70        1.329628     2  \n",
       "141       0.065119     3  \n",
       "116       0.697374     2  \n",
       "133       0.789153     2  \n",
       "62       -1.637889     1  \n",
       "168      -0.563056     3  "
      ]
     },
     "execution_count": 25,
     "metadata": {},
     "output_type": "execute_result"
    }
   ],
   "source": [
    "wheat_tr.head(20)"
   ]
  },
  {
   "cell_type": "code",
   "execution_count": 26,
   "id": "49768c02",
   "metadata": {},
   "outputs": [
    {
     "name": "stderr",
     "output_type": "stream",
     "text": [
      "C:\\Users\\YASHPU~1\\AppData\\Local\\Temp/ipykernel_5828/490317040.py:2: FutureWarning: In a future version of pandas all arguments of DataFrame.drop except for the argument 'labels' will be keyword-only\n",
      "  trainx,testx,trainy,testy = train_test_split(wheat_tr.drop('type',1),\n"
     ]
    }
   ],
   "source": [
    "#Split the data in train and test\n",
    "trainx,testx,trainy,testy = train_test_split(wheat_tr.drop('type',1),\n",
    "                                            wheat_tr.type,\n",
    "                                            test_size=0.25)"
   ]
  },
  {
   "cell_type": "code",
   "execution_count": 27,
   "id": "a9e98b44",
   "metadata": {},
   "outputs": [
    {
     "data": {
      "text/plain": [
       "((157, 7), (157,))"
      ]
     },
     "execution_count": 27,
     "metadata": {},
     "output_type": "execute_result"
    }
   ],
   "source": [
    "(trainx.shape,trainy.shape)"
   ]
  },
  {
   "cell_type": "code",
   "execution_count": 28,
   "id": "99da67fc",
   "metadata": {},
   "outputs": [
    {
     "data": {
      "text/plain": [
       "((53, 7), (53,))"
      ]
     },
     "execution_count": 28,
     "metadata": {},
     "output_type": "execute_result"
    }
   ],
   "source": [
    "(testx.shape,testy.shape)"
   ]
  },
  {
   "cell_type": "code",
   "execution_count": 29,
   "id": "4aa37107",
   "metadata": {},
   "outputs": [
    {
     "data": {
      "text/plain": [
       "array([ 3,  5,  7,  9, 11])"
      ]
     },
     "execution_count": 29,
     "metadata": {},
     "output_type": "execute_result"
    }
   ],
   "source": [
    "# Determine the best value for K\n",
    "lst_k = np.arange(3,12,2);lst_k"
   ]
  },
  {
   "cell_type": "code",
   "execution_count": 30,
   "id": "ac1030fd",
   "metadata": {},
   "outputs": [],
   "source": [
    "#Store accuracy value for every K.The maximum accuracy = value of K\n",
    "cv_accuracy = []"
   ]
  },
  {
   "cell_type": "code",
   "execution_count": 31,
   "id": "ab2ad146",
   "metadata": {},
   "outputs": [],
   "source": [
    "for k in lst_k:\n",
    "    model = neighbors.KNeighborsClassifier(n_neighbors=k)\n",
    "    scores = cross_val_score(model,trainx,trainy,cv =10 , scoring='accuracy')\n",
    "    cv_accuracy.append(scores.mean())\n",
    "    "
   ]
  },
  {
   "cell_type": "code",
   "execution_count": 32,
   "id": "51ad6d0d",
   "metadata": {},
   "outputs": [
    {
     "name": "stdout",
     "output_type": "stream",
     "text": [
      "[0.9433333333333334, 0.9308333333333334, 0.9308333333333334, 0.9245833333333333, 0.9241666666666667]\n"
     ]
    }
   ],
   "source": [
    "print(cv_accuracy)"
   ]
  },
  {
   "cell_type": "code",
   "execution_count": 78,
   "id": "792a3874",
   "metadata": {},
   "outputs": [
    {
     "name": "stdout",
     "output_type": "stream",
     "text": [
      "Best K = 3\n"
     ]
    }
   ],
   "source": [
    "#Find the best K\n",
    "#(1)Using The list properties\n",
    "k = lst_k[cv_accuracy.index(max(cv_accuracy))]\n",
    "print(\"Best K = \"+str(k))"
   ]
  },
  {
   "cell_type": "code",
   "execution_count": 79,
   "id": "dc8fef1a",
   "metadata": {},
   "outputs": [
    {
     "data": {
      "text/plain": [
       "Text(0, 0.5, 'K values')"
      ]
     },
     "execution_count": 79,
     "metadata": {},
     "output_type": "execute_result"
    },
    {
     "data": {
      "image/png": "[encoded data removed]",
      "text/plain": [
       "<Figure size 432x288 with 1 Axes>"
      ]
     },
     "metadata": {
      "needs_background": "light"
     },
     "output_type": "display_data"
    }
   ],
   "source": [
    "#(2)Plot the accuracy vs K values\n",
    "plt.plot(lst_k,cv_accuracy)\n",
    "plt.xlabel(\"Neighbour\")\n",
    "plt.ylabel(\"K values\")"
   ]
  },
  {
   "cell_type": "code",
   "execution_count": 80,
   "id": "b7a3e69b",
   "metadata": {},
   "outputs": [],
   "source": [
    "#build model and predcit using the best k \n",
    "m1 = neighbors.KNeighborsClassifier(n_neighbors=k).fit(trainx,trainy)"
   ]
  },
  {
   "cell_type": "code",
   "execution_count": 81,
   "id": "3f40e85e",
   "metadata": {},
   "outputs": [
    {
     "name": "stdout",
     "output_type": "stream",
     "text": [
      "KNeighborsClassifier(n_neighbors=3)\n"
     ]
    }
   ],
   "source": [
    "print(m1)"
   ]
  },
  {
   "cell_type": "code",
   "execution_count": 82,
   "id": "ecd18ed4",
   "metadata": {},
   "outputs": [],
   "source": [
    "#In above model the default model is Euclidean Distance formulae\n",
    "#To change the formulae use HP  \"metric\"\n",
    "m1 = neighbors.KNeighborsClassifier(n_neighbors=k,metric=\"euclidean\").fit(trainx,trainy)"
   ]
  },
  {
   "cell_type": "code",
   "execution_count": 83,
   "id": "aca09698",
   "metadata": {},
   "outputs": [],
   "source": [
    "#predict \n",
    "p1 = m1.predict(testx)"
   ]
  },
  {
   "cell_type": "code",
   "execution_count": 84,
   "id": "44151fa8",
   "metadata": {},
   "outputs": [
    {
     "data": {
      "text/html": [
       "<div>\n",
       "<style scoped>\n",
       "    .dataframe tbody tr th:only-of-type {\n",
       "        vertical-align: middle;\n",
       "    }\n",
       "\n",
       "    .dataframe tbody tr th {\n",
       "        vertical-align: top;\n",
       "    }\n",
       "\n",
       "    .dataframe thead th {\n",
       "        text-align: right;\n",
       "    }\n",
       "</style>\n",
       "<table border=\"1\" class=\"dataframe\">\n",
       "  <thead>\n",
       "    <tr style=\"text-align: right;\">\n",
       "      <th>predicted</th>\n",
       "      <th>1</th>\n",
       "      <th>2</th>\n",
       "      <th>3</th>\n",
       "      <th>All</th>\n",
       "    </tr>\n",
       "    <tr>\n",
       "      <th>actual</th>\n",
       "      <th></th>\n",
       "      <th></th>\n",
       "      <th></th>\n",
       "      <th></th>\n",
       "    </tr>\n",
       "  </thead>\n",
       "  <tbody>\n",
       "    <tr>\n",
       "      <th>1</th>\n",
       "      <td>19</td>\n",
       "      <td>0</td>\n",
       "      <td>2</td>\n",
       "      <td>21</td>\n",
       "    </tr>\n",
       "    <tr>\n",
       "      <th>2</th>\n",
       "      <td>1</td>\n",
       "      <td>20</td>\n",
       "      <td>0</td>\n",
       "      <td>21</td>\n",
       "    </tr>\n",
       "    <tr>\n",
       "      <th>3</th>\n",
       "      <td>1</td>\n",
       "      <td>0</td>\n",
       "      <td>10</td>\n",
       "      <td>11</td>\n",
       "    </tr>\n",
       "    <tr>\n",
       "      <th>All</th>\n",
       "      <td>21</td>\n",
       "      <td>20</td>\n",
       "      <td>12</td>\n",
       "      <td>53</td>\n",
       "    </tr>\n",
       "  </tbody>\n",
       "</table>\n",
       "</div>"
      ],
      "text/plain": [
       "predicted   1   2   3  All\n",
       "actual                    \n",
       "1          19   0   2   21\n",
       "2           1  20   0   21\n",
       "3           1   0  10   11\n",
       "All        21  20  12   53"
      ]
     },
     "execution_count": 84,
     "metadata": {},
     "output_type": "execute_result"
    }
   ],
   "source": [
    "#create data frame to store the result and print the confusion matrix\n",
    "df = pd.DataFrame({'actual' : testy,'predicted':p1})\n",
    "\n",
    "pd.crosstab(df.actual,df.predicted,margins = True)"
   ]
  },
  {
   "cell_type": "code",
   "execution_count": 85,
   "id": "10564d0c",
   "metadata": {},
   "outputs": [
    {
     "name": "stdout",
     "output_type": "stream",
     "text": [
      "Model Accuracy = 0.9245283018867925\n"
     ]
    }
   ],
   "source": [
    "#Accuracy\n",
    "print(\"Model Accuracy = {}\".format(accuracy_score(df.actual,df.predicted)))"
   ]
  },
  {
   "cell_type": "code",
   "execution_count": 86,
   "id": "b0a8f4d5",
   "metadata": {},
   "outputs": [
    {
     "name": "stdout",
     "output_type": "stream",
     "text": [
      "              precision    recall  f1-score   support\n",
      "\n",
      "           1       0.90      0.90      0.90        21\n",
      "           2       1.00      0.95      0.98        21\n",
      "           3       0.83      0.91      0.87        11\n",
      "\n",
      "    accuracy                           0.92        53\n",
      "   macro avg       0.91      0.92      0.92        53\n",
      "weighted avg       0.93      0.92      0.93        53\n",
      "\n"
     ]
    }
   ],
   "source": [
    "#Classification Report\n",
    "print(classification_report(df.actual,df.predicted))"
   ]
  },
  {
   "cell_type": "code",
   "execution_count": 54,
   "id": "6027930e",
   "metadata": {},
   "outputs": [],
   "source": [
    "#Class Exercise \n",
    "#1)Build model using minmax scaler\n",
    "#2) build on orignal data set \n"
   ]
  },
  {
   "cell_type": "code",
   "execution_count": 55,
   "id": "32355cbc",
   "metadata": {},
   "outputs": [],
   "source": [
    "ms = preprocessing.MinMaxScaler()"
   ]
  },
  {
   "cell_type": "code",
   "execution_count": 56,
   "id": "d0e7dfda",
   "metadata": {},
   "outputs": [],
   "source": [
    "tr_data = ms.fit_transform(wheat_tr.iloc[:,:])"
   ]
  },
  {
   "cell_type": "code",
   "execution_count": 57,
   "id": "d1a49179",
   "metadata": {},
   "outputs": [],
   "source": [
    "wheat_tr.iloc[:,:] = tr_data"
   ]
  },
  {
   "cell_type": "code",
   "execution_count": 58,
   "id": "5d89d8c0",
   "metadata": {},
   "outputs": [
    {
     "data": {
      "text/html": [
       "<div>\n",
       "<style scoped>\n",
       "    .dataframe tbody tr th:only-of-type {\n",
       "        vertical-align: middle;\n",
       "    }\n",
       "\n",
       "    .dataframe tbody tr th {\n",
       "        vertical-align: top;\n",
       "    }\n",
       "\n",
       "    .dataframe thead th {\n",
       "        text-align: right;\n",
       "    }\n",
       "</style>\n",
       "<table border=\"1\" class=\"dataframe\">\n",
       "  <thead>\n",
       "    <tr style=\"text-align: right;\">\n",
       "      <th></th>\n",
       "      <th>area</th>\n",
       "      <th>perimeter</th>\n",
       "      <th>compactness</th>\n",
       "      <th>kernel_len</th>\n",
       "      <th>kernel_width</th>\n",
       "      <th>asym_coeff</th>\n",
       "      <th>kernel_groove</th>\n",
       "      <th>type</th>\n",
       "    </tr>\n",
       "  </thead>\n",
       "  <tbody>\n",
       "    <tr>\n",
       "      <th>124</th>\n",
       "      <td>0.509915</td>\n",
       "      <td>0.512397</td>\n",
       "      <td>0.892015</td>\n",
       "      <td>0.261261</td>\n",
       "      <td>0.678546</td>\n",
       "      <td>0.334278</td>\n",
       "      <td>0.307730</td>\n",
       "      <td>0.5</td>\n",
       "    </tr>\n",
       "    <tr>\n",
       "      <th>42</th>\n",
       "      <td>0.242682</td>\n",
       "      <td>0.235537</td>\n",
       "      <td>0.842105</td>\n",
       "      <td>0.134572</td>\n",
       "      <td>0.406985</td>\n",
       "      <td>0.220507</td>\n",
       "      <td>0.129985</td>\n",
       "      <td>0.0</td>\n",
       "    </tr>\n",
       "    <tr>\n",
       "      <th>170</th>\n",
       "      <td>0.040604</td>\n",
       "      <td>0.121901</td>\n",
       "      <td>0.098004</td>\n",
       "      <td>0.239865</td>\n",
       "      <td>0.050606</td>\n",
       "      <td>0.776229</td>\n",
       "      <td>0.317085</td>\n",
       "      <td>1.0</td>\n",
       "    </tr>\n",
       "    <tr>\n",
       "      <th>40</th>\n",
       "      <td>0.278565</td>\n",
       "      <td>0.297521</td>\n",
       "      <td>0.716878</td>\n",
       "      <td>0.252815</td>\n",
       "      <td>0.374911</td>\n",
       "      <td>0.236890</td>\n",
       "      <td>0.324471</td>\n",
       "      <td>0.0</td>\n",
       "    </tr>\n",
       "    <tr>\n",
       "      <th>198</th>\n",
       "      <td>0.191690</td>\n",
       "      <td>0.260331</td>\n",
       "      <td>0.362976</td>\n",
       "      <td>0.287725</td>\n",
       "      <td>0.200285</td>\n",
       "      <td>0.330377</td>\n",
       "      <td>0.350566</td>\n",
       "      <td>1.0</td>\n",
       "    </tr>\n",
       "  </tbody>\n",
       "</table>\n",
       "</div>"
      ],
      "text/plain": [
       "         area  perimeter  compactness  kernel_len  kernel_width  asym_coeff  \\\n",
       "124  0.509915   0.512397     0.892015    0.261261      0.678546    0.334278   \n",
       "42   0.242682   0.235537     0.842105    0.134572      0.406985    0.220507   \n",
       "170  0.040604   0.121901     0.098004    0.239865      0.050606    0.776229   \n",
       "40   0.278565   0.297521     0.716878    0.252815      0.374911    0.236890   \n",
       "198  0.191690   0.260331     0.362976    0.287725      0.200285    0.330377   \n",
       "\n",
       "     kernel_groove  type  \n",
       "124       0.307730   0.5  \n",
       "42        0.129985   0.0  \n",
       "170       0.317085   1.0  \n",
       "40        0.324471   0.0  \n",
       "198       0.350566   1.0  "
      ]
     },
     "execution_count": 58,
     "metadata": {},
     "output_type": "execute_result"
    }
   ],
   "source": [
    "#difference btwn actual and transformde data\n",
    "wheat.head()\n",
    "wheat_tr.head()"
   ]
  },
  {
   "cell_type": "code",
   "execution_count": 59,
   "id": "51f1955b",
   "metadata": {},
   "outputs": [],
   "source": [
    "#Set y variable to its orignal format \n",
    "wheat_tr.type = wheat.type"
   ]
  },
  {
   "cell_type": "code",
   "execution_count": 60,
   "id": "a640d011",
   "metadata": {},
   "outputs": [],
   "source": [
    "#Shuffle the data \n",
    "wheat_tr = wheat_tr.sample(frac=1 )"
   ]
  },
  {
   "cell_type": "code",
   "execution_count": 61,
   "id": "c4a309a8",
   "metadata": {},
   "outputs": [
    {
     "name": "stderr",
     "output_type": "stream",
     "text": [
      "C:\\Users\\YASHPU~1\\AppData\\Local\\Temp/ipykernel_5828/490317040.py:2: FutureWarning: In a future version of pandas all arguments of DataFrame.drop except for the argument 'labels' will be keyword-only\n",
      "  trainx,testx,trainy,testy = train_test_split(wheat_tr.drop('type',1),\n"
     ]
    }
   ],
   "source": [
    "#Split the data in train and test\n",
    "trainx,testx,trainy,testy = train_test_split(wheat_tr.drop('type',1),\n",
    "                                            wheat_tr.type,\n",
    "                                            test_size=0.25)"
   ]
  },
  {
   "cell_type": "code",
   "execution_count": 62,
   "id": "0592389b",
   "metadata": {},
   "outputs": [
    {
     "data": {
      "text/plain": [
       "array([ 3,  5,  7,  9, 11])"
      ]
     },
     "execution_count": 62,
     "metadata": {},
     "output_type": "execute_result"
    }
   ],
   "source": [
    "# Determine the best value for K\n",
    "lst_k = np.arange(3,12,2);lst_k"
   ]
  },
  {
   "cell_type": "code",
   "execution_count": 63,
   "id": "4b962555",
   "metadata": {},
   "outputs": [],
   "source": [
    "cv_accuracy = []"
   ]
  },
  {
   "cell_type": "code",
   "execution_count": 64,
   "id": "0d33dc56",
   "metadata": {},
   "outputs": [],
   "source": [
    "for k in lst_k:\n",
    "    model = neighbors.KNeighborsClassifier(n_neighbors=k)\n",
    "    scores = cross_val_score(model,trainx,trainy,cv =10 , scoring='accuracy')\n",
    "    cv_accuracy.append(scores.mean())\n",
    "    "
   ]
  },
  {
   "cell_type": "code",
   "execution_count": 65,
   "id": "7641ff6d",
   "metadata": {},
   "outputs": [
    {
     "name": "stdout",
     "output_type": "stream",
     "text": [
      "[0.9554166666666667, 0.9237500000000001, 0.9237500000000001, 0.9366666666666668, 0.9433333333333334]\n"
     ]
    }
   ],
   "source": [
    "print(cv_accuracy)"
   ]
  },
  {
   "cell_type": "code",
   "execution_count": 66,
   "id": "7c1ed81d",
   "metadata": {},
   "outputs": [
    {
     "name": "stdout",
     "output_type": "stream",
     "text": [
      "Best K = 3\n"
     ]
    }
   ],
   "source": [
    "#Find the best K\n",
    "#(1)Using The list properties\n",
    "k = lst_k[cv_accuracy.index(max(cv_accuracy))]\n",
    "print(\"Best K = \"+str(k))"
   ]
  },
  {
   "cell_type": "code",
   "execution_count": 67,
   "id": "2f6cc029",
   "metadata": {},
   "outputs": [
    {
     "data": {
      "text/plain": [
       "Text(0, 0.5, 'K values')"
      ]
     },
     "execution_count": 67,
     "metadata": {},
     "output_type": "execute_result"
    },
    {
     "data": {
      "image/png": "[encoded data removed]",
      "text/plain": [
       "<Figure size 432x288 with 1 Axes>"
      ]
     },
     "metadata": {
      "needs_background": "light"
     },
     "output_type": "display_data"
    }
   ],
   "source": [
    "#(2)Plot the accuracy vs K values\n",
    "plt.plot(lst_k,cv_accuracy)\n",
    "plt.xlabel(\"Neighbour\")\n",
    "plt.ylabel(\"K values\")"
   ]
  },
  {
   "cell_type": "code",
   "execution_count": 68,
   "id": "88b57ef1",
   "metadata": {},
   "outputs": [],
   "source": [
    "#build model and predcit using the best k \n",
    "m1 = neighbors.KNeighborsClassifier(n_neighbors=k).fit(trainx,trainy)\n"
   ]
  },
  {
   "cell_type": "code",
   "execution_count": 69,
   "id": "3bd8f1c3",
   "metadata": {},
   "outputs": [
    {
     "name": "stdout",
     "output_type": "stream",
     "text": [
      "KNeighborsClassifier(n_neighbors=3)\n"
     ]
    }
   ],
   "source": [
    "print(m1)"
   ]
  },
  {
   "cell_type": "code",
   "execution_count": 70,
   "id": "78a300ba",
   "metadata": {},
   "outputs": [],
   "source": [
    "#In above model the default model is Euclidean Distance formulae\n",
    "#To change the formulae use HP  \"metric\"\n",
    "m1 = neighbors.KNeighborsClassifier(n_neighbors=k,metric=\"euclidean\").fit(trainx,trainy)"
   ]
  },
  {
   "cell_type": "code",
   "execution_count": 71,
   "id": "1ac21da3",
   "metadata": {},
   "outputs": [],
   "source": [
    "#predict \n",
    "pre1 = m1.predict(testx)"
   ]
  },
  {
   "cell_type": "code",
   "execution_count": 93,
   "id": "8017acc2",
   "metadata": {},
   "outputs": [
    {
     "data": {
      "text/html": [
       "<div>\n",
       "<style scoped>\n",
       "    .dataframe tbody tr th:only-of-type {\n",
       "        vertical-align: middle;\n",
       "    }\n",
       "\n",
       "    .dataframe tbody tr th {\n",
       "        vertical-align: top;\n",
       "    }\n",
       "\n",
       "    .dataframe thead th {\n",
       "        text-align: right;\n",
       "    }\n",
       "</style>\n",
       "<table border=\"1\" class=\"dataframe\">\n",
       "  <thead>\n",
       "    <tr style=\"text-align: right;\">\n",
       "      <th>predicted_mimx</th>\n",
       "      <th>1</th>\n",
       "      <th>2</th>\n",
       "      <th>3</th>\n",
       "      <th>All</th>\n",
       "    </tr>\n",
       "    <tr>\n",
       "      <th>actual</th>\n",
       "      <th></th>\n",
       "      <th></th>\n",
       "      <th></th>\n",
       "      <th></th>\n",
       "    </tr>\n",
       "  </thead>\n",
       "  <tbody>\n",
       "    <tr>\n",
       "      <th>1</th>\n",
       "      <td>19</td>\n",
       "      <td>0</td>\n",
       "      <td>2</td>\n",
       "      <td>21</td>\n",
       "    </tr>\n",
       "    <tr>\n",
       "      <th>2</th>\n",
       "      <td>1</td>\n",
       "      <td>20</td>\n",
       "      <td>0</td>\n",
       "      <td>21</td>\n",
       "    </tr>\n",
       "    <tr>\n",
       "      <th>3</th>\n",
       "      <td>1</td>\n",
       "      <td>0</td>\n",
       "      <td>10</td>\n",
       "      <td>11</td>\n",
       "    </tr>\n",
       "    <tr>\n",
       "      <th>All</th>\n",
       "      <td>21</td>\n",
       "      <td>20</td>\n",
       "      <td>12</td>\n",
       "      <td>53</td>\n",
       "    </tr>\n",
       "  </tbody>\n",
       "</table>\n",
       "</div>"
      ],
      "text/plain": [
       "predicted_mimx   1   2   3  All\n",
       "actual                         \n",
       "1               19   0   2   21\n",
       "2                1  20   0   21\n",
       "3                1   0  10   11\n",
       "All             21  20  12   53"
      ]
     },
     "execution_count": 93,
     "metadata": {},
     "output_type": "execute_result"
    }
   ],
   "source": [
    "#create data frame to store the result and print the confusion matrix\n",
    "df_mimx = pd.DataFrame({'actual' : testy,'predicted_mimx':pre1})\n",
    "\n",
    "pd.crosstab(df_mimx.actual,df_mimx.predicted_mimx,margins = True)"
   ]
  },
  {
   "cell_type": "code",
   "execution_count": 95,
   "id": "e124b286",
   "metadata": {},
   "outputs": [
    {
     "name": "stdout",
     "output_type": "stream",
     "text": [
      "Model Accuracy = 0.9245283018867925\n"
     ]
    }
   ],
   "source": [
    "#Accuracy\n",
    "print(\"Model Accuracy = {}\".format(accuracy_score(df_mimx.actual,df_mimx.predicted_mimx)))"
   ]
  },
  {
   "cell_type": "code",
   "execution_count": 74,
   "id": "f144cf31",
   "metadata": {},
   "outputs": [
    {
     "name": "stdout",
     "output_type": "stream",
     "text": [
      "              precision    recall  f1-score   support\n",
      "\n",
      "           1       0.90      0.90      0.90        21\n",
      "           2       1.00      0.95      0.98        21\n",
      "           3       0.83      0.91      0.87        11\n",
      "\n",
      "    accuracy                           0.92        53\n",
      "   macro avg       0.91      0.92      0.92        53\n",
      "weighted avg       0.93      0.92      0.93        53\n",
      "\n"
     ]
    }
   ],
   "source": [
    "#Classification Report\n",
    "print(classification_report(df.actual,df.predicted))"
   ]
  },
  {
   "cell_type": "code",
   "execution_count": 96,
   "id": "280f1f59",
   "metadata": {},
   "outputs": [
    {
     "ename": "AttributeError",
     "evalue": "'DataFrame' object has no attribute 'predicted_mimx'",
     "output_type": "error",
     "traceback": [
      "\u001b[1;31m---------------------------------------------------------------------------\u001b[0m",
      "\u001b[1;31mAttributeError\u001b[0m                            Traceback (most recent call last)",
      "\u001b[1;32mC:\\Users\\YASHPU~1\\AppData\\Local\\Temp/ipykernel_5828/1088132492.py\u001b[0m in \u001b[0;36m<module>\u001b[1;34m\u001b[0m\n\u001b[1;32m----> 1\u001b[1;33m df_= pd.DataFrame({'StandardScaler Accuracy':accuracy_score(df.actual,df.predicted_mimx),\n\u001b[0m\u001b[0;32m      2\u001b[0m                   'MinmaxScaler Accuracy ':accuracy_score(df_mimx.actual,df_mimx.predicted_mimx)})\n",
      "\u001b[1;32mD:\\Anaconda\\lib\\site-packages\\pandas\\core\\generic.py\u001b[0m in \u001b[0;36m__getattr__\u001b[1;34m(self, name)\u001b[0m\n\u001b[0;32m   5485\u001b[0m         ):\n\u001b[0;32m   5486\u001b[0m             \u001b[1;32mreturn\u001b[0m \u001b[0mself\u001b[0m\u001b[1;33m[\u001b[0m\u001b[0mname\u001b[0m\u001b[1;33m]\u001b[0m\u001b[1;33m\u001b[0m\u001b[1;33m\u001b[0m\u001b[0m\n\u001b[1;32m-> 5487\u001b[1;33m         \u001b[1;32mreturn\u001b[0m \u001b[0mobject\u001b[0m\u001b[1;33m.\u001b[0m\u001b[0m__getattribute__\u001b[0m\u001b[1;33m(\u001b[0m\u001b[0mself\u001b[0m\u001b[1;33m,\u001b[0m \u001b[0mname\u001b[0m\u001b[1;33m)\u001b[0m\u001b[1;33m\u001b[0m\u001b[1;33m\u001b[0m\u001b[0m\n\u001b[0m\u001b[0;32m   5488\u001b[0m \u001b[1;33m\u001b[0m\u001b[0m\n\u001b[0;32m   5489\u001b[0m     \u001b[1;32mdef\u001b[0m \u001b[0m__setattr__\u001b[0m\u001b[1;33m(\u001b[0m\u001b[0mself\u001b[0m\u001b[1;33m,\u001b[0m \u001b[0mname\u001b[0m\u001b[1;33m:\u001b[0m \u001b[0mstr\u001b[0m\u001b[1;33m,\u001b[0m \u001b[0mvalue\u001b[0m\u001b[1;33m)\u001b[0m \u001b[1;33m->\u001b[0m \u001b[1;32mNone\u001b[0m\u001b[1;33m:\u001b[0m\u001b[1;33m\u001b[0m\u001b[1;33m\u001b[0m\u001b[0m\n",
      "\u001b[1;31mAttributeError\u001b[0m: 'DataFrame' object has no attribute 'predicted_mimx'"
     ]
    }
   ],
   "source": [
    "df_= pd.DataFrame({'StandardScaler Accuracy':accuracy_score(df.actual,df.predicted_mimx),\n",
    "                  'MinmaxScaler Accuracy ':accuracy_score(df_mimx.actual,df_mimx.predicted_mimx)})"
   ]
  },
  {
   "cell_type": "code",
   "execution_count": null,
   "id": "2cd27a11",
   "metadata": {},
   "outputs": [],
   "source": []
  }
 ],
 "metadata": {
  "kernelspec": {
   "display_name": "Python 3 (ipykernel)",
   "language": "python",
   "name": "python3"
  },
  "language_info": {
   "codemirror_mode": {
    "name": "ipython",
    "version": 3
   },
   "file_extension": ".py",
   "mimetype": "text/x-python",
   "name": "python",
   "nbconvert_exporter": "python",
   "pygments_lexer": "ipython3",
   "version": "3.9.7"
  }
 },
 "nbformat": 4,
 "nbformat_minor": 5
}
